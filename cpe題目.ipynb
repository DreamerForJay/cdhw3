{
  "nbformat": 4,
  "nbformat_minor": 0,
  "metadata": {
    "colab": {
      "provenance": [],
      "include_colab_link": true
    },
    "kernelspec": {
      "name": "python3",
      "display_name": "Python 3"
    },
    "language_info": {
      "name": "python"
    }
  },
  "cells": [
    {
      "cell_type": "markdown",
      "metadata": {
        "id": "view-in-github",
        "colab_type": "text"
      },
      "source": [
        "<a href=\"https://colab.research.google.com/github/DreamerForJay/cdhw3/blob/main/cpe%E9%A1%8C%E7%9B%AE.ipynb\" target=\"_parent\"><img src=\"https://colab.research.google.com/assets/colab-badge.svg\" alt=\"Open In Colab\"/></a>"
      ]
    },
    {
      "cell_type": "markdown",
      "source": [
        "UVA11321 Sort! Sort!! and Sort!!!"
      ],
      "metadata": {
        "id": "Ndzhx2i4-u9S"
      }
    },
    {
      "cell_type": "code",
      "execution_count": null,
      "metadata": {
        "id": "XMcG8aWz-jzY"
      },
      "outputs": [],
      "source": [
        "\n",
        "#include<bits/stdc++.h>\n",
        "using namespace std;\n",
        "int a,b;\n",
        "int f(int x,int y){\n",
        "\tif(x%b!=y%b)return x%b<y%b;\n",
        "\telse{\n",
        "\t\tif(abs(x)%2!=abs(y)%2)return x%2;\n",
        "\t\tif(x%2==0&&y%2==0)return x<y;\n",
        "\t\telse return x>y;\n",
        "\t}\n",
        "}\n",
        "int main(){\n",
        "  while(cin>>a>>b){\n",
        "  \tvector<int>n(a);\n",
        "  \tfor(auto&i:n)cin>>i;\n",
        "  \tcout<<a<<\" \"<<b<<endl;\n",
        "  \tsort(n.begin(),n.end(),f);\n",
        "  \tfor(auto&i:n)cout<<i<<endl;\n",
        "  }\n",
        "}"
      ]
    },
    {
      "cell_type": "markdown",
      "source": [
        "UVA10055 Hashmat the brave warrior"
      ],
      "metadata": {
        "id": "vFSQZUaj-2d3"
      }
    },
    {
      "cell_type": "code",
      "source": [
        "#include<iostream>\n",
        "using namespace std;\n",
        "int main(){\n",
        "  long long int a,b;\n",
        "  while(cin>>a>>b){\n",
        "  \tcout<<abs(a-b)<<endl;\n",
        "  }\n",
        "}"
      ],
      "metadata": {
        "id": "-3L2NQvn_DMU"
      },
      "execution_count": null,
      "outputs": []
    },
    {
      "cell_type": "markdown",
      "source": [
        "UVA10783 Odd Sum"
      ],
      "metadata": {
        "id": "HoLSzCg8_ISv"
      }
    },
    {
      "cell_type": "code",
      "source": [
        "#include<iostream>\n",
        "using namespace std;\n",
        "int main(){\n",
        "  int t,a,b,k=1;cin>>t;\n",
        "  while(cin>>a>>b){\n",
        "  \tint sum=0;\n",
        "  \tfor(int i=a;i<=b;i++)\n",
        "  \t\tif(i%2==1)sum+=i;\n",
        "  \tcout<<\"Case \"<<k++<<\": \"<<sum<<endl;\n",
        "  }\n",
        "}"
      ],
      "metadata": {
        "id": "-0SD-kCw_KC-"
      },
      "execution_count": null,
      "outputs": []
    },
    {
      "cell_type": "markdown",
      "source": [
        "UVA10812 Beat the Spread!"
      ],
      "metadata": {
        "id": "7mZVGRkC_L9D"
      }
    },
    {
      "cell_type": "code",
      "source": [
        "#include<iostream>\n",
        "using namespace std;\n",
        "int main(){\n",
        "  int t,a,b;cin>>t;\n",
        "  while(cin>>a>>b){\n",
        "  \tif((a+b)%2==1||a<b)cout<<\"impossible\"<<endl;\n",
        "  \telse cout<<(a+b)/2<<\" \"<<(a-b)/2<<endl;\n",
        "  }\n",
        "}"
      ],
      "metadata": {
        "id": "9URNdJth_RJo"
      },
      "execution_count": null,
      "outputs": []
    },
    {
      "cell_type": "markdown",
      "source": [
        "UVA10071 Back to High School Physics"
      ],
      "metadata": {
        "id": "5pDYt487_U9L"
      }
    },
    {
      "cell_type": "code",
      "source": [
        "#include<iostream>\n",
        "using namespace std;\n",
        "int main(){\n",
        "  int a,b;\n",
        "  while(cin>>a>>b)cout<<a*2*b<<endl;\n",
        "}"
      ],
      "metadata": {
        "id": "Y3OQlWJg_YMU"
      },
      "execution_count": null,
      "outputs": []
    },
    {
      "cell_type": "markdown",
      "source": [
        "UVA11150 Cola"
      ],
      "metadata": {
        "id": "OGLKv0br_Z07"
      }
    },
    {
      "cell_type": "code",
      "source": [
        "#include<iostream>\n",
        "using namespace std;\n",
        "int main(){\n",
        "  int a;\n",
        "  while(cin>>a)cout<<a*3/2<<endl;\n",
        "}"
      ],
      "metadata": {
        "id": "jRKvEm_0_ep2"
      },
      "execution_count": null,
      "outputs": []
    },
    {
      "cell_type": "markdown",
      "source": [
        "UVA10190 Divide, But Not Quite Conquer!"
      ],
      "metadata": {
        "id": "6Hm-DM4w_lzH"
      }
    },
    {
      "cell_type": "code",
      "source": [
        "#include<iostream>\n",
        "using namespace std;\n",
        "int main(){\n",
        "  int a,b;\n",
        "  while(cin>>a>>b){\n",
        "  \tif(a<=1||b<=1){cout<<\"Boring!\"<<endl;continue;}\n",
        "  \tint t=a;\n",
        "  \twhile(t%b==0)t/=b;\n",
        "  \tif(t==1){\n",
        "  \t\tt=a;\n",
        "  \t\twhile(t%b==0){cout<<t<<\" \";t/=b;}\n",
        "  \t\tcout<<\"1\"<<endl;\n",
        "  \t}\n",
        "  \telse cout<<\"Boring!\"<<endl;\n",
        "  }\n",
        "}"
      ],
      "metadata": {
        "id": "N2UW3fc7_pAI"
      },
      "execution_count": null,
      "outputs": []
    },
    {
      "cell_type": "markdown",
      "source": [
        "UVA11461 Square Numbers"
      ],
      "metadata": {
        "id": "HGAtjhDO_w1a"
      }
    },
    {
      "cell_type": "code",
      "source": [
        "#include<iostream>\n",
        "#include<cmath>\n",
        "using namespace std;\n",
        "int main(){\n",
        "  int a,b;\n",
        "  while(cin>>a>>b,a,b){\n",
        "  \tint c=0,sum=0;\n",
        "  \tfor(int i=a;i<=b;i++){\n",
        "  \t\tc=sqrt(i);\n",
        "  \t\tif(c*c==i)sum++;\n",
        "  \t}\n",
        "  \tcout<<sum<<endl;\n",
        "  }\n",
        "}"
      ],
      "metadata": {
        "id": "DduQD3n9_yxk"
      },
      "execution_count": null,
      "outputs": []
    },
    {
      "cell_type": "markdown",
      "source": [
        "UVA100 The 3n + 1 problem"
      ],
      "metadata": {
        "id": "IdEJyfCa_3YU"
      }
    },
    {
      "cell_type": "code",
      "source": [
        "#include<iostream>\n",
        "#include<algorithm>\n",
        "using namespace std;\n",
        "int f(int n){\n",
        "\tif(n==1)return 1;\n",
        "\telse if(n%2==1)return f(3*n+1)+1;\n",
        "\telse return f(n/2)+1;\n",
        "}\n",
        "int main(){\n",
        "  int a,b;\n",
        "  while(cin>>a>>b){\n",
        "  \tint sum=0;\n",
        "  \tfor(int i=min(a,b);i<=max(a,b);i++)\n",
        "  \t\tsum=max(sum,f(i));\n",
        "  \tcout<<a<<\" \"<<b<<\" \"<<sum<<endl;\n",
        "  }\n",
        "}"
      ],
      "metadata": {
        "id": "FNlbiZoR_5_q"
      },
      "execution_count": null,
      "outputs": []
    },
    {
      "cell_type": "markdown",
      "source": [
        "UVA10931 Parity"
      ],
      "metadata": {
        "id": "2VXOJsTq_702"
      }
    },
    {
      "cell_type": "code",
      "source": [
        "#include<iostream>\n",
        "#include<bitset>\n",
        "using namespace std;\n",
        "int main(){\n",
        "  int a;\n",
        "  while(cin>>a,a){\n",
        "  \tbitset<64>b(a);\n",
        "  \tcout<<\"The parity of \"<<itoa(a,new char[128],2)<<\" is \"<<b.count()<<\" (mod 2).\"<<endl;\n",
        "  }\n",
        "}"
      ],
      "metadata": {
        "id": "9cbTEB3EAAxZ"
      },
      "execution_count": null,
      "outputs": []
    },
    {
      "cell_type": "markdown",
      "source": [
        "UVA12019 Doom's Day Algorithm"
      ],
      "metadata": {
        "id": "QrtiJPz2ADZr"
      }
    },
    {
      "cell_type": "code",
      "source": [
        "#include<iostream>\n",
        "using namespace std;\n",
        "int main(){\n",
        "  char name[7][10]={\"Sunday\",\"Monday\",\"Tuesday\",\"Wednesday\",\"Thursday\",\"Friday\",\"Saturday\"};\n",
        "  int monthday[]={31,28,31,30,31,30,31,31,30,31,30,31};\n",
        "  int t,month,day;cin>>t;\n",
        "  while(cin>>month>>day){\n",
        "  \tint sum=5;\n",
        "  \tfor(int i=1;i<month;i++)\n",
        "  \t\tsum+=monthday[i-1];\n",
        "  \tcout<<name[(sum+day)%7]<<endl;\n",
        "  }\n",
        "}"
      ],
      "metadata": {
        "id": "P2oTqtDYAGyU"
      },
      "execution_count": null,
      "outputs": []
    },
    {
      "cell_type": "markdown",
      "source": [
        "UVA10035 Primary Arithmetic"
      ],
      "metadata": {
        "id": "_IBshiHCAIO6"
      }
    },
    {
      "cell_type": "code",
      "source": [
        "#include<iostream>\n",
        "using namespace std;\n",
        "int main(){\n",
        "  int a,b;\n",
        "  while(cin>>a>>b,a,b){\n",
        "  \tint t=0,carry=0;\n",
        "  \twhile(a||b){\n",
        "  \t\tt+=a%10+b%10;\n",
        "  \t\tif(t/=10)carry++;\n",
        "  \t\ta/=10;b/=10;\n",
        "  \t}\n",
        "  \tif(carry==0)cout<<\"No carry operation.\"<<endl;\n",
        "  \telse if(carry==1)cout<<\"1 carry operation.\"<<endl;\n",
        "  \telse cout<<carry<<\" carry operations.\"<<endl;\n",
        "  }\n",
        "}"
      ],
      "metadata": {
        "id": "EUln8B9bALAD"
      },
      "execution_count": null,
      "outputs": []
    },
    {
      "cell_type": "markdown",
      "source": [
        "UVA10170 The Hotel with Infinite Rooms"
      ],
      "metadata": {
        "id": "sgf-zIL8ANLK"
      }
    },
    {
      "cell_type": "code",
      "source": [
        "#include<iostream>\n",
        "using namespace std;\n",
        "int main(){\n",
        "  long long int a,b;\n",
        "  while(cin>>a>>b){\n",
        "  \tlong long int t=a;\n",
        "  \twhile(a<b){\n",
        "  \t\tt++;\n",
        "  \t\ta+=t;\n",
        "  \t}\n",
        "  \tcout<<t<<endl;\n",
        "  }\n",
        "}"
      ],
      "metadata": {
        "id": "zoJ5o43LAQhU"
      },
      "execution_count": null,
      "outputs": []
    },
    {
      "cell_type": "markdown",
      "source": [
        "UVA10929 You can say 11"
      ],
      "metadata": {
        "id": "kV43KcqHATXL"
      }
    },
    {
      "cell_type": "code",
      "source": [
        "#include<iostream>\n",
        "using namespace std;\n",
        "int main(){\n",
        "  string s;\n",
        "  while(cin>>s,s!=\"0\"){\n",
        "  \tint a[2]={0,0};\n",
        "  \tfor(int i=0;i<s.size();i++)\n",
        "  \t\ta[i%2]+=s[i]-'0';\n",
        "  \tif(abs(a[1]-a[0])%11)cout<<s<<\" is not a multiple of 11.\"<<endl;\n",
        "  \telse cout<<s<<\" is a multiple of 11.\"<<endl;\n",
        "  }\n",
        "}"
      ],
      "metadata": {
        "id": "TTdJ5o86AVkd"
      },
      "execution_count": null,
      "outputs": []
    },
    {
      "cell_type": "markdown",
      "source": [
        "UVA10222 Decode the Mad man"
      ],
      "metadata": {
        "id": "rDlJblJPAba1"
      }
    },
    {
      "cell_type": "code",
      "source": [
        "#include<bits/stdc++.h>\n",
        "using namespace std;\n",
        "int main(){\n",
        "  char s[]=\"`1234567890-=qwertyuiop[]asdfghjkl;'zxcvbnm,./\";\n",
        "  char c;\n",
        "  while(cin.get(c)){\n",
        "  \tc=tolower(c);\n",
        "  \tchar *p=strchr(s,c);\n",
        "  \tif(p)cout<<*(p-2);\n",
        "  \telse cout<<c;\n",
        "  }\n",
        "}"
      ],
      "metadata": {
        "id": "QboogAp2AeO_"
      },
      "execution_count": null,
      "outputs": []
    },
    {
      "cell_type": "markdown",
      "source": [
        "UVA10252 Common Permutation"
      ],
      "metadata": {
        "id": "O4Fgh_3vAgPf"
      }
    },
    {
      "cell_type": "code",
      "source": [
        "#include<iostream>\n",
        "using namespace std;\n",
        "int main(){\n",
        "  string s1,s2;\n",
        "  while(getline(cin,s1)){\n",
        "  \tint a[26]={0},b[26]={0};\n",
        "  \tfor(int i=0;i<s1.size();i++)\n",
        "  \t\ta[(int)s1[i]-97]++;\n",
        "  \tgetline(cin,s2);\n",
        "  \tfor(int i=0;i<s2.size();i++)\n",
        "  \t\tb[(int)s2[i]-97]++;\n",
        "  \tfor(int i=0;i<26;i++){\n",
        "  \t\tfor(int j=0;j<a[i]&&j<b[i];j++){\n",
        "  \t\t\tcout<<(char)(i+97);\n",
        "  \t\t}\n",
        "  \t}\n",
        "  \tcout<<endl;\n",
        "  }\n",
        "}"
      ],
      "metadata": {
        "id": "kIZr_81WAlKo"
      },
      "execution_count": null,
      "outputs": []
    },
    {
      "cell_type": "markdown",
      "source": [
        "UVA272 TeX Quotes"
      ],
      "metadata": {
        "id": "zBC5XL_sAnSL"
      }
    },
    {
      "cell_type": "code",
      "source": [
        "#include<iostream>\n",
        "using namespace std;\n",
        "int main(){\n",
        "  char c;int d=0;\n",
        "  while(cin.get(c)){\n",
        "  \tif(c=='\"'){\n",
        "  \t\td++;\n",
        "  \t\tif(d%2==1)cout<<\"``\";\n",
        "  \t\telse cout<<\"''\";\n",
        "  \t}\n",
        "  \telse cout<<c;\n",
        "  }\n",
        "}"
      ],
      "metadata": {
        "id": "siY0Nx2qAoal"
      },
      "execution_count": null,
      "outputs": []
    },
    {
      "cell_type": "markdown",
      "source": [
        "UVA948 Fibonaccimal Base"
      ],
      "metadata": {
        "id": "9YqMogDcArY3"
      }
    },
    {
      "cell_type": "code",
      "source": [
        "#include<iostream>\n",
        "using namespace std;\n",
        "int main(){\n",
        "  int t,n,f[40]={0,1};cin>>t;\n",
        "  for(int i=2;i<=40;i++)\n",
        "  \tf[i]=f[i-1]+f[i-2];\n",
        "  while(cin>>n){\n",
        "  \tcout<<n<<\" = \";\n",
        "  \tint c=0;\n",
        "  \tfor(int i=40;i>=2;i--){\n",
        "  \t\tif(n>=f[i]){cout<<\"1\";n-=f[i];c=1;}\n",
        "  \t\telse if(c)cout<<\"0\";\n",
        "  \t}\n",
        "  \tcout<<\" (fib)\"<<endl;\n",
        "  }\n",
        "}"
      ],
      "metadata": {
        "id": "DMtY5b65Atmh"
      },
      "execution_count": null,
      "outputs": []
    },
    {
      "cell_type": "markdown",
      "source": [
        "UVA10038 Jolly Jumpers"
      ],
      "metadata": {
        "id": "APmaCR3PAvsV"
      }
    },
    {
      "cell_type": "code",
      "source": [
        "#include<iostream>\n",
        "using namespace std;\n",
        "int main(){\n",
        "  int n,a[10005]={0};\n",
        "  while(cin>>n){\n",
        "  \tint m[10005]={0},c=0;\n",
        "  \tfor(int i=0;i<n;i++)\n",
        "  \t\tcin>>a[i];\n",
        "  \tfor(int i=1;i<n;i++)\n",
        "  \t\tm[abs(a[i]-a[i-1])]=1;\n",
        "  \tfor(int i=1;i<n;i++)\n",
        "  \t\tif(m[i]==0)c=1;\n",
        "  \tif(c)cout<<\"Not jolly\"<<endl;\n",
        "  \telse cout<<\"Jolly\"<<endl;\n",
        "  }\n",
        "}"
      ],
      "metadata": {
        "id": "boTMPzb-Azy-"
      },
      "execution_count": null,
      "outputs": []
    },
    {
      "cell_type": "markdown",
      "source": [
        "UVA11063 B2-Sequence*CPE48-23"
      ],
      "metadata": {
        "id": "zuPoaDbRA3WQ"
      }
    },
    {
      "cell_type": "code",
      "source": [
        "#include<iostream>\n",
        "using namespace std;\n",
        "int main(){\n",
        "  int t,a[10005]={0},b2=0,k=1;\n",
        "  while(cin>>t){\n",
        "  \tfor(int i=0;i<t;i++){\n",
        "  \t\tcin>>a[i];\n",
        "  \t\tif(a[i]<a[i-1])b2=1;\n",
        "  \t}\n",
        "  \tint m[10005]={0};\n",
        "  \tif(b2==0){\n",
        "  \t\tfor(int i=0;i<t;i++){\n",
        "  \t\t\tfor(int j=i;j<t;j++){\n",
        "  \t\t\t\tif(m[a[i]+a[j]]!=0)b2=1;\n",
        "  \t\t\t\tm[a[i]+a[j]]=1;\n",
        "  \t\t\t}\n",
        "  \t\t}\n",
        "  \t}\n",
        "  \tif(b2)cout<<\"Case #\"<<k++<<\": It is not a B2-Sequence.\\n\\n\";\n",
        "  \telse cout<<\"Case #\"<<k++<<\": It is a B2-Sequence.\\n\\n\";\n",
        "  }\n",
        "}"
      ],
      "metadata": {
        "id": "HcQaiulkA6XQ"
      },
      "execution_count": null,
      "outputs": []
    },
    {
      "cell_type": "markdown",
      "source": [
        "UVA10050 Hartals"
      ],
      "metadata": {
        "id": "pVhxobUEA74g"
      }
    },
    {
      "cell_type": "code",
      "source": [
        "#include<iostream>\n",
        "using namespace std;\n",
        "int main(){\n",
        "  int t,total,number,day;cin>>t;\n",
        "  while(cin>>total>>number){\n",
        "  \tint m[10005]={0},sum=0,c=0;\n",
        "  \twhile(number--){\n",
        "  \t\tcin>>day;\n",
        "  \t\tsum=day;\n",
        "  \t\twhile(day<=total){m[day]=1;day+=sum;}\n",
        "  \t}\n",
        "  \tfor(int i=0;i<=total;i++)\n",
        "  \t\tif(i%7!=0&&i%7!=6&&m[i]==1)c++;\n",
        "  \tcout<<c<<endl;\n",
        "  }\n",
        "}"
      ],
      "metadata": {
        "id": "uLPXgY3TA-z6"
      },
      "execution_count": null,
      "outputs": []
    },
    {
      "cell_type": "markdown",
      "source": [
        "UVA10922 2 the 9s"
      ],
      "metadata": {
        "id": "eZMbLR8eBAo0"
      }
    },
    {
      "cell_type": "code",
      "source": [
        "#include<iostream>\n",
        "using namespace std;\n",
        "int main(){\n",
        "  string s;\n",
        "  while(cin>>s,s!=\"0\"){\n",
        "  \tint sum=0,deg=1,t=0;\n",
        "  \tfor(int i=0;i<s.size();i++)\n",
        "  \t\tsum+=s[i]-'0';\n",
        "  \twhile(sum>9&&sum%9==0){\n",
        "  \t\tt=sum;sum=0;\n",
        "  \t\twhile(t){\n",
        "  \t\t\tsum+=t%10;\n",
        "  \t\t\tt/=10;\n",
        "  \t\t}\n",
        "  \t\tdeg++;\n",
        "  \t}\n",
        "  \tif(sum%9)cout<<s<<\" is not a multiple of 9.\"<<endl;\n",
        "  \telse cout<<s<<\" is a multiple of 9 and has 9-degree \"<<deg<<\".\"<<endl;\n",
        "  }\n",
        "}"
      ],
      "metadata": {
        "id": "IkFE5RV8BDy2"
      },
      "execution_count": null,
      "outputs": []
    },
    {
      "cell_type": "markdown",
      "source": [
        "UVA10221 Satellites"
      ],
      "metadata": {
        "id": "RkIx84qFBFz5"
      }
    },
    {
      "cell_type": "code",
      "source": [
        "#include<iostream>\n",
        "#include<cmath>\n",
        "using namespace std;\n",
        "int main(){\n",
        "  double n,a,b;string s;\n",
        "  while(cin>>a>>b>>s){\n",
        "  \ta+=6440;\n",
        "  \tif(s==\"min\")b/=60;\n",
        "  \tn=acos(-1)*b/180;\n",
        "  \tprintf(\"%.6f %.6f\\n\",a*n,2*a*sin(n/2));\n",
        "  }\n",
        "}"
      ],
      "metadata": {
        "id": "1DyTCFIWBIyQ"
      },
      "execution_count": null,
      "outputs": []
    },
    {
      "cell_type": "markdown",
      "source": [
        "UVA10062 Tell me the frequencies!"
      ],
      "metadata": {
        "id": "KiIoArsJBKjg"
      }
    },
    {
      "cell_type": "code",
      "source": [
        "#include<iostream>\n",
        "using namespace std;\n",
        "int main(){\n",
        "  char s[10005];bool first=true;\n",
        "  while(gets(s)){\n",
        "  \tif(first)first=false;\n",
        "  \telse cout<<endl;\n",
        "  \tint m[10005]={0},n=0;\n",
        "  \tfor(int i=0;s[i];i++){\n",
        "  \t\tm[s[i]]++;n++;\n",
        "  \t}\n",
        "  \tfor(int i=1;i<n;i++){\n",
        "  \t\tfor(int c=128;c;c--){\n",
        "  \t\t\tif(m[c]==i)cout<<c<<\" \"<<m[c]<<endl;\n",
        "  \t\t}\n",
        "  \t}\n",
        "  }\n",
        "}"
      ],
      "metadata": {
        "id": "iOeXIY71BPdY"
      },
      "execution_count": null,
      "outputs": []
    },
    {
      "cell_type": "markdown",
      "source": [
        "UVA10189 Minesweeper"
      ],
      "metadata": {
        "id": "SEK_3A4wBQ9z"
      }
    },
    {
      "cell_type": "code",
      "source": [
        "#include<bits/stdc++.h>\n",
        "using namespace std;\n",
        "int main(){\n",
        "  int rs,cs,k=1;map<int,map<int,char>>a;\n",
        "  while(cin>>rs>>cs,rs){\n",
        "  \tif(k>1)cout<<endl;\n",
        "  \tcout<<\"Field #\"<<k++<<\":\"<<endl;\n",
        "  \ta.clear();\n",
        "  \tfor(int r=0;r<rs;r++){\n",
        "  \t\tfor(int c=0;c<cs;c++){\n",
        "  \t\t\tcin>>a[r][c];\n",
        "  \t\t}\n",
        "  \t}\n",
        "  \tfor(int r=0;r<rs;r++){\n",
        "  \t\tfor(int c=0;c<cs;c++){\n",
        "  \t\t\tif(a[r][c]=='*'){cout<<\"*\";continue;}\n",
        "  \t\t\t#define a(r,c)(a[r][c]=='*')\n",
        "  \t\t\tint ans=a(r-1,c-1)+a(r-1,c)+a(r-1,c+1)+a(r,c-1)+a(r,c)+a(r,c+1)+a(r+1,c-1)+a(r+1,c)+a(r+1,c+1);\n",
        "  \t\t\tcout<<ans;\n",
        "  \t\t}\n",
        "  \t\tcout<<endl;\n",
        "  \t}\n",
        "  }\n",
        "}"
      ],
      "metadata": {
        "id": "0TgdyVpuBUNW"
      },
      "execution_count": null,
      "outputs": []
    },
    {
      "cell_type": "markdown",
      "source": [
        "UVA10041 Vito'sfamily"
      ],
      "metadata": {
        "id": "dCG_5-uWBVkx"
      }
    },
    {
      "cell_type": "code",
      "source": [
        "#include<bits/stdc++.h>\n",
        "using namespace std;\n",
        "int main(){\n",
        "  int t,n,a[10005];cin>>t;\n",
        "  while(cin>>n){\n",
        "  \tfor(int i=0;i<n;i++)\n",
        "  \t\tcin>>a[i];\n",
        "  \tsort(a,a+n);\n",
        "  \tint mid=a[n/2],c=0;\n",
        "  \tfor(int i=0;i<n;i++)\n",
        "  \t\tc+=abs(mid-a[i]);\n",
        "  \tcout<<c<<endl;\n",
        "  }\n",
        "}"
      ],
      "metadata": {
        "id": "1KXncrdyBY_-"
      },
      "execution_count": null,
      "outputs": []
    },
    {
      "cell_type": "markdown",
      "source": [
        "UVA10057 A mid-summer night’s dream"
      ],
      "metadata": {
        "id": "nYec8CoBBaf_"
      }
    },
    {
      "cell_type": "code",
      "source": [
        "#include<bits/stdc++.h>\n",
        "using namespace std;\n",
        "int main(){\n",
        "  int n,a[10005]={0};\n",
        "  while(cin>>n){\n",
        "  \tfor(int i=0;i<n;i++)\n",
        "  \t\tcin>>a[i];\n",
        "  \tsort(a,a+n);\n",
        "  \tint m1=a[n/2],m2=a[(n-1)/2],c=0;\n",
        "  \tfor(int i=0;i<n;i++)\n",
        "  \t\tif(a[i]==m1||a[i]==m2)c++;\n",
        "  \tcout<<m2<<\" \"<<c<<\" \"<<m1-m2+1<<endl;\n",
        "  }\n",
        "}"
      ],
      "metadata": {
        "id": "M9Via6ZmBdZX"
      },
      "execution_count": null,
      "outputs": []
    },
    {
      "cell_type": "markdown",
      "source": [
        "uva11332 Summing Digits"
      ],
      "metadata": {
        "id": "XpIUClSOBiwa"
      }
    },
    {
      "cell_type": "code",
      "source": [
        "#include<iostream>\n",
        "using namespace std;\n",
        "int main(){\n",
        "  long long int n;\n",
        "  while(cin>>n,n){\n",
        "  \twhile(n/10)n=n%10+n/10;\n",
        "  \tcout<<n<<endl;\n",
        "  }\n",
        "}"
      ],
      "metadata": {
        "id": "t1mpy9QdBkLr"
      },
      "execution_count": null,
      "outputs": []
    },
    {
      "cell_type": "markdown",
      "source": [
        "uva10235 Simply Emirp"
      ],
      "metadata": {
        "id": "HsQ3-xaXBlq0"
      }
    },
    {
      "cell_type": "code",
      "source": [
        "#include<iostream>\n",
        "using namespace std;\n",
        "int prime(int n){\n",
        "\tfor(int i=2;i<n;i++)\n",
        "\t\tif(n%i==0)return false;\n",
        "\t\treturn true;\n",
        "}\n",
        "int main(){\n",
        "  int n;\n",
        "  while(cin>>n){\n",
        "  \tint t=n,reverse=0;\n",
        "  \tcout<<n<<\" \";\n",
        "  \twhile(t){reverse=t%10+reverse*10;t/=10;}\n",
        "  \tif(prime(n))\n",
        "  \t\tif(prime(reverse))\n",
        "  \t\t\tif(n==reverse)cout<<\"is prime.\"<<endl;\n",
        "  \t\t\telse cout<<\"is emirp.\"<<endl;\n",
        "  \t\telse cout<<\"is prime.\"<<endl;\n",
        "  \telse cout<<\"is not prime.\"<<endl;\n",
        "  }\n",
        "}"
      ],
      "metadata": {
        "id": "trp7CrSLBooW"
      },
      "execution_count": null,
      "outputs": []
    },
    {
      "cell_type": "markdown",
      "source": [
        "uva11371 GCD"
      ],
      "metadata": {
        "id": "V0GaMQ3LBr9q"
      }
    },
    {
      "cell_type": "code",
      "source": [
        "#include<iostream>\n",
        "using namespace std;\n",
        "int gcd(int a,int b){\n",
        "\twhile((a=a%b)&&(b=b%a));\n",
        "\treturn a+b;\n",
        "}\n",
        "int main(){\n",
        "  int n;\n",
        "  while(cin>>n,n){\n",
        "  \tint sum=0;\n",
        "  \tfor(int i=1;i<n;i++)\n",
        "  \t\tfor(int j=i+1;j<=n;j++)\n",
        "  \t\t\tsum+=gcd(i,j);\n",
        "  \tcout<<sum<<endl;\n",
        "  }\n",
        "}"
      ],
      "metadata": {
        "id": "IrDLlSgTBuw2"
      },
      "execution_count": null,
      "outputs": []
    },
    {
      "cell_type": "markdown",
      "source": [
        "uva10193 All You Need Is Love"
      ],
      "metadata": {
        "id": "RDY_qiCZBwPH"
      }
    },
    {
      "cell_type": "code",
      "source": [
        "#include<bits/stdc++.h>\n",
        "using namespace std;\n",
        "int gcd(int a,int b){\n",
        "\twhile((a=a%b)&&(b=b%a));\n",
        "\treturn a+b;\n",
        "}\n",
        "int main(){\n",
        "  int t,k=1;cin>>t;\n",
        "  while(t--){\n",
        "  \tstring a,b;cin>>a>>b;\n",
        "  \tcout<<\"Pair #\"<<k++<<\": \";\n",
        "  \tbitset<32>b1(a);bitset<32>b2(b);\n",
        "  \tif(gcd(b1.to_ulong(),b2.to_ulong())>1)cout<<\"All you need is love!\"<<endl;\n",
        "  \telse cout<<\"Love is not all you need!\"<<endl;\n",
        "  }\n",
        "}"
      ],
      "metadata": {
        "id": "Dbyy7xT0Bzel"
      },
      "execution_count": null,
      "outputs": []
    },
    {
      "cell_type": "markdown",
      "source": [
        "uva10268 498'"
      ],
      "metadata": {
        "id": "ELQ8HwvqB1Ct"
      }
    },
    {
      "cell_type": "code",
      "source": [
        "#include<bits/stdc++.h>\n",
        "using namespace std;\n",
        "int main(){\n",
        "  int n,m;\n",
        "  while(cin>>n){\n",
        "  \tstring s;getline(cin,s);getline(cin,s);\n",
        "  \tstringstream din(s);\n",
        "  \tint c=0,d=0;\n",
        "  \twhile(din>>m)d++;d--;\n",
        "  \tstringstream ein(s);\n",
        "  \twhile(ein>>m){\n",
        "  \t\tif(d==0)break;\n",
        "  \t\telse c=c*n+d--*m;\n",
        "  \t}\n",
        "  \tcout<<c<<endl;\n",
        "  }\n",
        "}"
      ],
      "metadata": {
        "id": "YC2lkAqHB4Cp"
      },
      "execution_count": null,
      "outputs": []
    },
    {
      "cell_type": "markdown",
      "source": [
        "uva10008 What's Cryptanalysis?"
      ],
      "metadata": {
        "id": "rIX26Mx1B5Sd"
      }
    },
    {
      "cell_type": "code",
      "source": [
        "#include<iostream>\n",
        "using namespace std;\n",
        "int count[256],length;\n",
        "int main(){\n",
        "  char c;\n",
        "  while(cin.get(c)){\n",
        "  \tlength++;\n",
        "  \tcount[toupper(c)]++;\n",
        "  }\n",
        "  while(--length){\n",
        "  \tfor(c='A';c<='Z';c++){\n",
        "  \t\tif(count[c]==length)cout<<c<<\" \"<<count[c]<<endl;\n",
        "  \t}\n",
        "  }\n",
        "}"
      ],
      "metadata": {
        "id": "W6Zco22UB8Yq"
      },
      "execution_count": null,
      "outputs": []
    },
    {
      "cell_type": "markdown",
      "source": [
        "uva299 Train Swapping"
      ],
      "metadata": {
        "id": "jmrPavIFB9_Z"
      }
    },
    {
      "cell_type": "code",
      "source": [
        "#include<iostream>\n",
        "using namespace std;\n",
        "int main(){\n",
        "  int t,n,a[10005]={0};cin>>t;\n",
        "  while(cin>>n){\n",
        "  \tfor(int i=0;i<n;i++)\n",
        "  \t\tcin>>a[i];\n",
        "  \tint sum=0;\n",
        "  \tfor(int i=0;i<n;i++){\n",
        "  \t\tfor(int j=0;j<i;j++){\n",
        "  \t\t\tif(a[i]<a[j])sum++;\n",
        "  \t\t}\n",
        "  \t}\n",
        "  \tcout<<\"Optimal train swapping takes \"<<sum<<\" swaps.\"<<endl;\n",
        "  }\n",
        "}"
      ],
      "metadata": {
        "id": "IqjA3Lf2CBdT"
      },
      "execution_count": null,
      "outputs": []
    },
    {
      "cell_type": "markdown",
      "source": [
        "uva10101 Bangla Numbers"
      ],
      "metadata": {
        "id": "nKUXg4cVCCpw"
      }
    },
    {
      "cell_type": "code",
      "source": [
        "#include<iostream>\n",
        "using namespace std;\n",
        "long long int f(long long int x){\n",
        "\tif(x/10000000){f(x/10000000);cout<<\" kuti\";x%=10000000;}\n",
        "\tif(x/100000){f(x/100000);cout<<\" lakh\";x%=100000;}\n",
        "\tif(x/1000){f(x/1000);cout<<\" hajar\";x%=1000;}\n",
        "\tif(x/100){f(x/100);cout<<\" shata\";x%=100;}\n",
        "\tif(x)cout<<\" \"<<x;\n",
        "}\n",
        "int main(){\n",
        "  long long int n,k=1;\n",
        "  while(cin>>n){\n",
        "  \tcout.width(4);\n",
        "  \tcout<<k++<<\".\";\n",
        "  \tif(n==0)cout<<\" 0\";\n",
        "  \telse if(n)f(n);\n",
        "  \tcout<<endl;\n",
        "  }\n",
        "}"
      ],
      "metadata": {
        "id": "xus5eB1mCGu1"
      },
      "execution_count": null,
      "outputs": []
    },
    {
      "cell_type": "markdown",
      "source": [
        "uva11349 Symmetric Matrix"
      ],
      "metadata": {
        "id": "Au1IVg6dCIDI"
      }
    },
    {
      "cell_type": "code",
      "source": [
        "#include<iostream>\n",
        "using namespace std;\n",
        "int main(){\n",
        "  int t;cin>>t;\n",
        "  for(int i=1;i<=t;i++){\n",
        "  \tchar c;int n,k=1;cin>>c>>c>>n;\n",
        "  \tlong long int m[n][n];\n",
        "  \tfor(int i=0;i<n;i++){\n",
        "  \t\tfor(int j=0;j<n;j++){\n",
        "  \t\t\tcin>>m[i][j];\n",
        "  \t\t}\n",
        "  \t}\n",
        "  \tfor(int i=0;i<n;i++){\n",
        "  \t\tfor(int j=0;j<n;j++){\n",
        "  \t\t\tif(m[i][j]<0)k=0;\n",
        "  \t\t\tif(m[i][j]!=m[n-i-1][n-j-1])k=0;\n",
        "  \t\t}\n",
        "  \t}\n",
        "  \tif(k)cout<<\"Test #\"<<i<<\": Symmetric.\"<<endl;\n",
        "  \telse cout<<\"Test #\"<<i<<\": Non-symmetric.\"<<endl;\n",
        "  }\n",
        "}"
      ],
      "metadata": {
        "id": "pPy3liH8CLmF"
      },
      "execution_count": null,
      "outputs": []
    },
    {
      "cell_type": "markdown",
      "source": [
        "uva10642 Can You Solve It?"
      ],
      "metadata": {
        "id": "bfOJAauwCNM7"
      }
    },
    {
      "cell_type": "code",
      "source": [
        "#include<iostream>\n",
        "using namespace std;\n",
        "int sum(int x,int y){\n",
        "\treturn (x+y+1)*(x+y)/2+x;\n",
        "}\n",
        "int main(){\n",
        "  int t,x1,y1,x2,y2,k=1;cin>>t;\n",
        "  while(cin>>x1>>y1>>x2>>y2){\n",
        "  \tcout<<\"Case \"<<k++<<\": \"<<sum(x2,y2)-sum(x1,y1)<<endl;\n",
        "  }\n",
        "}"
      ],
      "metadata": {
        "id": "61aB2w1WCQjt"
      },
      "execution_count": null,
      "outputs": []
    },
    {
      "cell_type": "markdown",
      "source": [
        "uva10056 What is the Probability?"
      ],
      "metadata": {
        "id": "iicLJb0UCStK"
      }
    },
    {
      "cell_type": "code",
      "source": [
        "#include<iostream>\n",
        "#include<cmath>\n",
        "using namespace std;\n",
        "int main(){\n",
        "  double t,n,p,q;cin>>t;\n",
        "  while(cin>>n>>p>>q){\n",
        "  \tif(p==0)cout<<\"0.0000\"<<endl;\n",
        "  \telse printf(\"%.4f\\n\",p*pow(1-p,q-1)/(1-pow(1-p,n)));\n",
        "  }\n",
        "}"
      ],
      "metadata": {
        "id": "ecJwJF5rCVmg"
      },
      "execution_count": null,
      "outputs": []
    },
    {
      "cell_type": "markdown",
      "source": [
        "uva10242 Fourth Point!!"
      ],
      "metadata": {
        "id": "HEc42GHbCW8R"
      }
    },
    {
      "cell_type": "code",
      "source": [
        "#include<iostream>\n",
        "using namespace std;\n",
        "int main(){\n",
        "  double x1,y1,x2,y2,x3,y3,x4,y4;\n",
        "  while(cin>>x1>>y1>>x2>>y2>>x3>>y3>>x4>>y4){\n",
        "  \tif(x1==x3&&y1==y3)printf(\"%.3f %.3f\\n\",x2+x4-x1,y2+y4-y1);\n",
        "  \telse if(x1==x4&&y1==y4)printf(\"%.3f %.3f\\n\",x2+x3-x1,y2+y3-y1);\n",
        "  \telse if(x2==x3&&y2==y3)printf(\"%.3f %.3f\\n\",x1+x4-x2,y1+y4-y2);\n",
        "  \telse printf(\"%.3f %.3f\\n\",x1+x3-x2,y1+y3-y2);\n",
        "  }\n",
        "}"
      ],
      "metadata": {
        "id": "hODe9oNACZOU"
      },
      "execution_count": null,
      "outputs": []
    },
    {
      "cell_type": "markdown",
      "source": [
        "uva10409 Die Game"
      ],
      "metadata": {
        "id": "FLWaDsOfCb6s"
      }
    },
    {
      "cell_type": "code",
      "source": [
        "#include<iostream>\n",
        "using namespace std;\n",
        "int main(){\n",
        "  int t;\n",
        "  while(cin>>t,t){\n",
        "  \tint top=1,north=2,west=3;\n",
        "  \twhile(t--){\n",
        "  \t\tstring s;cin>>s;\n",
        "  \t\tint last=top;\n",
        "  \t\tif(s==\"north\"){\n",
        "  \t\t\ttop=7-north;\n",
        "  \t\t\tnorth=last;\n",
        "  \t\t}\n",
        "  \t\telse if(s==\"south\"){\n",
        "  \t\t\ttop=north;\n",
        "  \t\t\tnorth=7-last;\n",
        "  \t\t}\n",
        "  \t\telse if(s==\"west\"){\n",
        "  \t\t\ttop=7-west;\n",
        "  \t\t\twest=last;\n",
        "  \t\t}\n",
        "  \t\telse if(s==\"east\"){\n",
        "  \t\t\ttop=west;\n",
        "  \t\t\twest=7-last;\n",
        "  \t\t}\n",
        "  \t}\n",
        "  \tcout<<top<<endl;\n",
        "  }\n",
        "}"
      ],
      "metadata": {
        "id": "Z_73XaJbCfiV"
      },
      "execution_count": null,
      "outputs": []
    },
    {
      "cell_type": "markdown",
      "source": [
        "uva10908 Largest Square"
      ],
      "metadata": {
        "id": "Zw92zul7ChEH"
      }
    },
    {
      "cell_type": "code",
      "source": [
        "#include<iostream>\n",
        "using namespace std;\n",
        "int main(){\n",
        "  int t,c,r,n,x,y,fl=0;cin>>t;\n",
        "  cin>>c>>r>>n;\n",
        "  cout<<c<<\" \"<<r<<\" \"<<n<<endl;\n",
        "  char m[101][101];\n",
        "  for(int i=0;i<c;i++)\n",
        "  \tcin>>m[i];\n",
        "  while(n--){\n",
        "  \tcin>>x>>y;fl=0;\n",
        "  \tfor(int i=0;i<c;i++){\n",
        "  \tfor(int a=x-i;a<=x+i;a++)\n",
        "  \t\tfor(int b=y-i;b<=y+i;b++)\n",
        "  \t\t\tif(m[a][b]!=m[x][y])fl=1;\n",
        "  \t\tif(fl){cout<<2*i-1<<endl;break;}\n",
        "  \t}\n",
        "  }\n",
        "}"
      ],
      "metadata": {
        "id": "j4owVvcrCkJZ"
      },
      "execution_count": null,
      "outputs": []
    },
    {
      "cell_type": "markdown",
      "source": [
        "uva10019 Funny Encryption Method"
      ],
      "metadata": {
        "id": "Wcu5_v7sCl8w"
      }
    },
    {
      "cell_type": "code",
      "source": [
        "#include<iostream>\n",
        "#include<bitset>\n",
        "using namespace std;\n",
        "int main(){\n",
        "  int t,n;cin>>t;\n",
        "  while(cin>>n){\n",
        "  \tint sum=0,c=0;\n",
        "  \tbitset<32>b(n);\n",
        "  \twhile(n){\n",
        "  \t\tsum=n%10;\n",
        "  \t\twhile(sum){\n",
        "  \t\t\tif(sum%2)c++;\n",
        "  \t\t\tsum/=2;\n",
        "  \t\t}\n",
        "  \t\tn/=10;\n",
        "  \t}\n",
        "  \tcout<<b.count()<<\" \"<<c<<endl;\n",
        "  }\n",
        "}"
      ],
      "metadata": {
        "id": "YlQsofkVCoj3"
      },
      "execution_count": null,
      "outputs": []
    },
    {
      "cell_type": "markdown",
      "source": [
        "uva490 Rotating Sentences"
      ],
      "metadata": {
        "id": "eBwzBk4NCqX-"
      }
    },
    {
      "cell_type": "code",
      "source": [
        "#include<bits/stdc++.h>\n",
        "using namespace std;\n",
        "int main(){\n",
        "  char s[101][101];int i=0,max=0;\n",
        "  while(gets(s[i])!=NULL){\n",
        "  \tif(i==0)max=strlen(s[i]);\n",
        "  \telse if(max<strlen(s[i]))max=strlen(s[i]);\n",
        "  \ti++;\n",
        "  }\n",
        "  for(int j=0;j<max;j++){\n",
        "  \tfor(int k=i-1;k>=0;k--){\n",
        "  \t\tif(j<strlen(s[k]))cout<<s[k][j];\n",
        "  \t\telse cout<<\" \";\n",
        "  \t}\n",
        "  \tcout<<endl;\n",
        "  }\n",
        "}"
      ],
      "metadata": {
        "id": "1daXlz84Ctku"
      },
      "execution_count": null,
      "outputs": []
    },
    {
      "cell_type": "markdown",
      "source": [
        "uva10420 List of Conquests"
      ],
      "metadata": {
        "id": "1JSyoqQnCwNy"
      }
    },
    {
      "cell_type": "code",
      "source": [
        "#include<bits/stdc++.h>\n",
        "using namespace std;\n",
        "int main(){\n",
        "  int t;cin>>t;\n",
        "  map<string,int>m;\n",
        "  map<string,int>::iterator i;\n",
        "  while(t--){\n",
        "  \tstring a,b;cin>>a;getline(cin,b);\n",
        "  \tm[a]++;\n",
        "  }\n",
        "  for(i=m.begin();i!=m.end();i++)\n",
        "  \tcout<<i->first<<\" \"<<i->second<<endl;\n",
        "}"
      ],
      "metadata": {
        "id": "73LGpP0nC0K5"
      },
      "execution_count": null,
      "outputs": []
    },
    {
      "cell_type": "markdown",
      "source": [
        "uva10226 Hardwood species"
      ],
      "metadata": {
        "id": "ca4f4NO_C3Ug"
      }
    },
    {
      "cell_type": "code",
      "source": [
        "#include<bits/stdc++.h>\n",
        "using namespace std;\n",
        "int main(){\n",
        "  int t;cin>>t;getchar();getchar();\n",
        "  while(t--){\n",
        "    map<string,int>a;\n",
        "    string tree;\n",
        "    int n=0;\n",
        "    while(getline(cin,tree)&&!tree.empty()){\n",
        "      a[tree]++;n++;\n",
        "    }\n",
        "    for(auto&i:a)\n",
        "      cout<<i.first<<\" \"<<fixed<<setprecision(4)<<i.second*100.0/n<<endl;\n",
        "    if(t)cout<<endl;\n",
        "  }\n",
        "}"
      ],
      "metadata": {
        "id": "p9rTffNRC6I7"
      },
      "execution_count": null,
      "outputs": []
    },
    {
      "cell_type": "markdown",
      "source": [
        "uva118 Mutant Flatworld Explorers"
      ],
      "metadata": {
        "id": "T2iCWhD7C70Q"
      }
    },
    {
      "cell_type": "code",
      "source": [
        "#include<iostream>\n",
        "#include<string>\n",
        "using namespace std;\n",
        "bool block[64][64];const char op[]={'N','E','S','W'};const int a[]={0,1,0,-1};const int b[]={1,0,-1,0};\n",
        "int main(){\n",
        "  int n,m,x,y,t,nx,ny;char c;string s;cin>>n>>m;\n",
        "  while(cin>>x>>y>>c>>s){\n",
        "  \tfor(int i=0;i<4;i++)\n",
        "  \t\tif(op[i]==c)t=i;bool first=false;\n",
        "  \t\tfor(int i=0;i<s.size();i++){\n",
        "  \t\t\tif(s[i]=='L')t=--t&3;\n",
        "  \t\t\telse if(s[i]=='R')t=++t&3;\n",
        "  \t\t\telse if(s[i]=='F'){\n",
        "  \t\t\t\tnx=x+a[t];ny=y+b[t];\n",
        "  \t\t\t\tif(nx<0||nx>n||ny<0||ny>m){\n",
        "  \t\t\t\t\tif(block[x][y])continue;\n",
        "  \t\t\t\t\telse {block[x][y]=1;first=true;break;}\n",
        "  \t\t\t\t}\n",
        "  \t\t\t\tx=nx;y=ny;\n",
        "  \t\t\t}\n",
        "  \t\t}\n",
        "  \t\tcout<<x<<\" \"<<y<<\" \"<<op[t];\n",
        "  \t\tif(first)cout<<\" LOST\";\n",
        "  \t\tcout<<endl;\n",
        "  }\n",
        "  return 0;\n",
        "}"
      ],
      "metadata": {
        "id": "s2Y4rCkzDH7q"
      },
      "execution_count": null,
      "outputs": []
    },
    {
      "cell_type": "markdown",
      "source": [
        "uva10415 Eb Alto Saxophone Player"
      ],
      "metadata": {
        "id": "OTh8wLjdDYhT"
      }
    },
    {
      "cell_type": "code",
      "source": [
        "#include<bits/stdc++.h>\n",
        "using namespace std;\n",
        "int main(){\n",
        "  map<char,string>m;\n",
        "  m[' ']=\"0000000000\";\n",
        "  m['c']=\"0111001111\";\n",
        "  m['d']=\"0111001110\";\n",
        "  m['e']=\"0111001100\";\n",
        "  m['f']=\"0111001000\";\n",
        "  m['g']=\"0111000000\";\n",
        "  m['a']=\"0110000000\";\n",
        "  m['b']=\"0100000000\";\n",
        "  m['C']=\"0010000000\";\n",
        "  m['D']=\"1111001110\";\n",
        "  m['E']=\"1111001100\";\n",
        "  m['F']=\"1111001000\";\n",
        "  m['G']=\"1111000000\";\n",
        "  m['A']=\"1110000000\";\n",
        "  m['B']=\"1100000000\";\n",
        "  int t;cin>>t;getchar();\n",
        "  while(t--){\n",
        "  \tchar c,last=' ';int count[10]={0};\n",
        "  \twhile(cin.get(c)&&c!=10){\n",
        "  \t\tfor(int i=0;i<10;i++)\n",
        "  \t\t\tif(m[last][i]=='0'&&m[c][i]=='1')count[i]++;\n",
        "  \t\tlast=c;\n",
        "  \t}\n",
        "  \tfor(int i=0;i<10;i++){\n",
        "  \t\tif(i)cout<<\" \";\n",
        "  \t\tcout<<count[i];\n",
        "  \t}\n",
        "  \tcout<<endl;\n",
        "  }\n",
        "}"
      ],
      "metadata": {
        "id": "8tvIXU_VDawW"
      },
      "execution_count": null,
      "outputs": []
    },
    {
      "cell_type": "markdown",
      "source": [
        "uva11005 Cheapest Base"
      ],
      "metadata": {
        "id": "71TNnk4RDcnH"
      }
    },
    {
      "cell_type": "code",
      "source": [
        "#include<iostream>\n",
        "using namespace std;\n",
        "int main(){\n",
        "  int t,a[40],c,n;cin>>t;\n",
        "  for(int i=1;i<=t;i++){\n",
        "  \tfor(int j=0;j<36;j++)\n",
        "  \t\tcin>>a[j];\n",
        "  \t\tcout<<\"Case \"<<i<<\":\"<<endl;cin>>c;\n",
        "  \t\twhile(c--){\n",
        "  \t\t\tint max=200,sum[40]={0};cin>>n;\n",
        "  \t\t\tfor(int k=2;k<=36;k++){\n",
        "  \t\t\t\tint tp=n;\n",
        "  \t\t\t\twhile(tp){sum[k]+=a[tp%k];tp/=k;}\n",
        "  \t\t\t\tif(sum[k]<max)max=sum[k];\n",
        "  \t\t\t}\n",
        "  \t\t\tcout<<\"Cheapest base(s) for number \"<<n<<\":\";\n",
        "  \t\t\tfor(int k=2;k<=36;k++)\n",
        "  \t\t\t\tif(sum[k]==max)cout<<\" \"<<k;\n",
        "  \t\t\tcout<<endl;\n",
        "  \t\t}\n",
        "  \t\tif(i!=t)cout<<endl;\n",
        "  }\n",
        "  return 0;\n",
        "}"
      ],
      "metadata": {
        "id": "TJGN0DDPDe8E"
      },
      "execution_count": null,
      "outputs": []
    },
    {
      "cell_type": "markdown",
      "source": [
        "uva10093 An Easy Problem!"
      ],
      "metadata": {
        "id": "igo6rbouDik3"
      }
    },
    {
      "cell_type": "code",
      "source": [
        "#include<iostream>\n",
        "#include<string>\n",
        "using namespace std;\n",
        "int main(){\n",
        "  string s;\n",
        "  while(getline(cin,s)){\n",
        "  \tint r=0,sum=0,max=1;\n",
        "  \tfor(int i=0;i<s.size();i++){\n",
        "  \t\tif(isdigit(s[i]))r=s[i]-'0';\n",
        "  \t\telse if(islower(s[i]))r=s[i]-61;\n",
        "  \t\telse if(isupper(s[i]))r=s[i]-55;\n",
        "  \t\tsum+=r;\n",
        "  \t\tif(r>max)max=r;\n",
        "  \t}\n",
        "  \tfor(int i=max;i<=62;i++){\n",
        "  \t\tif(sum%i==0){cout<<i+1<<endl;break;}\n",
        "  \t\telse if(i==62)cout<<\"such number is impossible!\"<<endl;\n",
        "  \t}\n",
        "  }\n",
        "  return 0;\n",
        "}"
      ],
      "metadata": {
        "id": "Lf7unAY-Dnzj"
      },
      "execution_count": null,
      "outputs": []
    },
    {
      "cell_type": "markdown",
      "source": [
        "uva12503 Robot Instructions"
      ],
      "metadata": {
        "id": "ND7CS_sCDqoU"
      }
    },
    {
      "cell_type": "code",
      "source": [
        "#include<iostream>\n",
        "using namespace std;\n",
        "int main(){\n",
        "  int t,n,m[10005];cin>>t;\n",
        "  while(cin>>n){\n",
        "  \tint sum=0;\n",
        "  \tfor(int i=1;i<=n;i++){\n",
        "  \t\tstring s;cin>>s;\n",
        "  \t\tif(s==\"LEFT\")m[i]=-1;\n",
        "  \t\telse if(s==\"RIGHT\")m[i]=1;\n",
        "  \t\telse{\n",
        "  \t\t\tint c;\n",
        "  \t\t\tcin>>s>>c;\n",
        "  \t\t\tm[i]=m[c];\n",
        "  \t\t}\n",
        "  \t\tsum+=m[i];\n",
        "  \t}\n",
        "  \tcout<<sum<<endl;\n",
        "  }\n",
        "}"
      ],
      "metadata": {
        "id": "ZAgPE7KkD6qr"
      },
      "execution_count": null,
      "outputs": []
    },
    {
      "cell_type": "markdown",
      "source": [
        "uva11639 Guard the Land"
      ],
      "metadata": {
        "id": "WsCcfXBQD8N1"
      }
    },
    {
      "cell_type": "code",
      "source": [
        "#include<iostream>\n",
        "using namespace std;\n",
        "int main(){\n",
        "    int n,x1,y1,x2,y2,x3,y3,x4,y4;\n",
        "    cin>> n;\n",
        "    for(int i=1;i<=n;i++){\n",
        "        cin>>x1>>y1>>x2>>y2;\n",
        "        cin>>x3>>y3>>x4>>y4;\n",
        "        int xi=max(0,min(x2,x4)-max(x1,x3));\n",
        "        int yi=max(0,min(y2,y4)-max(y1,y3));\n",
        "        int strong=xi*yi;\n",
        "        int area1=(x2-x1)*(y2-y1);\n",
        "        int area2=(x4-x3)*(y4-y3);\n",
        "        int weak=area1+area2-2*strong;\n",
        "        int unsecured=10000-strong-weak;\n",
        "        cout<<\"Night \"<<i<<\": \"<<strong<<\" \"<<weak<<\" \"<<unsecured<<endl;\n",
        "    }\n",
        "}"
      ],
      "metadata": {
        "id": "UqYq_976D_f0"
      },
      "execution_count": null,
      "outputs": []
    },
    {
      "cell_type": "markdown",
      "source": [
        "uva12149 Feynman"
      ],
      "metadata": {
        "id": "rHnEuSR-EBBu"
      }
    },
    {
      "cell_type": "code",
      "source": [
        "#include<iostream>\n",
        "using namespace std;\n",
        "int main(){\n",
        "  int a;\n",
        "  while(cin>>a,a){\n",
        "  \tint sum=0;\n",
        "  \tfor(int i=1;i<=a;i++)\n",
        "  \t\tsum+=(a-i+1)*(a-i+1);\n",
        "  \tcout<<sum<<endl;\n",
        "  }\n",
        "  return 0;\n",
        "}"
      ],
      "metadata": {
        "id": "cQAtIjxlEGXH"
      },
      "execution_count": null,
      "outputs": []
    },
    {
      "cell_type": "markdown",
      "source": [
        "uva264 Count on Cantor"
      ],
      "metadata": {
        "id": "bmKXGf5EEH6a"
      }
    },
    {
      "cell_type": "code",
      "source": [
        "#include<iostream>\n",
        "using namespace std;\n",
        "int main(){\n",
        "  int t;\n",
        "  while(cin>>t){\n",
        "  \tint n=0,sum=0;\n",
        "  \twhile(t>sum){\n",
        "  \t\tn++;\n",
        "  \t\tsum+=n;\n",
        "  \t}\n",
        "  \tif(n%2)cout<<\"TERM \"<<t<<\" IS \"<<1+(sum%t)<<\"/\"<<n-(sum%t)<<endl;\n",
        "  \telse cout<<\"TERM \"<<t<<\" IS \"<<n-(sum%t)<<\"/\"<<1+(sum%t)<<endl;\n",
        "  }\n",
        "}"
      ],
      "metadata": {
        "id": "vHUqpNoFEPLt"
      },
      "execution_count": null,
      "outputs": []
    },
    {
      "cell_type": "markdown",
      "source": [
        "uva10018 Reverse and Add"
      ],
      "metadata": {
        "id": "AeRifQzzEQu_"
      }
    },
    {
      "cell_type": "code",
      "source": [
        "#include<iostream>\n",
        "using namespace std;\n",
        "int f(int n){\n",
        "\tint t=n,reverse=0;\n",
        "\twhile(t){reverse=t%10+reverse*10;t/=10;}\n",
        "\treturn n==reverse;\n",
        "}\n",
        "int rr(int n){\n",
        "\tint reverse=0;\n",
        "\twhile(n){reverse=n%10+reverse*10;n/=10;}\n",
        "\treturn reverse;\n",
        "}\n",
        "int main(){\n",
        "  int t,n;cin>>t;\n",
        "  while(cin>>n){\n",
        "  \tint reverse=0,sum=0;\n",
        "  \tdo{\n",
        "  \t\treverse=rr(n);\n",
        "  \t\tn=n+reverse;\n",
        "  \t\tsum++;\n",
        "  \t}while(!f(n));\n",
        "  \tcout<<sum<<\" \"<<n<<endl;\n",
        "  }\n",
        "}"
      ],
      "metadata": {
        "id": "1dNiGiEwEWvd"
      },
      "execution_count": null,
      "outputs": []
    },
    {
      "cell_type": "markdown",
      "source": [
        "uva12602 Nice Licence Plates"
      ],
      "metadata": {
        "id": "J_EGsC0IEaaA"
      }
    },
    {
      "cell_type": "code",
      "source": [
        "#include<iostream>\n",
        "using namespace std;\n",
        "int main(){\n",
        "  int t,a;cin>>t;\n",
        "  char c1,c2,c3,c4;\n",
        "  while(cin>>c1>>c2>>c3>>c4>>a){\n",
        "  \tif(abs((c1-65)*26*26+(c2-65)*26+(c3-65)-a)<=100)cout<<\"nice\"<<endl;\n",
        "  \telse cout<<\"not nice\"<<endl;\n",
        "  }\n",
        "}"
      ],
      "metadata": {
        "id": "Ty7iVLotEgOC"
      },
      "execution_count": null,
      "outputs": []
    },
    {
      "cell_type": "markdown",
      "source": [
        "uva11917 Do Your Own Homework!"
      ],
      "metadata": {
        "id": "B26iMB-rEhvF"
      }
    },
    {
      "cell_type": "code",
      "source": [
        "#include<bits/stdc++.h>\n",
        "using namespace std;\n",
        "int main(){\n",
        "  int a;cin>>a;\n",
        "  for(int i=1;i<=a;i++){\n",
        "  \tcout<<\"Case \"<<i<<\": \";\n",
        "  \tint b;cin>>b;\n",
        "  \tmap<string,int>m;\n",
        "  \twhile(b--){\n",
        "  \t\tstring s;int c;\n",
        "  \t\tcin>>s>>c;\n",
        "  \t\tm[s]=c;\n",
        "  \t}\n",
        "  \tint d;string dada;\n",
        "  \tcin>>d>>dada;\n",
        "  \tif(m.find(dada)==m.end())cout<<\"Do your own homework!\";\n",
        "  \telse if(m[dada]<=d)cout<<\"Yesss\";\n",
        "  \telse if(m[dada]<=d+5)cout<<\"Late\";\n",
        "  \telse cout<<\"Do your own homework!\";\n",
        "  \tcout<<endl;\n",
        "  }\n",
        "}"
      ],
      "metadata": {
        "id": "lfelNI_4Ekoj"
      },
      "execution_count": null,
      "outputs": []
    },
    {
      "cell_type": "markdown",
      "source": [
        "uva401 Palindromes"
      ],
      "metadata": {
        "id": "IJ0VoZC0EroE"
      }
    },
    {
      "cell_type": "code",
      "source": [
        "#include<iostream>\n",
        "using namespace std;\n",
        "int main(){\n",
        "  string s;\n",
        "  char c[]=\"A000300HIL0JM0O0002TUVWXY51SE0Z0080\";\n",
        "  while(cin>>s){\n",
        "  \tbool p=true,m=true;\n",
        "  \tfor(int i=0;i<s.size()/2;i++){\n",
        "  \t\tif(s[i]!=s[s.size()-i-1])p=false;\n",
        "  \t\tif(isdigit(s[s.size()-i-1])&&(s[i]!=c[s[s.size()-i-1]-'1'+26]))m=false;\n",
        "  \t\tif(isupper(s[s.size()-i-1])&&(s[i]!=c[s[s.size()-i-1]-'A']))m=false;\n",
        "  \t}\n",
        "  \tif(p&&m)cout<<s<<\" -- is a mirrored palindrome.\\n\\n\";\n",
        "  \telse if(m)cout<<s<<\" -- is a mirrored string.\\n\\n\";\n",
        "  \telse if(p)cout<<s<<\" -- is a regular palindrome.\\n\\n\";\n",
        "  \telse cout<<s<<\" -- is not a palindrome.\\n\\n\";\n",
        "  }\n",
        "}"
      ],
      "metadata": {
        "id": "9SpL5q5qEswQ"
      },
      "execution_count": null,
      "outputs": []
    },
    {
      "cell_type": "markdown",
      "source": [
        "uva141 The Spot Game"
      ],
      "metadata": {
        "id": "GdCRqVoPEzPx"
      }
    },
    {
      "cell_type": "code",
      "source": [
        "#include <bits/stdc++.h>\n",
        "using namespace std;\n",
        "string arrtostr(int m[60][60]){\n",
        "\tchar c[4000]={0};\n",
        "\tfor(int i=0;i<60;i++){\n",
        "\t\tfor(int j=0;j<60;j++){\n",
        "\t\t\tc[i*60+j]=char(m[i][j]+'0');\n",
        "\t\t}\n",
        "\t}\n",
        "\treturn c;\n",
        "}\n",
        "int mp[60][60],n;\n",
        "void rotate(){\n",
        "\tfor(int i=0;i<n;i++){\n",
        "\t\tfor(int j=0;j<i;j++){\n",
        "\t\t\tswap(mp[i][j],mp[j][i]);\n",
        "\t\t}\n",
        "\t}\n",
        "\tfor(int i=0;i<n;i++){\n",
        "\t\tfor(int j=0;j<n/2;j++){\n",
        "\t\t\tswap(mp[i][n-j-1],mp[i][j]);\n",
        "\t\t}\n",
        "\t}\n",
        "}\n",
        "int main(){\n",
        "\twhile(cin>>n,n){\n",
        "\t\tmap<string,int>t;\n",
        "\t\tmemset(mp,0,sizeof(mp));\n",
        "\t\tint win=0,move=0,a,b;\n",
        "\t\tfor(int i=1;i<=n*2;i++){\n",
        "\t\t\tchar x;\n",
        "\t\t\tcin>>a>>b>>x;\n",
        "\t\t\tif(move!=0){\n",
        "\t\t\t\tcontinue;\n",
        "\t\t\t}\n",
        "\t\t\tif(x=='+'){\n",
        "\t\t\t\tmp[b-1][a-1]=1;\n",
        "\t\t\t}else{\n",
        "\t\t\t\tmp[b-1][a-1]=0;\n",
        "\t\t\t}\n",
        "\t\t\tif(t[arrtostr(mp)]!=0){\n",
        "\t\t\t\twin=i%2;\n",
        "\t\t\t\tmove=i;\n",
        "\t\t\t\tcontinue;\n",
        "\t\t\t}\n",
        "\t\t\tfor(int j=0;j<4;j++){\n",
        "\t\t\t\trotate();\n",
        "\t\t\t\tt[arrtostr(mp)]=1;\n",
        "\t\t\t}\n",
        "\t\t}\n",
        "\t\tif(move!=0){\n",
        "\t\t\tif(win==1){\n",
        "\t\t\t\tcout<<\"Player \"<<2<<\" wins on move \"<<move;\n",
        "\t\t\t}else{\n",
        "\t\t\t\tcout<<\"Player \"<<1<<\" wins on move \"<<move;\n",
        "\t\t\t}\n",
        "\t\t}else{\n",
        "\t\t\tcout<<\"Draw\";\n",
        "\t\t}\n",
        "\t\tcout<<\"\\n\";\n",
        "\t}\n",
        "}"
      ],
      "metadata": {
        "id": "5-R54OqRE2sQ"
      },
      "execution_count": null,
      "outputs": []
    },
    {
      "cell_type": "markdown",
      "source": [
        "uva105 The Skyline Problem"
      ],
      "metadata": {
        "id": "F8W2ictUE4cE"
      }
    },
    {
      "cell_type": "code",
      "source": [
        "#include<iostream>\n",
        "using namespace std;\n",
        "int main(){\n",
        "  int a,b,c,m[10005]={0},sum=0;\n",
        "  while(cin>>a>>b>>c){\n",
        "  \tfor(int i=a;i<c;i++)\n",
        "  \t\tm[i]=max(m[i],b);\n",
        "  \tsum=max(sum,c);\n",
        "  }\n",
        "  for(int i=1;i<=sum;i++){\n",
        "  \tif(m[i]==m[i-1])continue;\n",
        "  \tif(i!=1)cout<<\" \";\n",
        "  \tcout<<i<<\" \"<<m[i];\n",
        "  }\n",
        "  cout<<endl;\n",
        "}"
      ],
      "metadata": {
        "id": "ZncPz6fLE7n_"
      },
      "execution_count": null,
      "outputs": []
    },
    {
      "cell_type": "markdown",
      "source": [
        "uva579 ClockHands"
      ],
      "metadata": {
        "id": "44lTUqgjE8J1"
      }
    },
    {
      "cell_type": "code",
      "source": [
        "#include<iostream>\n",
        "using namespace std;\n",
        "int main(){\n",
        "  int h,min;char c;\n",
        "  while(cin>>h>>c>>min,h){\n",
        "  \tdouble ans=abs(h*30-5.5*min);\n",
        "  \tif(ans>=180)ans=360-ans;\n",
        "  \tprintf(\"%.3f\\n\",ans);\n",
        "  }\n",
        "}"
      ],
      "metadata": {
        "id": "-oE0CyLEFEgj"
      },
      "execution_count": null,
      "outputs": []
    },
    {
      "cell_type": "markdown",
      "source": [
        "uva494 Kindergarten Counting Game"
      ],
      "metadata": {
        "id": "RtlJdBHHFG_b"
      }
    },
    {
      "cell_type": "code",
      "source": [
        "#include<iostream>\n",
        "using namespace std;\n",
        "int main(){\n",
        "  string s;\n",
        "  while(getline(cin,s)){\n",
        "  \tint sum=0,n=0;\n",
        "  \tfor(auto&i:s){\n",
        "  \t\tint m=0;\n",
        "  \t\tif((65<=i&&i<=90)||(97<=i&&i<=122))m=1;\n",
        "  \t\tif(m==1&&n==0)sum++;\n",
        "  \t\tn=m;\n",
        "  \t}\n",
        "  \tcout<<sum<<endl;\n",
        "  }\n",
        "}"
      ],
      "metadata": {
        "id": "e4Y1qp8eFKYH"
      },
      "execution_count": null,
      "outputs": []
    },
    {
      "cell_type": "markdown",
      "source": [
        "uva11054 Wine trading in Gergovia"
      ],
      "metadata": {
        "id": "4WnbcADEFMd-"
      }
    },
    {
      "cell_type": "code",
      "source": [
        "#include<iostream>\n",
        "using namespace std;\n",
        "int main(){\n",
        "  int t,n;\n",
        "  while(cin>>t,t){\n",
        "  \tint sum=0,ans=0;\n",
        "  \twhile(t--){\n",
        "  \t\tcin>>n;\n",
        "  \t\tsum+=n;\n",
        "  \t\tans+=abs(sum);\n",
        "  \t}\n",
        "  \tcout<<ans<<endl;\n",
        "  }\n",
        "}"
      ],
      "metadata": {
        "id": "wZe4KFI3FQ85"
      },
      "execution_count": null,
      "outputs": []
    },
    {
      "cell_type": "markdown",
      "source": [
        "uva591 Box of Bricks"
      ],
      "metadata": {
        "id": "W0Uyz-WBFW8E"
      }
    },
    {
      "cell_type": "code",
      "source": [
        "#include<iostream>\n",
        "using namespace std;\n",
        "int main(){\n",
        "  int t,a[10005]={0},k=1;\n",
        "  while(cin>>t,t){\n",
        "  \tcout<<\"Set #\"<<k++<<endl;\n",
        "  \tint sum=0;\n",
        "  \tfor(int i=0;i<t;i++){\n",
        "  \t\tcin>>a[i];\n",
        "  \t\tsum+=a[i];\n",
        "  \t}\n",
        "  \tint avg=sum/t,c=0;\n",
        "  \tfor(int i=0;i<t;i++)\n",
        "  \t\tc+=abs(avg-a[i]);\n",
        "  \tcout<<\"The minimum number of moves is \"<<c/2<<\".\\n\\n\";\n",
        "  }\n",
        "}"
      ],
      "metadata": {
        "id": "s1VxYPwLFYLm"
      },
      "execution_count": null,
      "outputs": []
    },
    {
      "cell_type": "markdown",
      "source": [
        "uva409 Excuses, Excuses!"
      ],
      "metadata": {
        "id": "Vld8nWHQFZrh"
      }
    },
    {
      "cell_type": "code",
      "source": [
        "#include <iostream>\n",
        "#include <string>\n",
        "using namespace std;\n",
        "int main()\n",
        "{\n",
        "\tint m,n,x=1,c2;\n",
        "\tstring key[30],ans[100];\n",
        "\twhile(cin>>m>>n)\n",
        "\t{\n",
        "\t\tint max=-1,count;\n",
        "\t\tcout<<\"Excuse Set #\"<<x<<endl;\n",
        "\t\tfor(int i=0;i<m;i++)cin>>key[i];\n",
        "\t\tcin.ignore();\n",
        "\t\tstring a;\n",
        "\t\tfor(int z=0;z<n;z++)\n",
        "\t\t{\n",
        "\n",
        "\t\t\tgetline(cin,a);\n",
        "\t\t\tcount=0;\n",
        "\t\t\tstring tmp=\"\";\n",
        "\t\t\tint ok;\n",
        "\t\t\tfor(int j=0;j<a.length();j++)\n",
        "\t\t\t{\n",
        "\t\t\t\tif(a[j]>='A'&&a[j]<='z')\n",
        "\t\t\t\t{\n",
        "\t\t\t\t\ttmp+=tolower(a[j]);\n",
        "\t\t\t\t\tok=1;\n",
        "\t\t\t\t}\n",
        "\t\t\t\telse if(ok==1)\n",
        "\t\t\t\t{\n",
        "\t\t\t\t\tfor(int k=0;k<m;k++)\n",
        "\t\t\t\t\t{\n",
        "\t\t\t\t\t\tif(tmp==key[k])\n",
        "\t\t\t\t\t\t{\n",
        "\t\t\t\t\t\t\tcount++;\n",
        "\t\t\t\t\t\t}\n",
        "\t\t\t\t\t}\n",
        "\t\t\t\t\ttmp=\"\";\n",
        "\t\t\t\t\tok=0;\n",
        "\t\t\t\t}\n",
        "\t\t\t}\n",
        "\t\t\tif(count>max)\n",
        "\t\t\t{\n",
        "\t\t\t\tmax=count;\n",
        "\t\t\t\tans[0]=a;\n",
        "\t\t\t\tc2=1;\n",
        "\t\t\t}\n",
        "\t\t\telse if(count==max)\n",
        "\t\t\t{\n",
        "\t\t\t\tans[c2]=a;\n",
        "\t\t\t\tc2++;\n",
        "\t\t\t}\n",
        "\t\t}\n",
        "\t\tfor(int v=0;v<c2;v++)\n",
        "\t\t{\n",
        "\t\t\tcout<<ans[v]<<endl;\n",
        "\t\t}\n",
        "\t\tcout<<endl;\n",
        "\t\tx++;\n",
        "\t}\n",
        "}"
      ],
      "metadata": {
        "id": "67iR-wT0Fb9l"
      },
      "execution_count": null,
      "outputs": []
    },
    {
      "cell_type": "markdown",
      "source": [
        "uva1585 Score"
      ],
      "metadata": {
        "id": "aBB0RCgaFfJs"
      }
    },
    {
      "cell_type": "code",
      "source": [
        "#include<iostream>\n",
        "using namespace std;\n",
        "int main(){\n",
        "  int t;cin>>t;\n",
        "  string s;\n",
        "  while(cin>>s){\n",
        "  \tint n=0,sum=0;\n",
        "  \tfor(int i=0;i<s.size();i++){\n",
        "  \t\tif(s[i]=='X')n=0;\n",
        "  \t\telse n++;\n",
        "  \t\tsum+=n;\n",
        "  \t}\n",
        "  \tcout<<sum<<endl;\n",
        "  }\n",
        "}"
      ],
      "metadata": {
        "id": "lat4MwJiFkFK"
      },
      "execution_count": null,
      "outputs": []
    },
    {
      "cell_type": "markdown",
      "source": [
        "uva10474 Where is the marble"
      ],
      "metadata": {
        "id": "YYxd5HxIFl0K"
      }
    },
    {
      "cell_type": "code",
      "source": [
        "#include\"bits/stdc++.h\"\n",
        "using namespace std;\n",
        "int main(){\n",
        "  int a,b,k=1;\n",
        "  while(cin>>a>>b,a,b){\n",
        " \t int arr[a];\n",
        "     for(auto&i:arr)cin>>i;\n",
        "     sort(arr,arr+a);\n",
        "     cout<<\"CASE# \"<<k++<<\":\"<<endl;\n",
        "     int number;\n",
        "     while(b--){\n",
        "     \tcin>>number;\n",
        "        int*p=lower_bound(arr,arr+a,number);\n",
        "        if(*p==number)cout<<number<<\" found at \"<<p-arr+1<<endl;\n",
        "        else          cout<<number<<\" not found\"<<endl;\n",
        "    }\n",
        "  }\n",
        "}"
      ],
      "metadata": {
        "id": "5G6mluzxFpQE"
      },
      "execution_count": null,
      "outputs": []
    },
    {
      "cell_type": "markdown",
      "source": [
        "uva455 Periodic Strings"
      ],
      "metadata": {
        "id": "rHUTeypLFrEa"
      }
    },
    {
      "cell_type": "code",
      "source": [
        "#include<iostream>\n",
        "using namespace std;\n",
        "int main(){\n",
        "  int t;cin>>t;\n",
        "  while(t--){\n",
        "  \tstring s;cin>>s;\n",
        "  \tint k;string c=\"\";\n",
        "  \tfor(k=1;k<s.size();k++){\n",
        "  \t\tc+=s[k-1];\n",
        "  \tstring d=\"\";\n",
        "  \tfor(int i=0;i<s.size()/k;i++)\n",
        "  \t\td+=c;\n",
        "  \t\tif(d==s)break;\n",
        "  \t}\n",
        "  \tcout<<k<<endl;\n",
        "  \tif(t)cout<<endl;\n",
        "  }\n",
        "}"
      ],
      "metadata": {
        "id": "q9Jx1K-sFwcf"
      },
      "execution_count": null,
      "outputs": []
    },
    {
      "cell_type": "markdown",
      "source": [
        "uva11389 The Bus Driver Problem"
      ],
      "metadata": {
        "id": "SQ4xRGhWFx_3"
      }
    },
    {
      "cell_type": "code",
      "source": [
        "#include \"bits/stdc++.h\"\n",
        "using namespace std;\n",
        "int main(){\n",
        "  int n,a,b;\n",
        "  while(cin>>n>>a>>b,n,a,b){\n",
        "    vector<int>s1(n),s2(n);\n",
        "    for(auto&i:s1)cin>>i;\n",
        "    for(auto&i:s2)cin>>i;\n",
        "    sort(s1.begin(),s1.end());sort(s2.rbegin(),s2.rend());\n",
        "    int ans=0;\n",
        "    for(int i=0;i<n;i++)if(s1[i]+s2[i]-a>0)ans+=b*(s1[i]+s2[i]-a);\n",
        "    cout<<ans<<endl;\n",
        "  }\n",
        "}"
      ],
      "metadata": {
        "id": "tC3pVTLRF07Q"
      },
      "execution_count": null,
      "outputs": []
    },
    {
      "cell_type": "markdown",
      "source": [
        "uva10487 Closest Sums"
      ],
      "metadata": {
        "id": "mKV7e7HgF2Ub"
      }
    },
    {
      "cell_type": "code",
      "source": [
        "#include<iostream>\n",
        "using namespace std;\n",
        "int main(){\n",
        "  int t,k=1;\n",
        "  while(cin>>t,t){\n",
        "  \tcout<<\"Case \"<<k++<<\":\"<<endl;\n",
        "  \tint a[10005],m,x;\n",
        "  \tfor(int i=0;i<t;i++)\n",
        "  \t\tcin>>a[i];\n",
        "  \tcin>>m;\n",
        "  \twhile(m--){\n",
        "  \t\tcin>>x;\n",
        "  \t\tint ans=a[1]+a[0];\n",
        "  \t\tfor(int i=0;i<t;i++){\n",
        "  \t\t\tfor(int j=0;j<t;j++){\n",
        "  \t\t\t\tif(i==j)continue;\n",
        "  \t\t\t\tif(abs(a[i]+a[j]-x)<abs(ans-x))ans=a[i]+a[j];\n",
        "  \t\t\t}\n",
        "  \t\t}\n",
        "  \t\tcout<<\"Closest sum to \"<<x<<\" is \"<<ans<<\".\"<<endl;\n",
        "  \t}\n",
        "  }\n",
        "}"
      ],
      "metadata": {
        "id": "PXAbFloVF8Rm"
      },
      "execution_count": null,
      "outputs": []
    },
    {
      "cell_type": "markdown",
      "source": [
        "uva11764 Jumping Mario"
      ],
      "metadata": {
        "id": "FSuXgADVGBDn"
      }
    },
    {
      "cell_type": "code",
      "source": [
        "#include<iostream>\n",
        "using namespace std;\n",
        "int main(){\n",
        "  int t,n,a,k=1;cin>>t;\n",
        "  while(cin>>n){\n",
        "  \tint m1,m2,h=0,l=0;\n",
        "  \tcin>>m1;\n",
        "  \tfor(int i=1;i<n;i++){\n",
        "  \t\tcin>>m2;\n",
        "  \t\tif(m1<m2)h++;\n",
        "  \t\tif(m2<m1)l++;\n",
        "  \t\tm1=m2;\n",
        "  \t}\n",
        "  \tcout<<\"Case \"<<k++<<\": \"<<h<<\" \"<<l<<endl;\n",
        "  }\n",
        "}"
      ],
      "metadata": {
        "id": "9FIUPmlqGDjg"
      },
      "execution_count": null,
      "outputs": []
    },
    {
      "cell_type": "markdown",
      "source": [
        "uva10082 WERTYU"
      ],
      "metadata": {
        "id": "NOI9AtS1GFR2"
      }
    },
    {
      "cell_type": "code",
      "source": [
        "#include<iostream>\n",
        "#include<string>\n",
        "using namespace std;\n",
        "int main(){\n",
        "  char c;\n",
        "  char s[]=\"`1234567890-=QWERTYUIOP[]\\\\ASDFGHJKL;'ZXCVBNM,./\";\n",
        "  while(cin.get(c)){\n",
        "  \tc=toupper(c);\n",
        "  \tchar *p=strchr(s,c);\n",
        "  \tif(p)cout<<*(p-1);\n",
        "  \telse cout<<c;\n",
        "  }\n",
        "  return 0;\n",
        "}"
      ],
      "metadata": {
        "id": "ylp_bYiiGGX_"
      },
      "execution_count": null,
      "outputs": []
    },
    {
      "cell_type": "markdown",
      "source": [
        "uva11942 Lumberjack Sequencing"
      ],
      "metadata": {
        "id": "CcI48KA6GRUH"
      }
    },
    {
      "cell_type": "code",
      "source": [
        "#include<iostream>\n",
        "using namespace std;\n",
        "int main(){\n",
        "  int t,m1,m2;cin>>t;\n",
        "  cout<<\"Lumberjacks:\"<<endl;\n",
        "  while(t--){\n",
        "  \tint sum1=0,sum2=0;\n",
        "  \tcin>>m1;\n",
        "  \twhile(cin>>m2){\n",
        "  \t\tsum2++;\n",
        "  \t\tif(m1>=m2){\n",
        "  \t\t\tsum1++;\n",
        "  \t\t\tm1=m2;\n",
        "  \t\t}\n",
        "  \t\telse m1=m2;\n",
        "  \t\tif(sum2==9)break;\n",
        "  \t}\n",
        "  \tif(sum1==0||sum1==sum2)cout<<\"Ordered\"<<endl;\n",
        "  \telse cout<<\"Unordered\"<<endl;\n",
        "  }\n",
        "}"
      ],
      "metadata": {
        "id": "ZhwVskujGSoN"
      },
      "execution_count": null,
      "outputs": []
    },
    {
      "cell_type": "markdown",
      "source": [
        "uva499 What's The Frequency, Kenneth?"
      ],
      "metadata": {
        "id": "IJpa-cURGWYa"
      }
    },
    {
      "cell_type": "code",
      "source": [
        "#include<iostream>\n",
        "using namespace std;\n",
        "int main(){\n",
        "  string s;\n",
        "  while(getline(cin,s)){\n",
        "  \tint m[256]={0},sum=0;\n",
        "  \tfor(auto&i:s){\n",
        "  \t\tif(isalpha(i)){\n",
        "  \t\t\tm[i]++;sum=max(sum,m[i]);\n",
        "  \t\t}\n",
        "  \t}\n",
        "  \tfor(int i=0;i<256;i++)\n",
        "  \t\tif(isalpha(i)&&m[i]==sum)cout<<char(i);\n",
        "  \tcout<<\" \"<<sum<<endl;\n",
        "  }\n",
        "}"
      ],
      "metadata": {
        "id": "wH0M_qYaGXfN"
      },
      "execution_count": null,
      "outputs": []
    },
    {
      "cell_type": "markdown",
      "source": [
        "uva11192 Group Reverse"
      ],
      "metadata": {
        "id": "glmunsvKGcQk"
      }
    },
    {
      "cell_type": "code",
      "source": [
        "#include<iostream>\n",
        "using namespace std;\n",
        "int main(){\n",
        "  int n;string s;\n",
        "  while(cin>>n>>s,n){\n",
        "  \tint sum=s.size()/n;\n",
        "  \tfor(int i=0;i<s.size();i+=sum){\n",
        "  \t\tstring a=s.substr(i,sum);\n",
        "  \t\tcout<<string(a.rbegin(),a.rend());\n",
        "  \t}\n",
        "  \tcout<<endl;\n",
        "  }\n",
        "}"
      ],
      "metadata": {
        "id": "8PkfKwXtGdcw"
      },
      "execution_count": null,
      "outputs": []
    },
    {
      "cell_type": "markdown",
      "source": [
        "uva1587 Box"
      ],
      "metadata": {
        "id": "DGpYDEG0Ge0t"
      }
    },
    {
      "cell_type": "code",
      "source": [
        "#include<iostream>\n",
        "#include<algorithm>\n",
        "using namespace std;\n",
        "int main(){\n",
        "  int a[12];\n",
        "  while(cin>>a[0]){\n",
        "  \tfor(int i=1;i<12;i++)\n",
        "  \t\tcin>>a[i];\n",
        "  \tsort(a,a+12);\n",
        "  \tfor(int i=0;i<12;i=i+4){\n",
        "  \t\tint t=0;\n",
        "  \t\tfor(int j=i;j<i+3;j++){\n",
        "  \t\t\tif(a[j]!=a[j+1]){\n",
        "  \t\t\t\tcout<<\"IMPOSSIBLE\"<<endl;\n",
        "  \t\t\t\tt=1;break;\n",
        "  \t\t\t}\n",
        "  \t\t}\n",
        "  \t\tif(t==1)break;\n",
        "  \t\tif(i==8)cout<<\"POSSIBLE\"<<endl;\n",
        "  \t}\n",
        "  }\n",
        "}"
      ],
      "metadata": {
        "id": "Mr9tbMHjGg3k"
      },
      "execution_count": null,
      "outputs": []
    },
    {
      "cell_type": "markdown",
      "source": [
        "uva11364 Parking"
      ],
      "metadata": {
        "id": "U_09IIZuGmum"
      }
    },
    {
      "cell_type": "code",
      "source": [
        "#include<iostream>\n",
        "using namespace std;\n",
        "int main(){\n",
        "  int t,n;cin>>t;\n",
        "  while(cin>>n){\n",
        "  \tint a,max1=0,min1=100;\n",
        "  \twhile(n--){\n",
        "  \t\tcin>>a;\n",
        "  \t\tif(a>max1)max1=a;\n",
        "  \t\tif(a<min1)min1=a;\n",
        "  \t}\n",
        "  \tcout<<(max1-min1)*2<<endl;\n",
        "  }\n",
        "}"
      ],
      "metadata": {
        "id": "PsvoUhPxGoJS"
      },
      "execution_count": null,
      "outputs": []
    },
    {
      "cell_type": "markdown",
      "source": [
        "uva865 Substitution Cypher"
      ],
      "metadata": {
        "id": "D8QJ7dBZGpqQ"
      }
    },
    {
      "cell_type": "code",
      "source": [
        "#include<iostream>\n",
        "using namespace std;\n",
        "int main(){\n",
        "  int t;cin>>t;getchar();getchar();\n",
        "  while(t--){\n",
        "  \tstring a,b,c;getline(cin,a);getline(cin,b);\n",
        "  \tcout<<b<<endl;cout<<a<<endl;\n",
        "  \twhile(getline(cin,c)){\n",
        "  \t\tif(c==\"\")break;\n",
        "  \t\tfor(int i=0;i<c.size();i++){\n",
        "  \t\t\tint rr=0;\n",
        "  \t\t\tfor(int j=0;j<a.size();j++){\n",
        "  \t\t\t\tif(c[i]==a[j]){\n",
        "  \t\t\t\t\tcout<<b[j];\n",
        "  \t\t\t\t\trr=1;\n",
        "  \t\t\t\t}\n",
        "  \t\t\t}\n",
        "  \t\t\tif(rr==0)cout<<c[i];\n",
        "  \t\t}\n",
        "  \t\tcout<<endl;\n",
        "  \t}\n",
        "  \tif(t)cout<<endl;\n",
        "  }\n",
        "}"
      ],
      "metadata": {
        "id": "WQnHeHSMGtxq"
      },
      "execution_count": null,
      "outputs": []
    },
    {
      "cell_type": "markdown",
      "source": [
        "uva482 Permutation Arrays"
      ],
      "metadata": {
        "id": "f_6FVDAxGyP_"
      }
    },
    {
      "cell_type": "code",
      "source": [
        "#include<iostream>\n",
        "using namespace std;\n",
        "int main(){\n",
        "  int t,a,i,j,n[10005];cin>>t;\n",
        "  string m[10005];\n",
        "  while(t--){\n",
        "  \tfor(i=1;;i++){\n",
        "  \t\tcin>>a;\n",
        "  \t\tn[a]=i;\n",
        "  \t\tif(getchar()=='\\n')break;\n",
        "  \t}\n",
        "  \tfor(j=1;j<=i;j++)cin>>m[j];\n",
        "  \tfor(i=1;i<j;i++)cout<<m[n[i]]<<endl;\n",
        "  \tif(t)cout<<endl;\n",
        "  }\n",
        "}"
      ],
      "metadata": {
        "id": "mUkwS_HMGzRZ"
      },
      "execution_count": null,
      "outputs": []
    },
    {
      "cell_type": "markdown",
      "source": [
        "uva496 Simply Subsets"
      ],
      "metadata": {
        "id": "DDwreZagG2t2"
      }
    },
    {
      "cell_type": "code",
      "source": [
        "#include<iostream>\n",
        "using namespace std;\n",
        "int main(){\n",
        "\tint a[10005],b[10005];\n",
        "\twhile(cin>>a[0]){\n",
        "\t\tint count1=1,count2=0;\n",
        "\t\twhile(cin>>a[count1]){\n",
        "\t\t\tcount1++;\n",
        "\t\t\tif(getchar()=='\\n')\n",
        "\t\t\t\tbreak;\n",
        "\t\t}\n",
        "\t\twhile(cin>>b[count2]){\n",
        "\t\t\tcount2++;\n",
        "\t\t\tif(getchar()=='\\n')\n",
        "\t\t\t\tbreak;\n",
        "\t\t}\n",
        "\t\tint i,j,sum=0;\n",
        "\t\tfor(i=0;i<count1;i++){\n",
        "\t\t\tfor(j=0;j<count2;j++){\n",
        "\t\t\t\tif(a[i]==b[j]){\n",
        "\t\t\t\t\tsum++;\n",
        "\t\t\t\t\tbreak;\n",
        "\t\t\t\t}\n",
        "\t\t\t}\n",
        "\t\t}\n",
        "\t\tif(sum==count1 && sum==count2){\n",
        "\t\t\tcout<<\"A equals B\"<<endl;\n",
        "\t\t}\n",
        "\t\telse if(sum==count2){\n",
        "\t\t\tcout<<\"B is a proper subset of A\"<<endl;\n",
        "\t\t}\n",
        "\t\telse if(sum==count1){\n",
        "\t\t\tcout<<\"A is a proper subset of B\"<<endl;\n",
        "\t\t}\n",
        "\t\telse if(sum==0)\n",
        "\t\t\tcout<<\"A and B are disjoint\"<<endl;\n",
        "\t\telse\n",
        "\t\t\tcout<<\"I'm confused!\"<<endl;\n",
        "\t}\n",
        "}"
      ],
      "metadata": {
        "id": "RMrs0FyLG467"
      },
      "execution_count": null,
      "outputs": []
    },
    {
      "cell_type": "markdown",
      "source": [
        "uva1225 Digit Counting"
      ],
      "metadata": {
        "id": "QCikQ3kMG7CQ"
      }
    },
    {
      "cell_type": "code",
      "source": [
        "#include<iostream>\n",
        "using namespace std;\n",
        "int main(){\n",
        "  int t,n;cin>>t;\n",
        "  while(cin>>n){\n",
        "  \tint sum=0,c[10]={0};\n",
        "  \tdo{\n",
        "  \t\tsum=n;\n",
        "  \t\twhile(sum){\n",
        "  \t\t\tc[sum%10]++;\n",
        "  \t\t\tsum/=10;\n",
        "  \t\t}\n",
        "  \t}while(n--);\n",
        "  \tfor(n=0;n<10;n++){\n",
        "  \t\tif(n)cout<<\" \";\n",
        "  \t\tcout<<c[n];\n",
        "  \t}\n",
        "  \tcout<<endl;\n",
        "  }\n",
        "}"
      ],
      "metadata": {
        "id": "vgL5XUEqHDCL"
      },
      "execution_count": null,
      "outputs": []
    },
    {
      "cell_type": "markdown",
      "source": [
        "uva12195 Jingle Composing"
      ],
      "metadata": {
        "id": "8CtxJ4NNHEX7"
      }
    },
    {
      "cell_type": "code",
      "source": [
        "#include<iostream>\n",
        "#include<map>\n",
        "using namespace std;\n",
        "int main(){\n",
        "  map<char,int>m;\n",
        "  m['W']=64;\n",
        "  m['H']=32;\n",
        "  m['Q']=16;\n",
        "  m['E']=8;\n",
        "  m['S']=4;\n",
        "  m['T']=2;\n",
        "  m['X']=1;\n",
        "  string s;\n",
        "  while(cin>>s,s!=\"*\"){\n",
        "  \tint ans=0,sum=0;\n",
        "  \tfor(int i=1;i<s.size();i++){\n",
        "  \t\tif(s[i]=='/'){\n",
        "  \t\t\tif(sum==64)ans++;\n",
        "  \t\t\tsum=0;\n",
        "  \t\t}\n",
        "  \t\telse sum+=m[s[i]];\n",
        "  \t}\n",
        "  \tcout<<ans<<endl;\n",
        "  }\n",
        "}"
      ],
      "metadata": {
        "id": "rlUbxZuWHHZ4"
      },
      "execution_count": null,
      "outputs": []
    },
    {
      "cell_type": "markdown",
      "source": [
        "uva11743 Credit Check"
      ],
      "metadata": {
        "id": "eB4BAJ7THL0p"
      }
    },
    {
      "cell_type": "code",
      "source": [
        "#include<iostream>\n",
        "using namespace std;\n",
        "int main(){\n",
        "  int t;cin>>t;getchar();\n",
        "  while(t--){\n",
        "  \tchar c;int sum=0;\n",
        "  \tfor(int i=1;i<=20;i++){\n",
        "  \t\tif(i%5==0)c=getchar();\n",
        "  \t\telse if((i%5)%2==0){\n",
        "  \t\t\tc=getchar()-'0';\n",
        "  \t\t\tsum+=c;\n",
        "  \t\t}\n",
        "  \t\telse{\n",
        "  \t\t\tc=getchar()-'0';\n",
        "  \t\t\tsum+=(c*2)/10+(c*2)%10;\n",
        "  \t\t}\n",
        "  \t}\n",
        "  \tif(sum%10)cout<<\"Invalid\"<<endl;\n",
        "  \telse cout<<\"Valid\"<<endl;\n",
        "  }\n",
        "}"
      ],
      "metadata": {
        "id": "NJx3CqtpHNJ3"
      },
      "execution_count": null,
      "outputs": []
    },
    {
      "cell_type": "markdown",
      "source": [
        "uva13190 Rockabye Tobby"
      ],
      "metadata": {
        "id": "qgzdcMftHPGR"
      }
    },
    {
      "cell_type": "code",
      "source": [
        "#include<iostream>\n",
        "using namespace std;\n",
        "int main(){\n",
        "  int t,n,m,a[10005];cin>>t;\n",
        "  string s[10005];\n",
        "  while(t--){\n",
        "  \tcin>>n>>m;int c=0;\n",
        "  \tfor(int i=0;i<n;i++)\n",
        "  \t\tcin>>s[i]>>a[i];\n",
        "  \tfor(int i=1;i<1234567;i++){\n",
        "  \t\tfor(int j=0;j<n;j++){\n",
        "  \t\t\tif(i%a[j]==0){\n",
        "  \t\t\t\tcout<<i<<\" \"<<s[j]<<endl;\n",
        "  \t\t\t\tc++;\n",
        "  \t\t\t}\n",
        "  \t\t\tif(c==m)break;\n",
        "  \t\t}\n",
        "  \t\tif(c==m)break;\n",
        "  \t}\n",
        "  }\n",
        "}"
      ],
      "metadata": {
        "id": "n1dGch7YHSta"
      },
      "execution_count": null,
      "outputs": []
    },
    {
      "cell_type": "markdown",
      "source": [
        "uva10591 Happy Number"
      ],
      "metadata": {
        "id": "QDibxjVkHULz"
      }
    },
    {
      "cell_type": "code",
      "source": [
        "#include<iostream>\n",
        "using namespace std;\n",
        "int f(int n){\n",
        "\tint t=0;\n",
        "\twhile(n>0){\n",
        "\t\tt+=(n%10)*(n%10);\n",
        "\t\tn/=10;\n",
        "\t}\n",
        "\tif(t<10)return t;\n",
        "\telse return f(t);\n",
        "}\n",
        "int main(){\n",
        "  int t,n,k=1;cin>>t;\n",
        "  while(cin>>n){\n",
        "  \tcout<<\"Case #\"<<k++<<\": \";\n",
        "  \tif(f(n)==1)cout<<n<<\" is a Happy number.\"<<endl;\n",
        "  \telse cout<<n<<\" is an Unhappy number.\"<<endl;\n",
        "  }\n",
        "}"
      ],
      "metadata": {
        "id": "_tvRBfk9HY08"
      },
      "execution_count": null,
      "outputs": []
    },
    {
      "cell_type": "markdown",
      "source": [
        "uva488 TriangleWave"
      ],
      "metadata": {
        "id": "EDfplXCuHaRj"
      }
    },
    {
      "cell_type": "code",
      "source": [
        "#include<iostream>\n",
        "using namespace std;\n",
        "int main(){\n",
        "  int t,a,b;cin>>t;\n",
        "  bool p=false;\n",
        "  while(cin>>a>>b){\n",
        "  \tif(!p)p=true;\n",
        "  \telse cout<<endl;\n",
        "  \tfor(int i=1;i<=b;i++){\n",
        "  \t\tif(i!=1)cout<<endl;\n",
        "  \t\tfor(int j=1;j<=a;j++){\n",
        "  \t\t\tfor(int k=1;k<=j;k++){\n",
        "  \t\t\t\tcout<<j;\n",
        "  \t\t\t}\n",
        "  \t\t\tcout<<endl;\n",
        "  \t\t}\n",
        "  \t\tfor(int j=a-1;j>=1;j--){\n",
        "  \t\t\tfor(int k=j;k>=1;k--){\n",
        "  \t\t\t\tcout<<j;\n",
        "  \t\t\t}\n",
        "  \t\t\tcout<<endl;\n",
        "  \t\t}\n",
        "  \t}\n",
        "  }\n",
        "}"
      ],
      "metadata": {
        "id": "_GyHGO2lHeOm"
      },
      "execution_count": null,
      "outputs": []
    },
    {
      "cell_type": "markdown",
      "source": [
        "uva10633 RareEasyProblem"
      ],
      "metadata": {
        "id": "SaiIRUGrHjZv"
      }
    },
    {
      "cell_type": "code",
      "source": [
        "#include<iostream>\n",
        "using namespace std;\n",
        "int main(){\n",
        "  long long n;\n",
        "  while(cin>>n,n){\n",
        "  \tif(n%9==0)cout<<n/9+n-1<<\" \";\n",
        "  \tcout<<n/9+n<<endl;\n",
        "  }\n",
        "}"
      ],
      "metadata": {
        "id": "JI11ljXaHlFm"
      },
      "execution_count": null,
      "outputs": []
    },
    {
      "cell_type": "markdown",
      "source": [
        "uva11455 BeholdMyQuadrangle"
      ],
      "metadata": {
        "id": "0L3bAA2YHozh"
      }
    },
    {
      "cell_type": "code",
      "source": [
        "#include<iostream>\n",
        "#include<algorithm>\n",
        "using namespace std;\n",
        "int main(){\n",
        "  int t;cin>>t;\n",
        "  while(t--){\n",
        "  \tint a[4];\n",
        "  \tfor(auto&i:a)cin>>i;\n",
        "  \tsort(a,a+4);\n",
        "  \tif(a[0]==a[3])cout<<\"square\";\n",
        "  \telse if(a[0]==a[1]&&a[2]==a[3])cout<<\"rectangle\";\n",
        "  \telse if(a[0]+a[1]+a[2]>a[3])cout<<\"quadrangle\";\n",
        "  \telse cout<<\"banana\";\n",
        "  \tcout<<endl;\n",
        "  }\n",
        "}"
      ],
      "metadata": {
        "id": "G_FxzqoBHp2d"
      },
      "execution_count": null,
      "outputs": []
    },
    {
      "cell_type": "markdown",
      "source": [
        "uva913 JoanaandtheOddNumbers"
      ],
      "metadata": {
        "id": "aVPxgzdqHrg-"
      }
    },
    {
      "cell_type": "code",
      "source": [
        "#include<iostream>\n",
        "using namespace std;\n",
        "int main(){\n",
        "  long long int n;\n",
        "  while(cin>>n){\n",
        "  \tcout<<(n+1)*(n+1)*3/2-9<<endl;\n",
        "  }\n",
        "}"
      ],
      "metadata": {
        "id": "azGIOp0nHud3"
      },
      "execution_count": null,
      "outputs": []
    },
    {
      "cell_type": "markdown",
      "source": [
        "uva12650 DangerousDive"
      ],
      "metadata": {
        "id": "7MIUn0VIHzQs"
      }
    },
    {
      "cell_type": "code",
      "source": [
        "#include<iostream>\n",
        "using namespace std;\n",
        "int main(){\n",
        "  int n,m;\n",
        "  while(cin>>n>>m){\n",
        "  \tint a[10005]={},b;\n",
        "  \tfor(int i=0;i<m;i++){\n",
        "  \t\tcin>>b;\n",
        "  \t\ta[b]=1;\n",
        "  \t}\n",
        "  \tfor(int i=1;i<=n;i++)\n",
        "  \t\tif(a[i]==0)cout<<i<<\" \";\n",
        "  \tif(n==m)cout<<\"*\";\n",
        "  \tcout<<endl;\n",
        "  }\n",
        "}"
      ],
      "metadata": {
        "id": "nuaWflb0H0kH"
      },
      "execution_count": null,
      "outputs": []
    },
    {
      "cell_type": "markdown",
      "source": [
        "uva145 GondwanalandTelecom"
      ],
      "metadata": {
        "id": "Rzg5XuYOH2Cj"
      }
    },
    {
      "cell_type": "code",
      "source": [
        "#include<iostream>\n",
        "using namespace std;\n",
        "int main(){\n",
        "\tchar area, number[50];\n",
        "\tint h1,m1,h2,m2;\n",
        "\tint rate[5][3]={{10,6,2},{25,15,5},{53,33,13},{87,47,17},{144,80,30}};\n",
        "\twhile(cin>>area,area!='#'){\n",
        "\t\tcin>>number>>h1>>m1>>h2>>m2;\n",
        "\t\tint t1=h1*60+m1,t2=h2*60+m2;\n",
        "\t\tint cnt[3]={};\n",
        "\t\twhile(t1!=t2){\n",
        "\t\t\tif(t1<480||t1>=1320){\n",
        "\t\t\t\tcnt[2]++;\n",
        "\t\t\t}else if(t1<1080){\n",
        "\t\t\t\tcnt[0]++;\n",
        "\t\t\t}else{\n",
        "\t\t\t\tcnt[1]++;\n",
        "\t\t\t}\n",
        "\t\t\tt1 = (t1+1)%1440;\n",
        "\t\t}\n",
        "\t\tarea-='A';\n",
        "\t\tint cost = rate[area][0]*cnt[0]+rate[area][1]*cnt[1]+rate[area][2]*cnt[2];\n",
        "\t\tprintf(\"%10s%6d%6d%6d%3c%5d.%02d\\n\",number,cnt[0],cnt[1],cnt[2],area+'A',cost/100,cost%100);\n",
        "\t}\n",
        "}"
      ],
      "metadata": {
        "id": "D8HTYpg_H5E-"
      },
      "execution_count": null,
      "outputs": []
    },
    {
      "cell_type": "markdown",
      "source": [
        "uva13185 DPANumbersI"
      ],
      "metadata": {
        "id": "91otU2JlH-eN"
      }
    },
    {
      "cell_type": "code",
      "source": [
        "#include<iostream>\n",
        "using namespace std;\n",
        "int main(){\n",
        "  int t,n;cin>>t;\n",
        "  while(cin>>n){\n",
        "  \tint d=1,sum=0;\n",
        "  \twhile(d<n){\n",
        "  \t\tif(n%d==0)sum+=d;\n",
        "  \t\td++;\n",
        "  \t}\n",
        "  \tif(sum<n)cout<<\"deficient\";\n",
        "  \telse if(sum==n)cout<<\"perfect\";\n",
        "  \telse cout<<\"abundant\";\n",
        "  \tcout<<endl;\n",
        "  }\n",
        "}"
      ],
      "metadata": {
        "id": "dxAYu5v_IBV3"
      },
      "execution_count": null,
      "outputs": []
    },
    {
      "cell_type": "markdown",
      "source": [
        "uva11636 HelloWorld!"
      ],
      "metadata": {
        "id": "G6j_U191IGJ_"
      }
    },
    {
      "cell_type": "code",
      "source": [
        "#include<iostream>\n",
        "#include<cmath>\n",
        "using namespace std;\n",
        "int main(){\n",
        "  int n,k=1;\n",
        "  while(cin>>n,n!=-1){\n",
        "  \tprintf(\"Case %d: %.0f\\n\",k++,ceil(log(n)/log(2)));\n",
        "  }\n",
        "}"
      ],
      "metadata": {
        "id": "jSaU1MVrIHYA"
      },
      "execution_count": null,
      "outputs": []
    },
    {
      "cell_type": "markdown",
      "source": [
        "uva10550 CombinationLock"
      ],
      "metadata": {
        "id": "V5OGGiQtIK3j"
      }
    },
    {
      "cell_type": "code",
      "source": [
        "#include<iostream>\n",
        "using namespace std;\n",
        "int main(){\n",
        "  int a,b,c,d;\n",
        "  while(cin>>a>>b>>c>>d,a+b+c+d){\n",
        "  \tcout<<(120+(40+a-b)%40+(40+c-b)%40+(40+c-d)%40)*9<<endl;\n",
        "  }\n",
        "}"
      ],
      "metadata": {
        "id": "tPTWW8yWIOY8"
      },
      "execution_count": null,
      "outputs": []
    },
    {
      "cell_type": "markdown",
      "source": [
        "uva11678 ExchangingCards"
      ],
      "metadata": {
        "id": "ZgLnQlmGIPzK"
      }
    },
    {
      "cell_type": "code",
      "source": [
        "#include<bits/stdc++.h>\n",
        "using namespace std;\n",
        "int main(){\n",
        "  int t,a,b;\n",
        "  while(cin>>a>>b,a,b){\n",
        "  \tset<int>ca,cb,cc;\n",
        "  \tfor(int i=0;i<a;i++){\n",
        "  \t\tcin>>t;\n",
        "  \t\tca.insert(t);\n",
        "  \t\tcc.insert(t);\n",
        "  \t}\n",
        "  \tfor(int i=0;i<b;i++){\n",
        "  \t\tcin>>t;\n",
        "  \t\tcb.insert(t);\n",
        "  \t\tcc.insert(t);\n",
        "  \t}\n",
        "  \tcout<<cc.size()-max(ca.size(),cb.size())<<endl;\n",
        "  }\n",
        "}"
      ],
      "metadata": {
        "id": "PY3o4sxpIT-7"
      },
      "execution_count": null,
      "outputs": []
    },
    {
      "cell_type": "markdown",
      "source": [
        "uva11541 Decoding"
      ],
      "metadata": {
        "id": "xRoOEEq_IVYY"
      }
    },
    {
      "cell_type": "code",
      "source": [
        "#include<iostream>\n",
        "using namespace std;\n",
        "int main(){\n",
        "  int t,n,k=1;cin>>t;getchar();\n",
        "  while(t--){\n",
        "  \tchar c;\n",
        "  \tcout<<\"Case \"<<k++<<\": \";\n",
        "  \twhile(cin.get(c)){\n",
        "  \t\tif(c=='\\n')break;\n",
        "  \t\tcin>>n;\n",
        "  \t\twhile(n--){\n",
        "  \t\t\tcout<<c;\n",
        "  \t\t}\n",
        "  \t}\n",
        "  \tcout<<endl;\n",
        "  }\n",
        "}"
      ],
      "metadata": {
        "id": "DEDpXtQSIcH6"
      },
      "execution_count": null,
      "outputs": []
    },
    {
      "cell_type": "markdown",
      "source": [
        "uva11677 Alarm Clock"
      ],
      "metadata": {
        "id": "J-BCrPswIht-"
      }
    },
    {
      "cell_type": "code",
      "source": [
        "#include<iostream>\n",
        "using namespace std;\n",
        "int main(){\n",
        "  int h1,m1,h2,m2;\n",
        "  while(cin>>h1>>m1>>h2>>m2,h1+m1+h2+m2){\n",
        "  \tcout<<(1440+(h2*60+m2)-(h1*60+m1))%1440<<endl;\n",
        "  }\n",
        "}"
      ],
      "metadata": {
        "id": "uu-XPx3yIi9J"
      },
      "execution_count": null,
      "outputs": []
    },
    {
      "cell_type": "markdown",
      "source": [
        "uva12820 Cool Word"
      ],
      "metadata": {
        "id": "hSH_bay8IkQb"
      }
    },
    {
      "cell_type": "code",
      "source": [
        "#include<iostream>\n",
        "using namespace std;\n",
        "int main(){\n",
        "  int t,k=1;\n",
        "  while(cin>>t){\n",
        "  \tint sum=0;\n",
        "  \twhile(t--){\n",
        "  \t\tint a[26]={0},b=0;\n",
        "  \t\tbool m[10005]={0},p=true;\n",
        "  \t\tstring s;cin>>s;\n",
        "  \t\tfor(char i:s){\n",
        "  \t\t\tif(a[i-97]==0)b++;\n",
        "  \t\t\ta[i-97]++;\n",
        "  \t\t}\n",
        "  \t\tfor(int i:a){\n",
        "  \t\t\tif(i==0)continue;\n",
        "  \t\t\tif(m[i]==0)m[i]=true;\n",
        "  \t\t\telse p=false;\n",
        "  \t\t}\n",
        "  \t\tif(p&&b>=2)sum++;\n",
        "  \t  }\n",
        "  \t  cout<<\"Case \"<<k++<<\": \"<<sum<<endl;\n",
        "  }\n",
        "}"
      ],
      "metadata": {
        "id": "rLzNHW7yInGz"
      },
      "execution_count": null,
      "outputs": []
    },
    {
      "cell_type": "markdown",
      "source": [
        "uva263 Number Chains"
      ],
      "metadata": {
        "id": "qEWZlN7KIuK-"
      }
    },
    {
      "cell_type": "code",
      "source": [
        "#include<bits/stdc++.h>\n",
        "using namespace std;\n",
        "int main(){\n",
        "  int n;\n",
        "  while(cin>>n,n){\n",
        "  \tint i=0;\n",
        "  \tcout<<\"Original number was \"<<n<<endl;\n",
        "  \tmap<int,int>m;\n",
        "  \twhile(1){\n",
        "  \t\tstring a=to_string(n);\n",
        "  \t\tsort(a.begin(),a.end());\n",
        "  \t\tstring b=a;\n",
        "  \t\treverse(b.begin(),b.end());\n",
        "  \t\ti++;\n",
        "  \t\tint a1=stoi(a),b1=stoi(b);\n",
        "  \t\tn=b1-a1;\n",
        "  \t\tif(m[n]==0){m[n]++;cout<<b1<<\" - \"<<a1<<\" = \"<<n<<endl;}\n",
        "  \t\telse{cout<<b1<<\" - \"<<a1<<\" = \"<<n<<endl;break;}\n",
        "  \t}\n",
        "  \tcout<<\"Chain length \"<<i++<<endl<<endl;\n",
        "  }\n",
        "}"
      ],
      "metadata": {
        "id": "UqpkErnMIw4e"
      },
      "execution_count": null,
      "outputs": []
    },
    {
      "cell_type": "markdown",
      "source": [
        "uva1237 Expert Enough?"
      ],
      "metadata": {
        "id": "Ih5Z9fxtIydK"
      }
    },
    {
      "cell_type": "code",
      "source": [
        "#include<iostream>\n",
        "using namespace std;\n",
        "int main(){\n",
        "  int t,n,a,price,low[10005],high[10005];\n",
        "  string s[10005],ans;cin>>t;\n",
        "  while(t--){\n",
        "  \tcin>>n;\n",
        "  \tfor(int i=0;i<n;i++)\n",
        "  \t\tcin>>s[i]>>low[i]>>high[i];\n",
        "  \tcin>>a;\n",
        "  \twhile(a--){\n",
        "  \t\tcin>>price;int c=0;\n",
        "  \t\tfor(int i=0;i<n;i++)\n",
        "  \t\t\tif((price<=high[i])&&(price>=low[i])){c++;ans=s[i];}\n",
        "  \t\tif(c==1)cout<<ans<<endl;\n",
        "  \t\telse cout<<\"UNDETERMINED\"<<endl;\n",
        "  \t}\n",
        "  \tif(t)cout<<endl;\n",
        "  }\n",
        "}"
      ],
      "metadata": {
        "id": "X8Z75WTRI0Y9"
      },
      "execution_count": null,
      "outputs": []
    },
    {
      "cell_type": "markdown",
      "source": [
        "uva11498 Division of Nlogonia"
      ],
      "metadata": {
        "id": "8csfkhNZI6Bp"
      }
    },
    {
      "cell_type": "code",
      "source": [
        "#include<iostream>\n",
        "using namespace std;\n",
        "int main(){\n",
        "  int t;\n",
        "  while(cin>>t,t){\n",
        "  \tint dx,dy;cin>>dx>>dy;\n",
        "  \twhile(t--){\n",
        "  \t\tint x,y;cin>>x>>y;\n",
        "  \t\tif(dx==x||dy==y)cout<<\"divisa\";\n",
        "  \t\telse{\n",
        "  \t\t\tif(y>dy)cout<<\"N\";\n",
        "  \t\t\telse cout<<\"S\";\n",
        "  \t\t\tif(x>dx)cout<<\"E\";\n",
        "  \t\t\telse cout<<\"O\";\n",
        "  \t\t}\n",
        "  \t\tcout<<endl;\n",
        "  \t}\n",
        "  }\n",
        "}"
      ],
      "metadata": {
        "id": "1snHWa3TI7hz"
      },
      "execution_count": null,
      "outputs": []
    },
    {
      "cell_type": "markdown",
      "source": [
        "uva1368 DNA Consensus String"
      ],
      "metadata": {
        "id": "6jT6wqEKJFrh"
      }
    },
    {
      "cell_type": "code",
      "source": [
        "#include <iostream>\n",
        "using namespace std;\n",
        "char gene[55][1005],gg[4]={'T','G','C','A'};\n",
        "int main(){\n",
        "\tint tc;\n",
        "\tcin>>tc;\n",
        "\twhile(tc--){\n",
        "\t\tint m,n;\n",
        "\t\tcin>>m>>n;\n",
        "\t\tfor(int i=0;i<m;i++){\n",
        "\t\t\tcin>>gene[i];\n",
        "\t\t}\n",
        "\t\tint maxint,ggindex,asn=0,temp;\n",
        "\t\tfor(int i=0;i<n;i++){\n",
        "\t\t\tmaxint=10000;\n",
        "\t\t\tggindex=-1;\n",
        "\t\t\tfor(int j=0;j<4;j++){\n",
        "\t\t\t\ttemp=0;\n",
        "\t\t\t\tfor(int k=0;k<m;k++){\n",
        "\t\t\t\t\tif(gg[j]!=gene[k][i]){\n",
        "\t\t\t\t\t\ttemp++;\n",
        "\t\t\t\t\t}\n",
        "\t\t\t\t}\n",
        "\t\t\t\tif(temp<=maxint){\n",
        "\t\t\t\t\tggindex=j;\n",
        "\t\t\t\t\tmaxint=temp;\n",
        "\t\t\t\t}\n",
        "\t\t\t}\n",
        "\t\t\tasn+=maxint;\n",
        "\t\t\tcout<<gg[ggindex];\n",
        "\t\t}\n",
        "\t\tcout<<endl<<asn<<endl;\n",
        "\t}\n",
        "}"
      ],
      "metadata": {
        "id": "xIxxP1CFJHNo"
      },
      "execution_count": null,
      "outputs": []
    },
    {
      "cell_type": "markdown",
      "source": [
        "uva458 The Decoder"
      ],
      "metadata": {
        "id": "6hQ2SiGyJNFa"
      }
    },
    {
      "cell_type": "code",
      "source": [
        "#include<iostream>\n",
        "using namespace std;\n",
        "int main(){\n",
        "  string s;\n",
        "  while(cin>>s){\n",
        "  \tfor(char i:s)\n",
        "  \t\tcout<<char(i-7);\n",
        "  \tcout<<endl;\n",
        "  }\n",
        "}"
      ],
      "metadata": {
        "id": "M_tIVcEgJPP8"
      },
      "execution_count": null,
      "outputs": []
    },
    {
      "cell_type": "markdown",
      "source": [
        "uva389 Basically Speaking"
      ],
      "metadata": {
        "id": "zt9K8nYUJQeR"
      }
    },
    {
      "cell_type": "code",
      "source": [
        "#include<bits/stdc++.h>\n",
        "using namespace std;\n",
        "int main(){\n",
        "  string s;int a,b;\n",
        "  while(cin>>s>>a>>b){\n",
        "  \ts=strupr(itoa(stoi(s,0,a),new char[128],b));\n",
        "  \twhile(s.size()>7)s.erase(s.begin());\n",
        "  \twhile(s.size()<7)s.insert(s.begin(),'0');\n",
        "  \tcout<<s<<endl;\n",
        "  }\n",
        "}"
      ],
      "metadata": {
        "id": "daIBQKGdJTmV"
      },
      "execution_count": null,
      "outputs": []
    },
    {
      "cell_type": "markdown",
      "source": [
        "uva10921 Find the Telephone"
      ],
      "metadata": {
        "id": "HRIgjdR4JU3Y"
      }
    },
    {
      "cell_type": "code",
      "source": [
        "#include<iostream>\n",
        "using namespace std;\n",
        "int main(){\n",
        "  string s;\n",
        "  string c=\"22233344455566677778889999\";\n",
        "  while(cin>>s){\n",
        "  \tint sum=0,a=0;\n",
        "  \tfor(int i=0;i<s.size();i++){\n",
        "  \t\tint t=s[i]-'A';\n",
        "  \t\tif(isalpha(s[i])){\n",
        "  \t\t\tcout<<c[t];\n",
        "  \t\t\tsum++;\n",
        "  \t\t}\n",
        "  \t\telse cout<<s[i];\n",
        "  \t\tif(s[i]=='-')a++;\n",
        "  \t}\n",
        "  \tcout<<\" \"<<sum<<\" \"<<a<<endl;\n",
        "  }\n",
        "}"
      ],
      "metadata": {
        "id": "oDxbG6cXJblL"
      },
      "execution_count": null,
      "outputs": []
    },
    {
      "cell_type": "markdown",
      "source": [
        "uva725 Division"
      ],
      "metadata": {
        "id": "J6N0ngePJc4F"
      }
    },
    {
      "cell_type": "code",
      "source": [
        "#include<iostream>\n",
        "#include<string>\n",
        "#include<algorithm>\n",
        "\n",
        "using namespace std;\n",
        "\n",
        "int main(){\n",
        "\tint n;\n",
        "\tstring tmp = \"0123456789\";\n",
        "\tint rnd = 0;\n",
        "\twhile(cin >> n){\n",
        "\t\tif(n == 0) break;\n",
        "\t\tif(rnd)\n",
        "\t\tcout << endl;\n",
        "\t\trnd++;\n",
        "\t\tbool no = true;\n",
        "\t\tfor(int i = 1234 ; i * n < 100000 ; i++){\n",
        "\t\t\tint j = i*n;\n",
        "\t\t\tstring c = to_string(i);\n",
        "\t\t\tif(c.size() < 5) c = \"0\"+c;\n",
        "\t\t\tstring d = to_string(j);\n",
        "\t\t\tstring a = c + d;\n",
        "\t\t\tsort(a.begin(), a.end());\n",
        "\t\t\tif(a == tmp){\n",
        "\t\t\t\t cout << j << \" / \" << c << \" = \" << n << endl;\n",
        "\t\t\t\t no = false;\n",
        "\t\t\t}\n",
        "\t\t}\n",
        "\t\tif(no) cout << \"There are no solutions for \" << n << \".\" << endl;\n",
        "\t}\n",
        "}"
      ],
      "metadata": {
        "id": "P_sNqEI6Jg0Z"
      },
      "execution_count": null,
      "outputs": []
    },
    {
      "cell_type": "markdown",
      "source": [
        "uva12959 Strategy Game"
      ],
      "metadata": {
        "id": "eCXckOHfJkqs"
      }
    },
    {
      "cell_type": "code",
      "source": [
        "#include<iostream>\n",
        "using namespace std;\n",
        "int main(){\n",
        "  int a,b;\n",
        "  while(cin>>a>>b,a,b){\n",
        "  \tint n,m[10005]={0},sum=0;\n",
        "  \tfor(int i=0;i<(a*b);i++){\n",
        "  \t\tcin>>n;\n",
        "  \t\tint tp=i%a;\n",
        "  \t\tm[tp]+=n;\n",
        "  \t\tif(m[tp]>=m[sum])sum=tp;\n",
        "  \t}\n",
        "  \tcout<<sum+1<<endl;\n",
        "  }\n",
        "}"
      ],
      "metadata": {
        "id": "DCZ5kNazJl82"
      },
      "execution_count": null,
      "outputs": []
    },
    {
      "cell_type": "markdown",
      "source": [
        "uva1260 Sales"
      ],
      "metadata": {
        "id": "mPW8meXPJnk8"
      }
    },
    {
      "cell_type": "code",
      "source": [
        "#include<iostream>\n",
        "using namespace std;\n",
        "int main(){\n",
        "  int t,n,a[10005];cin>>t;\n",
        "  while(cin>>n){\n",
        "  \tint sum=0;\n",
        "  \tfor(int i=0;i<n;i++){\n",
        "  \t\tcin>>a[i];\n",
        "  \t\tfor(int j=0;j<i;j++){\n",
        "  \t\t\tif(a[j]<=a[i])sum++;\n",
        "  \t\t}\n",
        "  \t}\n",
        "  \tcout<<sum<<endl;\n",
        "  }\n",
        "}"
      ],
      "metadata": {
        "id": "SBhAn6D0JsQH"
      },
      "execution_count": null,
      "outputs": []
    },
    {
      "cell_type": "markdown",
      "source": [
        "uva11728 Alternate Task"
      ],
      "metadata": {
        "id": "Q5d_BsBKJxvw"
      }
    },
    {
      "cell_type": "code",
      "source": [
        "#include<iostream>\n",
        "using namespace std;\n",
        "int main(){\n",
        "  int n,k=1;\n",
        "  while(cin>>n,n){\n",
        "  \tint t=-1;\n",
        "  \tfor(int i=1;i<=n;i++){\n",
        "  \t\tint sum=0;\n",
        "  \t\tfor(int j=1;j<=i;j++){\n",
        "  \t\t\tif(i%j==0)sum+=j;\n",
        "  \t\t}\n",
        "  \t\tif(sum==n)t=i;\n",
        "  \t}\n",
        "  \tcout<<\"Case \"<<k++<<\": \"<<t<<endl;\n",
        "  }\n",
        "}"
      ],
      "metadata": {
        "id": "sfI28KuBJz6Q"
      },
      "execution_count": null,
      "outputs": []
    },
    {
      "cell_type": "markdown",
      "source": [
        "uva12908 The book thief"
      ],
      "metadata": {
        "id": "vzgRjeMUJ3Us"
      }
    },
    {
      "cell_type": "code",
      "source": [
        "#include<iostream>\n",
        "using namespace std;\n",
        "int main(){\n",
        "  int n;\n",
        "  while(cin>>n,n){\n",
        "  \tint sum=0;\n",
        "  \twhile(n>=0){\n",
        "  \t\tsum++;\n",
        "  \t\tn-=sum;\n",
        "  \t}\n",
        "  \tcout<<-n<<\" \"<<sum<<endl;\n",
        "  }\n",
        "}"
      ],
      "metadata": {
        "id": "Or_yMnizJ4tn"
      },
      "execution_count": null,
      "outputs": []
    },
    {
      "cell_type": "markdown",
      "source": [
        "uva11000 Bee"
      ],
      "metadata": {
        "id": "TEffxgVXJ9Be"
      }
    },
    {
      "cell_type": "code",
      "source": [
        "#include<iostream>\n",
        "using namespace std;\n",
        "int main(){\n",
        "  int n;\n",
        "  while(cin>>n,n!=-1){\n",
        "  \tlong long a=1,b=2,c=0;\n",
        "  \twhile(--n){\n",
        "  \t\tc=a+b+1;\n",
        "  \t\ta=b;\n",
        "  \t\tb=c;\n",
        "  \t}\n",
        "  \tcout<<a<<\" \"<<b<<endl;\n",
        "  }\n",
        "}"
      ],
      "metadata": {
        "id": "Xi097ufjJ-K-"
      },
      "execution_count": null,
      "outputs": []
    },
    {
      "cell_type": "markdown",
      "source": [
        "uva11219 How old are you?"
      ],
      "metadata": {
        "id": "Fw6AxFkrKEVe"
      }
    },
    {
      "cell_type": "code",
      "source": [
        "#include<iostream>\n",
        "using namespace std;\n",
        "int main(){\n",
        "  int t,a,b,c,d,e,f,k=1;cin>>t;\n",
        "  while(t--){\n",
        "  \tchar tp;\n",
        "  \tcout<<\"Case #\"<<k++<<\": \";\n",
        "  \tcin>>a>>tp>>b>>tp>>c>>d>>tp>>e>>tp>>f;\n",
        "  \tint age=c-f-(b<e||(b==e&&a<d));\n",
        "  \tif(age<0)cout<<\"Invalid birth date\";\n",
        "  \telse if(age>130)cout<<\"Check birth date\";\n",
        "  \telse cout<<age;\n",
        "  \tcout<<endl;\n",
        "  }\n",
        "}"
      ],
      "metadata": {
        "id": "9FjElaQvKGgz"
      },
      "execution_count": null,
      "outputs": []
    },
    {
      "cell_type": "markdown",
      "source": [
        "uva1339 Ancient Cipher"
      ],
      "metadata": {
        "id": "cF6kPqE2KICj"
      }
    },
    {
      "cell_type": "code",
      "source": [
        "#include\"bits/stdc++.h\"\n",
        "using namespace std;\n",
        "int main(){\n",
        "\tstring s,S;\n",
        "\twhile(cin>>s>>S){\n",
        "\t\tvector<int> a(30,0),b(30,0);\n",
        "\t\tfor(auto&k:s)a[k-'A']++;\n",
        "\t\tfor(auto&k:S)b[k-'A']++;\n",
        "\t\tsort(a.begin(),a.end());sort(b.begin(),b.end());\n",
        "\t\tif(a==b)cout<<\"YES\\n\";\n",
        "\t\telse cout<<\"NO\\n\";\n",
        "\t}\n",
        "}"
      ],
      "metadata": {
        "id": "UrWX4gRwKLSF"
      },
      "execution_count": null,
      "outputs": []
    },
    {
      "cell_type": "markdown",
      "source": [
        "uva10789 Prime Frequency"
      ],
      "metadata": {
        "id": "JR8d9fK-KROe"
      }
    },
    {
      "cell_type": "code",
      "source": [
        "#include<iostream>\n",
        "using namespace std;\n",
        "int main(){\n",
        "  int t,k=1;cin>>t;\n",
        "  while(t--){\n",
        "  \tcout<<\"Case \"<<k++<<\": \";\n",
        "  \tstring s;cin>>s;\n",
        "  \tint b['z']={0},tt=0;\n",
        "  \tfor(int i=0;i<s.size();i++)\n",
        "  \t\tb[s[i]]+=1;\n",
        "  \tfor(int i='0';i<'z';i++){\n",
        "  \t\tswitch(b[i]){\n",
        "  \t\t\tcase 2:case 3:case 5:case 7:case 11:case 13:case 17:case 19:case 23:case 29:\n",
        "  \t\t\tcout<<char(i);tt=1;\n",
        "  \t\t}\n",
        "  \t}\n",
        "  \tif(!tt)cout<<\"empty\";\n",
        "  \tcout<<endl;\n",
        "  }\n",
        "}"
      ],
      "metadata": {
        "id": "qZuOs-ECKTkx"
      },
      "execution_count": null,
      "outputs": []
    },
    {
      "cell_type": "markdown",
      "source": [
        "uva10162 Last Digit"
      ],
      "metadata": {
        "id": "JL3Jz-0wKqMC"
      }
    },
    {
      "cell_type": "code",
      "source": [
        "#include <iostream>\n",
        "#include<string>\n",
        "using namespace std;\n",
        "int f[20]{\n",
        "\t0,1,5,2,8,3,9,2,8,7,\n",
        "\t7,8,4,7,3,8,4,1,5,4};\n",
        "int main(){\n",
        "\tstring a;\n",
        "\twhile(cin>>a,a!=\"0\"){\n",
        "\t\tint value=a[a.size()-1]-'0';\n",
        "\t\tif(a.size()>1){\n",
        "\t\t\tvalue+=(a[a.size()-2]-'0')*10;\n",
        "\t\t}\n",
        "\t\tcout<<(f[value%20]+value/20*4)%10<<endl;\n",
        "\t}\n",
        "}"
      ],
      "metadata": {
        "id": "2zU8vkN-Krng"
      },
      "execution_count": null,
      "outputs": []
    },
    {
      "cell_type": "markdown",
      "source": [
        "uva10209 Is This Integration?"
      ],
      "metadata": {
        "id": "N2O1Q4PBKtRB"
      }
    },
    {
      "cell_type": "code",
      "source": [
        "#include <bits/stdc++.h>\n",
        "using namespace std;\n",
        "int main(){\n",
        "    double a,PI=2*acos(0);\n",
        "    while(cin>>a){\n",
        "        printf(\"%.3f %.3f %.3f\\n\",a*a*(PI/3+1-sqrt(3)),4*a*a*(PI/12-1+sqrt(3)/2),4*a*a*(-PI/6+1-sqrt(3)/4));\n",
        "    }\n",
        "}"
      ],
      "metadata": {
        "id": "xyTEEmAqKwKM"
      },
      "execution_count": null,
      "outputs": []
    },
    {
      "cell_type": "markdown",
      "source": [
        "uva10215 The Largest/Smallest Box..."
      ],
      "metadata": {
        "id": "T_uyLPEbKyX9"
      }
    },
    {
      "cell_type": "code",
      "source": [
        "#include<iostream>\n",
        "#include<cmath>\n",
        "using namespace std;\n",
        "int main(){\n",
        "\tdouble w,l,max,min1=0,min2;\n",
        "\twhile(cin>>l>>w){\n",
        "\t\tmax=(w+l-sqrt(w*w-w*l+l*l))/6;\n",
        "\t\tmin2=fmin(l,w)/2+1e-8;\n",
        "\t\tprintf(\"%.3f %.3f %.3f\\n\",max,min1,min2);\n",
        "\t}\n",
        "}"
      ],
      "metadata": {
        "id": "68NL_IXOK7Cy"
      },
      "execution_count": null,
      "outputs": []
    },
    {
      "cell_type": "markdown",
      "source": [
        "uva10260 Soundex"
      ],
      "metadata": {
        "id": "BqvdpwndLAp4"
      }
    },
    {
      "cell_type": "code",
      "source": [
        "#include <bits/stdc++.h>\n",
        "using namespace std;\n",
        "int main(){\n",
        " string s;\n",
        " while(cin>>s){\n",
        "  int a=0,b;\n",
        "  for(int i=0;i<s.size();i++){\n",
        "   if(s[i]=='C'||s[i]=='G'||s[i]=='J'||s[i]=='K'||s[i]=='Q'||s[i]=='S'||s[i]=='X'||s[i]=='Z') b=2;\n",
        "   else if(s[i]=='B'||s[i]=='F'||s[i]=='P'||s[i]=='V') b=1;\n",
        "   else if(s[i]=='D'||s[i]=='T') b=3;\n",
        "   else if(s[i]=='L') b=4;\n",
        "   else if(s[i]=='M'||s[i]=='N') b=5;\n",
        "   else if(s[i]=='R') b=6;\n",
        "   else b=0;\n",
        "   if(b!=a&&b!=0) cout<<b;\n",
        "   a=b;\n",
        "  }\n",
        "  cout<<endl;\n",
        " }\n",
        "}"
      ],
      "metadata": {
        "id": "_HcubQtBLDDW"
      },
      "execution_count": null,
      "outputs": []
    },
    {
      "cell_type": "markdown",
      "source": [
        "uva10281 Average Speed"
      ],
      "metadata": {
        "id": "DGBNNVebLEtx"
      }
    },
    {
      "cell_type": "code",
      "source": [
        "#include<iostream>\n",
        "#include<iomanip>\n",
        "#include<sstream>\n",
        "using namespace std;\n",
        "int main(){\n",
        "    string str;\n",
        "    int h, m, s, c, t, t1 = 0;\n",
        "    double v0 = 0, v1, ans = 0;\n",
        "    while (getline(cin, str)) {\n",
        "        stringstream ss(str);\n",
        "        char colon;\n",
        "        ss >> h >> colon >> m >> colon >> s;\n",
        "        t = 3600 * h + 60 * m + s;\n",
        "        ans += (t - t1) * v0 / 3600.0;\n",
        "        t1 = t;\n",
        "        if (ss >> v1) {\n",
        "            v0 = v1;\n",
        "        } else {\n",
        "            cout << setfill('0') << setw(2) << h << \":\"\n",
        "                 << setfill('0') << setw(2) << m << \":\"\n",
        "                 << setfill('0') << setw(2) << s << \" \"\n",
        "                 << fixed << setprecision(2) << ans << \" km\" << endl;\n",
        "        }\n",
        "    }\n",
        "}\n"
      ],
      "metadata": {
        "id": "V6Xgi_YcLHZM"
      },
      "execution_count": null,
      "outputs": []
    },
    {
      "cell_type": "markdown",
      "source": [
        "uva10282 Babelfish"
      ],
      "metadata": {
        "id": "j9XhmAwyLKZc"
      }
    },
    {
      "cell_type": "code",
      "source": [
        "#include <iostream>\n",
        "#include <map>\n",
        "#include <string>\n",
        "#include <sstream>\n",
        "using namespace std;\n",
        "int main(){\n",
        "\tmap<string, string> dict;\n",
        "\tstring input, key, value;\n",
        "\tstringstream ss;\n",
        "\n",
        "\twhile (getline(cin, input) && input != \"\") {\n",
        "\t\tss.clear();\n",
        "\t\tss << input;\n",
        "\t\tss >> value >> key;\n",
        "\t\tdict[key] = value;\n",
        "\t}\n",
        "\twhile (getline(cin, input)) cout << (dict.find(input) != dict.end() ? dict[input] : \"eh\") << endl;\n",
        "\n",
        "\treturn 0;\n",
        "}"
      ],
      "metadata": {
        "id": "2r2Q4RKrLPp7"
      },
      "execution_count": null,
      "outputs": []
    },
    {
      "cell_type": "markdown",
      "source": [
        "uva10300 Ecological Premium"
      ],
      "metadata": {
        "id": "BSaSDvoCLSqB"
      }
    },
    {
      "cell_type": "code",
      "source": [
        "#include<iostream>\n",
        "using namespace std;\n",
        "int main(){\n",
        "  int t,n;cin>>t;\n",
        "  while(t--){\n",
        "  \tcin>>n;int a,b,c,sum=0;\n",
        "  \twhile(n--){\n",
        "  \t\tcin>>a>>b>>c;\n",
        "  \t\tsum+=a*c;\n",
        "  \t}\n",
        "  \tcout<<sum<<endl;\n",
        "  }\n",
        "}"
      ],
      "metadata": {
        "id": "fQpR0_PXLTyt"
      },
      "execution_count": null,
      "outputs": []
    },
    {
      "cell_type": "markdown",
      "source": [
        "uva10324 Zeros and Ones"
      ],
      "metadata": {
        "id": "Pzo3PedOLXG3"
      }
    },
    {
      "cell_type": "code",
      "source": [
        "#include<bits\\stdc++.h>\n",
        "using namespace std;\n",
        "int main(){\n",
        "\tstring s;\n",
        "\tint k=1;\n",
        "\twhile(cin>>s){\n",
        "\t\tcout<<\"Case \"<<k++<<\":\"<<endl;\n",
        "\t\tint n,i,j;cin>>n;\n",
        "\t\twhile(n--){\n",
        "\t\t\tcin>>i>>j;\n",
        "\t\t\tbool f=true;\n",
        "\t\t\tfor(int a=i;a<=j;a++){\n",
        "\t\t\t\tif(s[a]!=s[i])f=false;\n",
        "\t\t\t}\n",
        "\t\t\tif(f)cout<<\"Yes\"<<endl;\n",
        "\t\t\telse cout<<\"No\"<<endl;\n",
        "\t\t}\n",
        "\t}\n",
        "}"
      ],
      "metadata": {
        "id": "yOMbzUZJLYqn"
      },
      "execution_count": null,
      "outputs": []
    },
    {
      "cell_type": "markdown",
      "source": [
        "uva10346 Peter's Smokes"
      ],
      "metadata": {
        "id": "KkLTo-WHLaHD"
      }
    },
    {
      "cell_type": "code",
      "source": [
        "#include<iostream>\n",
        "using namespace std;\n",
        "int main(){\n",
        "  int a,b;\n",
        "  while(cin>>a>>b){\n",
        "  \tint sum=a;\n",
        "  \twhile(a/b){\n",
        "  \t\tsum+=a/b;\n",
        "  \t\ta=a/b+a%b;\n",
        "  \t}\n",
        "  \tcout<<sum<<endl;\n",
        "  }\n",
        "}"
      ],
      "metadata": {
        "id": "kRStoU9MLc_1"
      },
      "execution_count": null,
      "outputs": []
    },
    {
      "cell_type": "markdown",
      "source": [
        "uva10370 Above Average"
      ],
      "metadata": {
        "id": "hmTZUjUkLeiV"
      }
    },
    {
      "cell_type": "code",
      "source": [
        "#include <iostream>\n",
        "#include <vector>\n",
        "using namespace std;\n",
        "\n",
        "int main(){\n",
        "\tint t;\n",
        "\tcin>>t;\n",
        "\twhile(t--){\n",
        "\t\tvector<int>x;\n",
        "\t\tdouble sum=0;\n",
        "\t\tdouble c,c2;\n",
        "\t\tcin>>c;\n",
        "\t\tc2=c;\n",
        "\t\twhile(c2--){\n",
        "\t\t\tint xx;\n",
        "\t\t\tcin>>xx;\n",
        "\t\t\tx.push_back(xx);\n",
        "\t\t\tsum+=xx;\n",
        "\t\t}\n",
        "\t\tsum/=c;\n",
        "\t\tdouble ans=0;\n",
        "\t\tfor(int i:x)if(i>sum)ans++;\n",
        "\t\tans=ans/c*100;\n",
        "\t\tprintf(\"%.3f%%\\n\",ans);\n",
        "\t}\n",
        "}"
      ],
      "metadata": {
        "id": "mJyKuFl4LicU"
      },
      "execution_count": null,
      "outputs": []
    },
    {
      "cell_type": "markdown",
      "source": [
        "uva10424 Love Calculator"
      ],
      "metadata": {
        "id": "zAwEpXZBLk8x"
      }
    },
    {
      "cell_type": "code",
      "source": [
        "#include<bits/stdc++.h>\n",
        "using namespace std;\n",
        "int main(){\n",
        "  string s1,s2;\n",
        "  while(cin>>s1>>s2){\n",
        "  \tint sum1=0,sum2=0;\n",
        "  \tfor(auto&i:s1)sum1+=tolower(i)-'a'+1;\n",
        "  \tfor(auto&i:s2)sum2+=tolower(i)-'a'+1;\n",
        "  \twhile(sum1>9||sum2>9){\n",
        "  \t\tint t1=0,t2=0;\n",
        "  \t\twhile(sum1){\n",
        "  \t\t\tt1+=sum1%10;\n",
        "  \t\t\tsum1/=10;\n",
        "  \t\t}\n",
        "  \t\twhile(sum2){\n",
        "  \t\t\tt2+=sum2%10;\n",
        "  \t\t\tsum2/=10;\n",
        "  \t\t}\n",
        "  \t\tsum1=t1;sum2=t2;\n",
        "  \t}\n",
        "  \tdouble ans=double (min(sum1,sum2))/max(sum1,sum2)*100;\n",
        "  \tprintf(\"%.2f %%\\n\",ans);\n",
        "  }\n",
        "}"
      ],
      "metadata": {
        "id": "P0_2egr0Lm0x"
      },
      "execution_count": null,
      "outputs": []
    },
    {
      "cell_type": "markdown",
      "source": [
        "uva10469 To Carry or not to Carry"
      ],
      "metadata": {
        "id": "BWoI5n_xLrQ2"
      }
    },
    {
      "cell_type": "code",
      "source": [
        "#include<iostream>\n",
        "using namespace std;\n",
        "int main(){\n",
        "  int a,b;\n",
        "  while(cin>>a>>b){\n",
        "  \tcout<<(a^b)<<endl;\n",
        "  }\n",
        "}"
      ],
      "metadata": {
        "id": "0wDuct9TLtU_"
      },
      "execution_count": null,
      "outputs": []
    },
    {
      "cell_type": "markdown",
      "source": [
        "uva10473 Simple Base Conversion"
      ],
      "metadata": {
        "id": "DnXx4yJbLtua"
      }
    },
    {
      "cell_type": "code",
      "source": [
        "#include<bits/stdc++.h>\n",
        "using namespace std;\n",
        "int main(){\n",
        "  string s;int n;\n",
        "  while(cin>>s,s[0]!='-'){\n",
        "  \tif(s.size()>2&&s[1]=='x'){\n",
        "  \t\tstringstream din(s);\n",
        "  \t\tdin>>hex>>n;\n",
        "  \t\tcout<<dec<<n<<endl;\n",
        "  \t}\n",
        "  \telse{\n",
        "  \t\tstringstream din(s);\n",
        "  \t\tdin>>dec>>n;\n",
        "  \t\tcout<<\"0x\"<<uppercase<<hex<<n<<endl;\n",
        "  \t}\n",
        "  }\n",
        "}"
      ],
      "metadata": {
        "id": "KCNQAjGnLyQW"
      },
      "execution_count": null,
      "outputs": []
    },
    {
      "cell_type": "markdown",
      "source": [
        "uva10573 Geometry Paradox"
      ],
      "metadata": {
        "id": "WkTVA9C_L9s1"
      }
    },
    {
      "cell_type": "code",
      "source": [
        "#include<bits/stdc++.h>\n",
        "using namespace std;\n",
        "int main(){\n",
        "  int t,a,b;cin>>t;getchar();\n",
        "  char s[10005];\n",
        "  while(t--){\n",
        "  \tgets(s);\n",
        "  \tstringstream din(s);\n",
        "  \tif(din>>a>>b){printf(\"%.4f\\n\",a*b*acos(-1)*2);}\n",
        "  \telse{din>>a;printf(\"%.4f\\n\",a*a*acos(-1)/8);}\n",
        "  }\n",
        "}"
      ],
      "metadata": {
        "id": "KZ5DWw00MAMu"
      },
      "execution_count": null,
      "outputs": []
    },
    {
      "cell_type": "markdown",
      "source": [
        "uva10678 The Grazing Cow"
      ],
      "metadata": {
        "id": "XarPICttMB7a"
      }
    },
    {
      "cell_type": "code",
      "source": [
        "#include<bits/stdc++.h>\n",
        "using namespace std;\n",
        "int main(){\n",
        "  double t,a,b,c;cin>>t;\n",
        "  while(cin>>a>>b){\n",
        "  \ta/=2;b/=2;\n",
        "  \tc=sqrt(b*b-a*a);\n",
        "  \tprintf(\"%.3f\\n\",b*c*acos(-1));\n",
        "  }\n",
        "}"
      ],
      "metadata": {
        "id": "Q9QqbKUAMFkA"
      },
      "execution_count": null,
      "outputs": []
    },
    {
      "cell_type": "markdown",
      "source": [
        "uva10696 f91"
      ],
      "metadata": {
        "id": "FDahAFFDMICj"
      }
    },
    {
      "cell_type": "code",
      "source": [
        "#include<iostream>\n",
        "using namespace std;\n",
        "int main(){\n",
        "  int n;\n",
        "  while(cin>>n,n){\n",
        "  \tif(n>=101)cout<<\"f91(\"<<n<<\") = \"<<n-10<<endl;\n",
        "  \telse cout<<\"f91(\"<<n<<\") = 91\"<<endl;\n",
        "  }\n",
        "}"
      ],
      "metadata": {
        "id": "4c5Xaim-MJ_u"
      },
      "execution_count": null,
      "outputs": []
    },
    {
      "cell_type": "markdown",
      "source": [
        "uva10699 Count the factors"
      ],
      "metadata": {
        "id": "HHOTu63LMMR_"
      }
    },
    {
      "cell_type": "code",
      "source": [
        "#include<iostream>\n",
        "using namespace std;\n",
        "int main(){\n",
        "  int n;\n",
        "  while(cin>>n,n){\n",
        "  \tcout<<n<<\" : \";\n",
        "  \tint sum=0;\n",
        "  \tfor(int i=2;i<=n;i++){\n",
        "  \t\tif(n%i==0)sum++;\n",
        "  \t\twhile(n%i==0)n/=i;\n",
        "  \t}\n",
        "  \tcout<<sum<<endl;\n",
        "  }\n",
        "}"
      ],
      "metadata": {
        "id": "rNpwvNK6MQdU"
      },
      "execution_count": null,
      "outputs": []
    },
    {
      "cell_type": "markdown",
      "source": [
        "uva10714 Ants"
      ],
      "metadata": {
        "id": "xoDnDFN2MV7r"
      }
    },
    {
      "cell_type": "code",
      "source": [
        "#include<iostream>\n",
        "using namespace std;\n",
        "int main(){\n",
        "  int t,a,b,c;cin>>t;\n",
        "  while(t--){\n",
        "  \tcin>>a>>b;\n",
        "  \tint min1=0,max1=0;\n",
        "  \twhile(b--){\n",
        "  \t\tcin>>c;\n",
        "  \t\tmin1=max(min1,min(c,a-c));\n",
        "  \t\tmax1=max(max1,max(c,a-c));\n",
        "  \t}\n",
        "  \tcout<<min1<<\" \"<<max1<<endl;\n",
        "  }\n",
        "}"
      ],
      "metadata": {
        "id": "JLGRpj5HMXP_"
      },
      "execution_count": null,
      "outputs": []
    },
    {
      "cell_type": "markdown",
      "source": [
        "uva10925 Krakovia"
      ],
      "metadata": {
        "id": "1doDBbJEMZh8"
      }
    },
    {
      "cell_type": "code",
      "source": [
        "#include<iostream>\n",
        "using namespace std;\n",
        "int main(){\n",
        "  long long int a,b,k=1;\n",
        "  while(cin>>a>>b,a,b){\n",
        "  \tlong long int c,sum=0;\n",
        "  \twhile(a--){\n",
        "  \t\tcin>>c;\n",
        "  \t\tsum+=c;\n",
        "  \t}\n",
        "  \tcout<<\"Bill #\"<<k++<<\" costs \"<<sum<<\": each friend should pay \"<<sum/b<<endl<<endl;\n",
        "  }\n",
        "}"
      ],
      "metadata": {
        "id": "SIiscxI_Mc48"
      },
      "execution_count": null,
      "outputs": []
    },
    {
      "cell_type": "markdown",
      "source": [
        "uva10935 Throwing cards away I"
      ],
      "metadata": {
        "id": "zFNibohFMgvR"
      }
    },
    {
      "cell_type": "code",
      "source": [
        "#include<bits/stdc++.h>\n",
        "using namespace std;\n",
        "int main(){\n",
        "  int n;\n",
        "  while(cin>>n,n){\n",
        "  \tvector<int>x;\n",
        "  \tfor(int i=0;i<n;i++)\n",
        "  \t\tx.push_back(i+1);\n",
        "  \tcout<<\"Discarded cards:\";\n",
        "  \tint t=0;\n",
        "  \twhile(n>1){\n",
        "  \t\tif(t)cout<<\",\";\n",
        "  \t\tcout<<\" \"<<x[t];\n",
        "  \t\tx.push_back(x[t+1]);\n",
        "  \t\tt+=2;n--;\n",
        "  \t}\n",
        "  \tcout<<endl<<\"Remaining card: \"<<x[t]<<endl;\n",
        "  }\n",
        "}"
      ],
      "metadata": {
        "id": "wyeVWpo-MinI"
      },
      "execution_count": null,
      "outputs": []
    },
    {
      "cell_type": "markdown",
      "source": [
        "uva10994 Simple Addition"
      ],
      "metadata": {
        "id": "LGPtMtRhMlDi"
      }
    },
    {
      "cell_type": "code",
      "source": [
        "#include<iostream>\n",
        "using namespace std;\n",
        "int main(){\n",
        "  long long int p,q;\n",
        "  while(cin>>p>>q,p!=-1){\n",
        "  \tlong long int sum=0;\n",
        "  \twhile(p||q){\n",
        "  \t\tsum+=(p%10+q%10)*(q%10-p%10+1)/2;\n",
        "  \t\tsum+=(q/10-p/10)*45;\n",
        "  \t\tif(p%10&&(p/10||q/10))p+=10;\n",
        "  \t\tp/=10;q/=10;\n",
        "  \t}\n",
        "  \tcout<<sum<<endl;\n",
        "  }\n",
        "}"
      ],
      "metadata": {
        "id": "H11JsHAoMoC-"
      },
      "execution_count": null,
      "outputs": []
    },
    {
      "cell_type": "markdown",
      "source": [
        "uva11001 Necklace"
      ],
      "metadata": {
        "id": "tRqUjQOuMzHi"
      }
    },
    {
      "cell_type": "code",
      "source": [
        "#include<iostream>\n",
        "using namespace std;\n",
        "int main(){\n",
        "  int a,b;\n",
        "  while(cin>>a>>b,a,b){\n",
        "  \tint r=a%(b*2);\n",
        "  \tif(r==b)cout<<0<<endl;\n",
        "  \telse if(r<b)cout<<a/(b*2)<<endl;\n",
        "  \telse cout<<a/(b*2)+1<<endl;\n",
        "  }\n",
        "}"
      ],
      "metadata": {
        "id": "GL5EPrJmM0UF"
      },
      "execution_count": null,
      "outputs": []
    },
    {
      "cell_type": "markdown",
      "source": [
        "uva11044 Searching for Nessy"
      ],
      "metadata": {
        "id": "cot-2ujjM3n8"
      }
    },
    {
      "cell_type": "code",
      "source": [
        "#include<iostream>\n",
        "using namespace std;\n",
        "int main(){\n",
        "  int t,a,b;cin>>t;\n",
        "  while(cin>>a>>b){\n",
        "  \tcout<<(a/3)*(b/3)<<endl;\n",
        "  }\n",
        "}"
      ],
      "metadata": {
        "id": "WhTwl-3fM4-m"
      },
      "execution_count": null,
      "outputs": []
    },
    {
      "cell_type": "markdown",
      "source": [
        "uva11059 Maximum Product"
      ],
      "metadata": {
        "id": "Y-qvCOUAM9hg"
      }
    },
    {
      "cell_type": "code",
      "source": [
        "#include<iostream>\n",
        "using namespace std;\n",
        "int main(){\n",
        "  long long int t,s[18],p,k=1,max=0;\n",
        "  while(cin>>t){\n",
        "  \tfor(int i=0;i<t;i++)\n",
        "  \t\tcin>>s[i];\n",
        "  \tfor(int i=0;i<t;i++){\n",
        "  \t\tp=1;\n",
        "  \t\tfor(int j=i;j<t;j++){\n",
        "  \t\t\tp*=s[j];\n",
        "  \t\t\tif(p>max)max=p;\n",
        "  \t\t}\n",
        "  \t}\n",
        "  \tcout<<\"Case #\"<<k++<<\": The maximum product is \"<<max<<\".\\n\\n\";\n",
        "  }\n",
        "}"
      ],
      "metadata": {
        "id": "QOYr7kqQM-wP"
      },
      "execution_count": null,
      "outputs": []
    },
    {
      "cell_type": "markdown",
      "source": [
        "uva11172 Relational Operators"
      ],
      "metadata": {
        "id": "xDj4rYYqNC4E"
      }
    },
    {
      "cell_type": "code",
      "source": [
        "#include<iostream>\n",
        "using namespace std;\n",
        "int main(){\n",
        "  int t,a,b;cin>>t;\n",
        "  while(cin>>a>>b){\n",
        "  \tif(a<b)cout<<\"<\"<<endl;\n",
        "  \telse if(a==b)cout<<\"=\"<<endl;\n",
        "  \telse cout<<\">\"<<endl;\n",
        "  }\n",
        "}"
      ],
      "metadata": {
        "id": "1pv_P03xNFis"
      },
      "execution_count": null,
      "outputs": []
    },
    {
      "cell_type": "markdown",
      "source": [
        "uva11309 COUNTING CHAOS"
      ],
      "metadata": {
        "id": "3vblYMdANHv7"
      }
    },
    {
      "cell_type": "code",
      "source": [
        "#include <iostream>\n",
        "#include <iomanip>\n",
        "using namespace std;\n",
        "\n",
        "int main() {\n",
        "    int T, hh, mm;\n",
        "    string s;\n",
        "    cin >> T;\n",
        "    while (T--){\n",
        "        cin >> s;\n",
        "        int minute = (s[0] - '0') * 600 + (s[1] - '0') * 60 + (s[3] - '0') * 10 + (s[4] - '0');\n",
        "        while (1){\n",
        "            minute++;\n",
        "            if (minute >= 1440) minute = 0;\n",
        "            hh = minute / 60;\n",
        "            mm = minute % 60;\n",
        "            if (hh == 0){\n",
        "                if (mm < 10 || (mm / 10 == mm % 10)){\n",
        "                    break;\n",
        "                }\n",
        "            } else if (hh < 10){\n",
        "                if (hh == mm % 10){\n",
        "                    break;\n",
        "                }\n",
        "            } else {\n",
        "                if ((hh/10 == mm%10) && (hh%10 == mm/10)){\n",
        "                    break;\n",
        "                }\n",
        "            }\n",
        "        }\n",
        "        cout << setw(2) << setfill('0') << hh << \":\"\n",
        "        << setw(2) << setfill('0') << mm << \"\\n\";\n",
        "    }\n",
        "}"
      ],
      "metadata": {
        "id": "EpD5lSS1NJHn"
      },
      "execution_count": null,
      "outputs": []
    },
    {
      "cell_type": "markdown",
      "source": [
        "uva11313 GOURMET GAMES"
      ],
      "metadata": {
        "id": "AcMPvrqBNM4x"
      }
    },
    {
      "cell_type": "code",
      "source": [
        "#include<iostream>\n",
        "using namespace std;\n",
        "int main(){\n",
        "  int t,a,b;cin>>t;\n",
        "  while(cin>>a>>b){\n",
        "  \tif((a-b)%(b-1)==0)cout<<(a-b)/(b-1)+1<<endl;\n",
        "  \telse cout<<\"cannot do this\"<<endl;\n",
        "  }\n",
        "}"
      ],
      "metadata": {
        "id": "BlnNyq5pNOP2"
      },
      "execution_count": null,
      "outputs": []
    },
    {
      "cell_type": "markdown",
      "source": [
        "uva11342 Three-Square"
      ],
      "metadata": {
        "id": "mqkmF2PCNP70"
      }
    },
    {
      "cell_type": "code",
      "source": [
        "#include<bits/stdc++.h>\n",
        "using namespace std;\n",
        "int main(){\n",
        "  int t,n;cin>>t;\n",
        "  while(cin>>n){\n",
        "  \tbool p=true;\n",
        "  \tif(p){\n",
        "  \t\tfor(int i=0;i<sqrt(n);i++){\n",
        "  \t\t\tif(p){\n",
        "  \t\t\t\tfor(int j=0;j<sqrt(n);j++){\n",
        "  \t\t\t\t\tif(p){\n",
        "  \t\t\t\t\t\tfor(int k=0;k<sqrt(n);k++){\n",
        "  \t\t\t\t\t\t\tif(i*i+j*j+k*k==n){\n",
        "  \t\t\t\t\t\t\t\tcout<<i<<\" \"<<j<<\" \"<<k<<endl;\n",
        "  \t\t\t\t\t\t\t\tp=false;\n",
        "  \t\t\t\t\t\t\t}\n",
        "  \t\t\t\t\t\t}\n",
        "  \t\t\t\t\t}\n",
        "  \t\t\t\t}\n",
        "  \t\t\t}\n",
        "  \t\t}\n",
        "  \t}\n",
        "  \tif(p)cout<<-1<<endl;\n",
        "  }\n",
        "}"
      ],
      "metadata": {
        "id": "I507NcYwNSAd"
      },
      "execution_count": null,
      "outputs": []
    },
    {
      "cell_type": "markdown",
      "source": [
        "uva11428 Cubes"
      ],
      "metadata": {
        "id": "AgyGTYcSNUXt"
      }
    },
    {
      "cell_type": "code",
      "source": [
        "#include<iostream>\n",
        "using namespace std;\n",
        "int main(){\n",
        "  int t,n;\n",
        "  while(cin>>t,t){\n",
        "  \tn=t;bool p=true;\n",
        "  \tif(t>1000)n=t/10;\n",
        "  \tif(p){\n",
        "  \t\tfor(int i=0;i<n;i++){\n",
        "  \t\t\tif(p){\n",
        "  \t\t\t\tfor(int j=i;j>0;j--){\n",
        "  \t\t\t\t\tif(i*i*i-j*j*j==t){\n",
        "  \t\t\t\t\t\tcout<<i<<\" \"<<j<<endl;\n",
        "  \t\t\t\t\t\tp=false;\n",
        "  \t\t\t\t\t}\n",
        "  \t\t\t\t}\n",
        "  \t\t\t}\n",
        "  \t\t}\n",
        "  \t}\n",
        "  \tif(p)cout<<\"No solution\"<<endl;\n",
        "  }\n",
        "}"
      ],
      "metadata": {
        "id": "2zCJG9CoNW4k"
      },
      "execution_count": null,
      "outputs": []
    },
    {
      "cell_type": "markdown",
      "source": [
        "uva11470 Square Sums"
      ],
      "metadata": {
        "id": "TIdDP8ysNcDJ"
      }
    },
    {
      "cell_type": "code",
      "source": [
        "#include<iostream>\n",
        "using namespace std;\n",
        "int n, n2, i, j, sum, tc=0;\n",
        "int sq[11][11];\n",
        "int main(){\n",
        "\twhile( cin >> n, n ){\n",
        "\t\tn2 = n/2;\n",
        "\t\tfor( i=0; i<n; ++i ){\n",
        "\t\t\tfor( j=0; j<n; ++j ){\n",
        "\t\t\t\tcin >> sq[i][j];\n",
        "\t\t\t}\n",
        "\t\t}\n",
        "\t\tcout << \"Case \" << ++tc << ':';\n",
        "\t\tfor( i=0; i<n2; ++i ){\n",
        "\t\t\tsum = 0;\n",
        "\t\t\tfor( j=i; j<n-i; ++j ){\n",
        "\t\t\t\tsum += sq[i][j];\n",
        "\t\t\t\tsum += sq[n-i-1][j];\n",
        "\t\t\t}\n",
        "\t\t\tfor( j=i+1; j<n-i-1; ++j ){\n",
        "\t\t\t\tsum += sq[j][i];\n",
        "\t\t\t\tsum += sq[j][n-i-1];\n",
        "\t\t\t}\n",
        "\t\t\tcout << ' ' << sum;\n",
        "\t\t}\n",
        "\t\tif( n%2 ){\n",
        "\t\t\tcout << ' ' << sq[n2][n2];\n",
        "\t\t}\n",
        "\t\tcout << endl;\n",
        "\t}\n",
        "}"
      ],
      "metadata": {
        "id": "iatXR8SKNeYO"
      },
      "execution_count": null,
      "outputs": []
    },
    {
      "cell_type": "markdown",
      "source": [
        "uva11483 Code Creator"
      ],
      "metadata": {
        "id": "kE7MtS7bNoeq"
      }
    },
    {
      "cell_type": "code",
      "source": [
        "#include<bits/stdc++.h>\n",
        "using namespace std;\n",
        "int main(){\n",
        "  int n,k=1;cin>>n;\n",
        "  while(n){\n",
        "  \tcout<<\"Case \"<<k++<<\":\\n\"<<\"#include<string.h>\\n\"<<\"#include<stdio.h>\\n\"<<\"int main()\\n\"<<\"{\"<<endl;\n",
        "  \tstring s;getline(cin,s);\n",
        "  \tfor(int i=0;i<n;i++){\n",
        "  \t\tgetline(cin,s);\n",
        "  \t\tcout<<\"printf(\\\"\" ;\n",
        "  \t\tfor(int j=0;j<s.size();j++){\n",
        "  \t\t\tif(s[j]=='\\\"'||s[j]=='\\\\')cout<<\"\\\\\";\n",
        "  \t\t\tcout<<s[j];\n",
        "  \t\t}\n",
        "  \t\tcout<<\"\\\\n\\\");\" << endl ;\n",
        "\t}\n",
        "\tcout<<\"printf(\\\"\\\\n\\\");\\nreturn 0;\\n}\\n\";\n",
        "\tcin>>n;\n",
        "  }\n",
        "}"
      ],
      "metadata": {
        "id": "lt_LIL7WNqYo"
      },
      "execution_count": null,
      "outputs": []
    },
    {
      "cell_type": "markdown",
      "source": [
        "uva11689 Soda Surpler"
      ],
      "metadata": {
        "id": "nAlqFOsENtnJ"
      }
    },
    {
      "cell_type": "code",
      "source": [
        "#include<iostream>\n",
        "using namespace std;\n",
        "int main(){\n",
        "  int t,a,b,c;cin>>t;\n",
        "  while(cin>>a>>b>>c){\n",
        "  \tint add=a+b,sum=0;\n",
        "  \twhile(add>=c){\n",
        "  \t\tadd=add-c+1;\n",
        "  \t\tsum++;\n",
        "  \t}\n",
        "  \tcout<<sum<<endl;\n",
        "  }\n",
        "}"
      ],
      "metadata": {
        "id": "or-TUrSNNyRe"
      },
      "execution_count": null,
      "outputs": []
    },
    {
      "cell_type": "markdown",
      "source": [
        "uva136 Ugly Number"
      ],
      "metadata": {
        "id": "Ne4PFrihOQ8h"
      }
    },
    {
      "cell_type": "code",
      "source": [
        "#include <cstdio>\n",
        "#include <algorithm>\n",
        "using namespace std;\n",
        "int main()\n",
        "{\n",
        "    unsigned long long int N[1501];\n",
        "    N[1]=1;\n",
        "    int p2=1,p3=1,p5=1;\n",
        "    for (int n=2; n<=1500; n++){\n",
        "        while (N[p2]*2 <= N[n-1]) p2++;\n",
        "        while (N[p3]*3 <= N[n-1]) p3++;\n",
        "        while (N[p5]*5 <= N[n-1]) p5++;\n",
        "        N[n] = min (N[p2]*2, min (N[p3]*3, N[p5]*5));\n",
        "    }\n",
        "    printf(\"The 1500'th ugly number is %llu.\\n\",N[1500]);\n",
        "}"
      ],
      "metadata": {
        "id": "IFWHfNVJOT3p"
      },
      "execution_count": null,
      "outputs": []
    },
    {
      "cell_type": "markdown",
      "source": [
        "uva256 Quirksome Squares"
      ],
      "metadata": {
        "id": "cCx-pyuiOWMb"
      }
    },
    {
      "cell_type": "code",
      "source": [
        "#include <iostream>\n",
        "#include <iomanip>\n",
        "#include <vector>\n",
        "#include <string>\n",
        "using namespace std;\n",
        "\n",
        "int main() {\n",
        "    vector<vector<string>> ans = {\n",
        "        {\"00\", \"01\", \"81\"},\n",
        "        {\"0000\", \"0001\", \"2025\", \"3025\", \"9801\"},\n",
        "        {\"000000\", \"000001\", \"088209\", \"494209\", \"998001\"},\n",
        "        {\"00000000\", \"00000001\", \"04941729\", \"07441984\", \"24502500\", \"25502500\",\n",
        "         \"52881984\", \"60481729\", \"99980001\"}\n",
        "    };\n",
        "\n",
        "    int t;\n",
        "    while (cin >> t) {\n",
        "        int idx = t / 2 - 1;\n",
        "        for (string& i : ans[idx]) {\n",
        "            cout << i << endl;\n",
        "        }\n",
        "    }\n",
        "}"
      ],
      "metadata": {
        "id": "0PLVjzaWO_hz"
      },
      "execution_count": null,
      "outputs": []
    },
    {
      "cell_type": "markdown",
      "source": [
        "uva305 Joseph"
      ],
      "metadata": {
        "id": "NhMaOe2yPBNN"
      }
    },
    {
      "cell_type": "code",
      "source": [
        "#include <iostream>\n",
        "#include <vector>\n",
        "using namespace std;\n",
        "vector<bool> arr;\n",
        "bool test(int &n, int &k)\n",
        "{\n",
        "     int cur = (n - 1) % (k * 2);\n",
        "     while (arr.size() > k)\n",
        "     {\n",
        "           if (cur < k)\n",
        "                return false;\n",
        "           arr.erase(arr.begin() + cur);\n",
        "           cur += n - 1;\n",
        "           cur %= arr.size();\n",
        "     }\n",
        "     return true;\n",
        "}\n",
        "int main()\n",
        "{\n",
        "     int k;\n",
        "     int ans[14] = { };\n",
        "     for (k = 1; k < 14; k++)\n",
        "     {\n",
        "           int testk;\n",
        "           for (testk = k;; testk++)\n",
        "           {\n",
        "                arr.assign(k * 2, 0);\n",
        "\n",
        "                if (test(testk, k))\n",
        "                     break;\n",
        "           }\n",
        "           ans[k] = testk;\n",
        "     }\n",
        "     while (cin >> k and k)\n",
        "           cout << ans[k] << endl;\n",
        "     return 0;\n",
        "}"
      ],
      "metadata": {
        "id": "r1q3qQe3P45N"
      },
      "execution_count": null,
      "outputs": []
    },
    {
      "cell_type": "markdown",
      "source": [
        "uva382 Perfection"
      ],
      "metadata": {
        "id": "oHV768owP8BN"
      }
    },
    {
      "cell_type": "code",
      "source": [
        "#include<bits/stdc++.h>\n",
        "using namespace std;\n",
        "string s[3] = { \"DEFICIENT\", \"ABUNDANT\", \"PERFECT\" };\n",
        "int cmp(int n) {\n",
        "    int sum = 1;\n",
        "    for (int i = 2; i < n; ++i) {\n",
        "        if (n % i == 0) {\n",
        "            sum += i;\n",
        "        }\n",
        "    }\n",
        "    if (sum < n) {\n",
        "        return 0;\n",
        "    }\n",
        "    else if (sum > n) {\n",
        "        return 1;\n",
        "    }\n",
        "    else {\n",
        "        return 2;\n",
        "    }\n",
        "}"
      ],
      "metadata": {
        "id": "ci_M1w4UQKvK"
      },
      "execution_count": null,
      "outputs": []
    },
    {
      "cell_type": "markdown",
      "source": [
        "uva386 Perfect Cubes"
      ],
      "metadata": {
        "id": "BH4gF-CMQXSo"
      }
    },
    {
      "cell_type": "code",
      "source": [
        "#include <iostream>\n",
        "#include <cstdio>\n",
        "using namespace std;\n",
        "\n",
        "int main(){\n",
        "  for( int a = 2 ; a <= 200 ; ++a ){\n",
        "    for( int b = 2 ; b < a ; ++b ){\n",
        "      for( int c = b ; c < a ; ++c ){\n",
        "        for( int d = c ; d < a ; ++d ){\n",
        "          if( a*a*a == b*b*b + c*c*c + d*d*d ){\n",
        "            printf( \"Cube = %d, Triple = (%d,%d,%d)\\n\", a, b, c, d );\n",
        "          }\n",
        "        }\n",
        "      }\n",
        "    }\n",
        "  }\n",
        "  return 0;\n",
        "}"
      ],
      "metadata": {
        "id": "chPS7CS7QY1o"
      },
      "execution_count": null,
      "outputs": []
    },
    {
      "cell_type": "markdown",
      "source": [
        "uva476 Points in Figures: Rectangles"
      ],
      "metadata": {
        "id": "6ac6ilQlQbv_"
      }
    },
    {
      "cell_type": "code",
      "source": [
        "#include <iostream>\n",
        "\n",
        "#define Max 20\n",
        "\n",
        "using namespace std;\n",
        "\n",
        "int main() {\n",
        "    int flag = 1;\n",
        "    double lx[Max], ly[Max], rx[Max], ry[Max];\n",
        "    char ch;\n",
        "    double x, y;\n",
        "\n",
        "    int cnt = 0;\n",
        "    while (cin >> ch) {\n",
        "        if (ch == 'r') {\n",
        "            cin >> lx[cnt] >> ly[cnt] >> rx[cnt] >> ry[cnt];\n",
        "            cnt++;\n",
        "        }\n",
        "        else {\n",
        "            break;\n",
        "        }\n",
        "    }\n",
        "\n",
        "    int num = 1;\n",
        "    while (cin >> x >> y) {\n",
        "        if (x == 9999.9 && y == 9999.9)\n",
        "            break;\n",
        "        flag = 0;\n",
        "        for (int i = 0; i < cnt; i++) {\n",
        "            if (x > lx[i] && x < rx[i] && y < ly[i] && y > ry[i]) {\n",
        "                flag = 1;\n",
        "                cout << \"Point \" << num << \" is contained in figure \" << i + 1 << endl;\n",
        "            }\n",
        "        }\n",
        "        if (!flag)\n",
        "            cout << \"Point \" << num << \" is not contained in any figure\" << endl;\n",
        "\n",
        "        num++;\n",
        "    }\n",
        "\n",
        "    return 0;\n",
        "}"
      ],
      "metadata": {
        "id": "HRgvhAKYRNNI"
      },
      "execution_count": null,
      "outputs": []
    },
    {
      "cell_type": "markdown",
      "source": [
        "uva737 Gleaming the Cubes"
      ],
      "metadata": {
        "id": "aj4_DwkURQhD"
      }
    },
    {
      "cell_type": "code",
      "source": [
        "#include <cmath>\n",
        "#include <iostream>\n",
        "#include <algorithm>\n",
        "using namespace std;\n",
        "int main() {\n",
        "    int n, x, y, z, d;\n",
        "    while(scanf(\"%d\", &n) == 1 && n) {\n",
        "        int lx, ly, lz, rx, ry, rz;\n",
        "        scanf(\"%d %d %d %d\", &x, &y, &z, &d);\n",
        "        lx = x, ly = y, lz = z;\n",
        "        rx = x+d, ry = y+d, rz = z+d;\n",
        "        n--;\n",
        "        while(n--) {\n",
        "            scanf(\"%d %d %d %d\", &x, &y, &z, &d);\n",
        "            lx = max(lx, x);\n",
        "            ly = max(ly, y);\n",
        "            lz = max(lz, z);\n",
        "            rx = min(rx, x+d);\n",
        "            ry = min(ry, y+d);\n",
        "            rz = min(rz, z+d);\n",
        "        }\n",
        "        long long ans;\n",
        "        ans = max(0, (rx-lx)*(ry-ly)*(rz-lz));\n",
        "        printf(\"%lld\\n\", ans);\n",
        "    }\n",
        "    return 0;\n",
        "}"
      ],
      "metadata": {
        "id": "dW_CydAuSGfM"
      },
      "execution_count": null,
      "outputs": []
    },
    {
      "cell_type": "markdown",
      "source": [
        "uva10079 Pizza Cutting"
      ],
      "metadata": {
        "id": "1PvSV6bdTH2s"
      }
    },
    {
      "cell_type": "code",
      "source": [
        "#include<iostream>\n",
        "using namespace std;\n",
        "int main(){\n",
        "    long long n;\n",
        "    while(cin>>n,n){\n",
        "        cout<<1+n*(n+1)/2<<endl;\n",
        "    }\n",
        "}"
      ],
      "metadata": {
        "id": "t3LQqJO9TJpk"
      },
      "execution_count": null,
      "outputs": []
    },
    {
      "cell_type": "markdown",
      "source": [
        "uva10107 What is the Median?"
      ],
      "metadata": {
        "id": "-6yHRYDwTnzj"
      }
    },
    {
      "cell_type": "code",
      "source": [
        "#include <algorithm>\n",
        "#include <iostream>\n",
        "using namespace std;\n",
        "long long int Data[10005];\n",
        "int main() {\n",
        "    int n, i = 0;\n",
        "    while (cin >> n) {\n",
        "        Data[i++] = n;\n",
        "        sort(Data, Data + i);\n",
        "        if (i % 2 == 1)cout << Data[i / 2] << endl;\n",
        "        else cout << (Data[i / 2] + Data[i / 2 - 1]) / 2 << endl;\n",
        "    }\n",
        "}"
      ],
      "metadata": {
        "id": "F6dSFOviTp8-"
      },
      "execution_count": null,
      "outputs": []
    },
    {
      "cell_type": "markdown",
      "source": [
        "uva10126 Zipf's Law"
      ],
      "metadata": {
        "id": "v5bGkxfVTtVF"
      }
    },
    {
      "cell_type": "code",
      "source": [
        "#include<iostream>\n",
        "#include<map>\n",
        "#include<cctype>\n",
        "#include<algorithm>\n",
        "using namespace std;\n",
        "map<string, int> m;\n",
        "map<string, int>::iterator it;\n",
        "string buf, word;\n",
        "int n, i;\n",
        "bool found, f=false;\n",
        "int main(){\n",
        "\twhile( cin >> n ){\n",
        "\t\tif( f ) cout << endl;\n",
        "\t\tf = true;\n",
        "\t\tm.clear();\n",
        "\t\twhile( cin >> buf ){\n",
        "\t\t\ttransform( buf.begin(), buf.end(), buf.begin(), ::tolower );\n",
        "\t\t\tif( buf==\"endoftext\" ) break;\n",
        "\t\t\tfor( i=0; i<buf.size(); ++i ){\n",
        "\t\t\t\tif( islower( buf[i] ) ){\n",
        "\t\t\t\t\tword.clear();\n",
        "\t\t\t\t\tdo{\n",
        "\t\t\t\t\t\tword.push_back( buf[i] );\n",
        "\t\t\t\t\t\t++i;\n",
        "\t\t\t\t\t} while( i<buf.length() && islower( buf[i] ) );\n",
        "\t\t\t\t\t++m[word];\n",
        "\t\t\t\t}\n",
        "\t\t\t}\n",
        "\t\t}\n",
        "\t\tfound = false;\n",
        "\t\tfor( it=m.begin(); it!=m.end(); ++it ){\n",
        "\t\t\tif( it->second == n ){\n",
        "\t\t\t\tcout << it->first << endl;\n",
        "\t\t\t\tfound = true;\n",
        "\t\t\t}\n",
        "\t\t}\n",
        "\t\tif( !found ) cout << \"There is no such word.\" << endl;\n",
        "\t}\n",
        "}"
      ],
      "metadata": {
        "id": "VT_xOaQHUHDt"
      },
      "execution_count": null,
      "outputs": []
    },
    {
      "cell_type": "markdown",
      "source": [
        "uva10499 The Land of Justice"
      ],
      "metadata": {
        "id": "2tA2_f3uWa0t"
      }
    },
    {
      "cell_type": "code",
      "source": [
        "#include<iostream>\n",
        "using namespace std;\n",
        "\n",
        "int main()\n",
        "{\n",
        "\tlong long n;\n",
        "\twhile(cin>>n)\n",
        "\t{\n",
        "\t\tif(n<=0)\n",
        "\t\tbreak;\n",
        "\t\tif(n==1)\n",
        "\t\t\tcout<<\"0%\"<<endl;\n",
        "\t\telse\n",
        "\t\t\tcout<<n*25<<\"%\"<<endl;\n",
        "\t}\n",
        "}"
      ],
      "metadata": {
        "id": "nH-N6rfFWeEt"
      },
      "execution_count": null,
      "outputs": []
    },
    {
      "cell_type": "markdown",
      "source": [
        "uva10703 Free spots"
      ],
      "metadata": {
        "id": "uNODXy3tXIKl"
      }
    },
    {
      "cell_type": "code",
      "source": [
        "#include <iostream>\n",
        "#include <vector>\n",
        "#include <algorithm>\n",
        "using namespace std;\n",
        "\n",
        "int main()\n",
        "{\n",
        "    int W, H, N;\n",
        "    while (cin >> W >> H >> N, W != 0)\n",
        "    {\n",
        "        vector<vector<int> > board(W, vector<int>(H, 0));\n",
        "        int emptySpots = W * H;\n",
        "        for (int i = 0; i < N; ++i)\n",
        "        {\n",
        "            int X1, Y1, X2, Y2;\n",
        "            cin >> X1 >> Y1 >> X2 >> Y2;\n",
        "            for (int x = min(X1, X2) - 1; x <= max(X1, X2) - 1; ++x)\n",
        "                for (int y = min(Y1, Y2) - 1; y <= max(Y1, Y2) - 1; ++y)\n",
        "                {\n",
        "                    if (board[x][y] == 0)\n",
        "                    {\n",
        "                        --emptySpots;\n",
        "                        board[x][y] = 1;\n",
        "                    }\n",
        "                }\n",
        "        }\n",
        "        if (emptySpots == 0)\n",
        "            cout << \"There is no empty spots.\" << endl;\n",
        "        else if (emptySpots == 1)\n",
        "            cout << \"There is one empty spot.\" << endl;\n",
        "        else\n",
        "            cout << \"There are \"\n",
        "                 << emptySpots\n",
        "                 << \" empty spots.\"\n",
        "                 << endl;\n",
        "    }\n",
        "    return 0;\n",
        "}"
      ],
      "metadata": {
        "id": "OjMaqxEVXJ5x"
      },
      "execution_count": null,
      "outputs": []
    },
    {
      "cell_type": "markdown",
      "source": [
        "其他10323、10340、10393、10443、10585、10879![image.png](data:image/png;base64,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)"
      ],
      "metadata": {
        "id": "3fKT2HE9UKqf"
      }
    },
    {
      "cell_type": "markdown",
      "source": [
        "以上剛考過/較複雜/較難 不大可能再考出來在此省略"
      ],
      "metadata": {
        "id": "84VXGvhEYBPb"
      }
    },
    {
      "cell_type": "markdown",
      "source": [
        "其他懶得貼的:"
      ],
      "metadata": {
        "id": "cutOfpe2ZEvt"
      }
    },
    {
      "cell_type": "code",
      "source": [
        "//10107\n",
        "#include <algorithm>\n",
        "#include <iostream>\n",
        "using namespace std;\n",
        "long long int Data[10005];\n",
        "int main() {\n",
        "    int n, i = 0;\n",
        "    while (cin >> n) {\n",
        "        Data[i++] = n;\n",
        "        sort(Data, Data + i);\n",
        "        if (i % 2 == 1)cout << Data[i / 2] << endl;\n",
        "        else cout << (Data[i / 2] + Data[i / 2 - 1]) / 2 << endl;\n",
        "    }\n",
        "}\n",
        "\n",
        "//256\n",
        "#include <iostream>\n",
        "#include <iomanip>\n",
        "#include <vector>\n",
        "#include <string>\n",
        "using namespace std;\n",
        "\n",
        "int main() {\n",
        "    vector<vector<string>> ans = {\n",
        "        {\"00\", \"01\", \"81\"},\n",
        "        {\"0000\", \"0001\", \"2025\", \"3025\", \"9801\"},\n",
        "        {\"000000\", \"000001\", \"088209\", \"494209\", \"998001\"},\n",
        "        {\"00000000\", \"00000001\", \"04941729\", \"07441984\", \"24502500\", \"25502500\",\n",
        "         \"52881984\", \"60481729\", \"99980001\"}\n",
        "    };\n",
        "\n",
        "    int t;\n",
        "    while (cin >> t) {\n",
        "        int idx = t / 2 - 1;\n",
        "        for (string& i : ans[idx]) {\n",
        "            cout << i << endl;\n",
        "        }\n",
        "    }\n",
        "}\n",
        "\n",
        "//11639\n",
        "#include <bits/stdc++.h>\n",
        "using namespace std;\n",
        "\n",
        "struct f {\n",
        "    int x1, x2, y1, y2;\n",
        "};\n",
        "\n",
        "int main() {\n",
        "    int t;\n",
        "    f G1, G2;\n",
        "    cin >> t;\n",
        "    for (int i = 1; i <= t; i++) {\n",
        "        cin >> G1.x1 >> G1.y1 >> G1.x2 >> G1.y2;\n",
        "        cin >> G2.x1 >> G2.y1 >> G2.x2 >> G2.y2;\n",
        "        int strong = 0;\n",
        "        if (max(G1.x1, G2.x1) < min(G1.x2, G2.x2) && max(G1.y1, G2.y1) < min(G1.y2, G2.y2)) {\n",
        "            strong = (min(G1.x2, G2.x2) - max(G1.x1, G2.x1)) * (min(G1.y2, G2.y2) - max(G1.y1, G2.y1));\n",
        "        }\n",
        "        int weak = (G1.x2 - G1.x1) * (G1.y2 - G1.y1) + (G2.x2 - G2.x1) * (G2.y2 - G2.y1) - 2 * strong;\n",
        "        cout << \"Night \" << i << \": \";\n",
        "        cout << strong << \" \" << weak << \" \" << 10000 - strong - weak << \"\\n\";\n",
        "    }\n",
        "}\n",
        "\n",
        "//11713\n",
        "#include <iostream>\n",
        "#include <string>\n",
        "using namespace std;\n",
        "\n",
        "bool isVowel(char c) {\n",
        "    return c == 'a' || c == 'e' || c == 'i' || c == 'o' || c == 'u';\n",
        "}\n",
        "\n",
        "int main() {\n",
        "    int n;\n",
        "    while (cin >> n) {\n",
        "        getchar();\n",
        "        for (int i = 1; i <= n; i++) {\n",
        "            string a, b;getline(cin, a);getline(cin, b);\n",
        "            if (a.size() != b.size()) {\n",
        "                cout << \"No\" << endl; continue;\n",
        "            }\n",
        "            bool p = true;\n",
        "            for (int j = 0; j < a.size(); j++) {\n",
        "                if (a[j] != b[j] && (!isVowel(a[j]) || !isVowel(b[j]))) {\n",
        "                    p = false;\n",
        "                    break;\n",
        "                }\n",
        "            }\n",
        "            cout << (p ? \"Yes\" : \"No\") << endl;\n",
        "        }\n",
        "    }\n",
        "}\n",
        "\n",
        "//12149\n",
        "#include <iostream>\n",
        "using namespace std;\n",
        "int main() {\n",
        "    int n;\n",
        "    while (cin >> n , n) {\n",
        "        cout << n * (n + 1) * (2 * n + 1) / 6 << endl;\n",
        "    }\n",
        "}\n",
        "\n",
        "//12439\n",
        "#include <iostream>\n",
        "#include <string>\n",
        "using namespace std;\n",
        "\n",
        "int main() {\n",
        "    int T;\n",
        "    string month;\n",
        "    int day, year;\n",
        "    int t1, t2;\n",
        "    while (cin >> T) {\n",
        "        for (int i = 1; i <= T; i++) {\n",
        "            cin >> month >> day;\n",
        "            getchar();\n",
        "            cin >> year;\n",
        "\n",
        "            if ((month[0] == 'J' && month[1] == 'a') || month[0] == 'F') year--;\n",
        "            t1 = year / 4 - year / 100 + year / 400;\n",
        "\n",
        "            cin >> month >> day;\n",
        "            getchar();\n",
        "            cin >> year;\n",
        "\n",
        "            if ((month[0] == 'J' && month[1] == 'a') || month[0] == 'F') year--;\n",
        "            if (month[0] == 'F' && day == 29) year++;\n",
        "            t2 = year / 4 - year / 100 + year / 400;\n",
        "\n",
        "            cout << \"Case \" << i << \": \" << t2 - t1 << endl;\n",
        "        }\n",
        "    }\n",
        "}\n",
        "\n",
        "//382\n",
        "#include<bits/stdc++.h>\n",
        "using namespace std;\n",
        "string s[3] = { \"DEFICIENT\", \"ABUNDANT\", \"PERFECT\" };\n",
        "int cmp(int n) {\n",
        "    int sum = 1;\n",
        "    for (int i = 2; i < n; ++i) {\n",
        "        if (n % i == 0) {\n",
        "            sum += i;\n",
        "        }\n",
        "    }\n",
        "    if (sum < n) {\n",
        "        return 0;\n",
        "    }\n",
        "    else if (sum > n) {\n",
        "        return 1;\n",
        "    }\n",
        "    else {\n",
        "        return 2;\n",
        "    }\n",
        "}\n",
        "\n",
        "int main() {\n",
        "    int n;\n",
        "    cout << \"PERFECTION OUTPUT\" << endl;\n",
        "    while (cin >> n) {\n",
        "        if (n == 0) {\n",
        "            cout << \"END OF OUTPUT\" << endl;\n",
        "            break;\n",
        "        }\n",
        "        if (n == 1) {\n",
        "            cout << setw(5) << right << n << \"  \" << \"DEFICIENT\" << endl;\n",
        "            continue;\n",
        "        }\n",
        "        int ans = cmp(n);\n",
        "        cout << setw(5) << right << n << \"  \" << s[ans] << endl;\n",
        "\n",
        "    }\n",
        "}\n",
        "\n",
        "\n",
        "\n",
        "\n",
        "\n",
        "\n",
        "\n",
        "\n",
        "\n",
        "\n",
        "//10703\n",
        "\n",
        "#include <iostream>\n",
        "#include <algorithm>\n",
        "using namespace std;\n",
        "int board[500][500];\n",
        "int main(){\n",
        "    int W, H, N;\n",
        "    while (cin >> W >> H >> N, W ){\n",
        "        for (int i = 0; i < W; i++)\n",
        "            for (int j = 0; j < H; j++)\n",
        "                board[i][j] = 0;\n",
        "\n",
        "        int emptySpots = W * H;\n",
        "\n",
        "        while(N--){\n",
        "            int X1, Y1, X2, Y2;\n",
        "            cin >> X1 >> Y1 >> X2 >> Y2;\n",
        "\n",
        "            for (int x = min(X1, X2) - 1; x <= max(X1, X2) - 1; ++x)\n",
        "                for (int y = min(Y1, Y2) - 1; y <= max(Y1, Y2) - 1; ++y)\n",
        "                {\n",
        "                    if (board[x][y] == 0)\n",
        "                    {\n",
        "                        --emptySpots;\n",
        "                        board[x][y] = 1;\n",
        "                    }\n",
        "                }\n",
        "        }\n",
        "\n",
        "        if (emptySpots == 0)\n",
        "            cout << \"There is no empty spots.\" << endl;\n",
        "        else if (emptySpots == 1)\n",
        "            cout << \"There is one empty spot.\" << endl;\n",
        "        else\n",
        "            cout << \"There are \" << emptySpots << \" empty spots.\" << endl;\n",
        "    }\n",
        "}\n",
        "\n",
        "//10879\n",
        "#include <bits/stdc++.h>\n",
        "\n",
        "using namespace std;\n",
        "\n",
        "int main() {\n",
        "    int n, caseno = 0, k, a[2];\n",
        "    cin >> n;\n",
        "    while (n--) {\n",
        "        cin >> k;\n",
        "        for (int i = 2, j = 0; j < 2; i++) {\n",
        "            if (k % i == 0)\n",
        "                a[j++] = i;\n",
        "        }\n",
        "\n",
        "        cout << \"Case #\" << ++caseno << \": \" << k << \" = \" << a[0] << \" * \" << k / a[0] << \" = \"\n",
        "            << a[1] << \" * \" << k / a[1] << endl;\n",
        "    }\n",
        "\n",
        "    return 0;\n",
        "}\n",
        "\n",
        "\n",
        "//10945\n",
        "#include<iostream>\n",
        "#include<string>\n",
        "#include<algorithm>\n",
        "using namespace std;\n",
        "int main() {\n",
        "    string s;\n",
        "    while (getline(cin, s) && s != \"DONE\") {\n",
        "        string s1, s2;\n",
        "        for (int i = 0; i < s.size(); i++) {\n",
        "            if (isalpha(s[i])) {\n",
        "                s1 += tolower(s[i]);\n",
        "            }\n",
        "        }\n",
        "        s2 = s1;\n",
        "        reverse(s1.begin(), s1.end());\n",
        "        if (s1 == s2)\n",
        "            cout << \"You won't be eaten!\" << \"\\n\";\n",
        "        else {\n",
        "            cout << \"Uh oh..\" << \"\\n\";\n",
        "        }\n",
        "    }\n",
        "}\n",
        "\n",
        "//10499\n",
        "#include<iostream>\n",
        "using namespace std;\n",
        "int main() {\n",
        "    long long int n;\n",
        "    while (cin >> n, n > 0) {\n",
        "        if (n == 1)\n",
        "            cout << \"0%\" << endl;\n",
        "        else\n",
        "            cout << n * 25 << \"%\" << endl;\n",
        "    }\n",
        "}\n",
        "\n",
        "//10970\n",
        "#include <iostream>\n",
        "using namespace std;\n",
        "int main() {\n",
        "    int M, N;\n",
        "    while (cin >> M >> N) {\n",
        "        cout << M * N - 1 << endl;\n",
        "    }\n",
        "}\n",
        "\n",
        "//11042\n",
        "#include <iostream>\n",
        "using namespace std;\n",
        "int main() {\n",
        "    int t, a, b;\n",
        "    cin >> t;\n",
        "    while (t--) {\n",
        "        cin >> a >> b;\n",
        "        if (b == 0)\n",
        "            cout << \"1\" << endl;\n",
        "        else if (a == 0)\n",
        "            cout << \"2\" << endl;\n",
        "        else if (abs(a) == abs(b))\n",
        "            cout << \"4\" << endl;\n",
        "        else\n",
        "            cout << \"TOO COMPLICATED\" << endl;\n",
        "    }\n",
        "}\n",
        "\n",
        "//11185\n",
        "#include <iostream>\n",
        "using namespace std;\n",
        "\n",
        "int main() {\n",
        "    int N;\n",
        "    string output;\n",
        "\n",
        "    while (cin >> N && N >= 0) {\n",
        "        output = \"\";\n",
        "        do {\n",
        "            output = char((N % 3) + '0') + output;\n",
        "            N /= 3;\n",
        "        } while (N);\n",
        "        cout << output << endl;\n",
        "    }\n",
        "}\n",
        "\n",
        "//11204\n",
        "#include<iostream>\n",
        "using namespace std;\n",
        "\n",
        "int main()\n",
        "{\n",
        "    int tc;\n",
        "    cin >> tc;\n",
        "    while (tc--)\n",
        "    {\n",
        "        int N, M, number, chance = 1;\n",
        "        cin >> N >> M;\n",
        "        int want[N] = { 0 };\n",
        "        for (int i = 0; i < M; i++)\n",
        "            for (int j = 0; j < N; j++)\n",
        "            {\n",
        "                cin >> number;\n",
        "                if (number == 1)\n",
        "                    want[j]++;\n",
        "            }\n",
        "        for (int j = 0; j < N; j++)\n",
        "        {\n",
        "            if (want[j] > 1)\n",
        "                chance *= want[j];\n",
        "        }\n",
        "        cout << chance << endl;\n",
        "    }\n",
        "}\n",
        "\n",
        "//11387\n",
        "#include <bits/stdc++.h>\n",
        "using namespace std;\n",
        "int main() {\n",
        "    int n;\n",
        "    while (cin >> n && n) {\n",
        "        if (n % 2 || n <= 2) {\n",
        "            cout << \"Impossible\" << endl;\n",
        "        }\n",
        "        else {\n",
        "            int n2 = n / 2;\n",
        "            cout << n2 * 3 << endl;\n",
        "            for (int i = 1; i <= n; i++) {\n",
        "                cout << i << \" \" << (i % n) + 1 << endl;\n",
        "            }\n",
        "            for (int i = 1; i <= n2; i++) {\n",
        "                cout << i << \" \" << i + n2 << endl;\n",
        "            }\n",
        "        }\n",
        "    }\n",
        "}\n",
        "\n",
        "//11388\n",
        "#include <iostream>\n",
        "using namespace std;\n",
        "int main() {\n",
        "    int n;\n",
        "    while (cin >> n) {\n",
        "        for (int i = 0; i < n; i++) {\n",
        "            int G, L;\n",
        "            cin >> G >> L;\n",
        "\n",
        "            if (L % G == 0) {\n",
        "                cout << G << \" \" << L << endl;\n",
        "            }\n",
        "            else {\n",
        "                cout << \"-1\" << endl;\n",
        "            }\n",
        "        }\n",
        "    }\n",
        "    return 0;\n",
        "}\n",
        "\n",
        "//11608\n",
        "#include <iostream>\n",
        "using namespace std;\n",
        "\n",
        "int problem_get[13];\n",
        "int problem_need[13];\n",
        "\n",
        "int main() {\n",
        "    int S, cases = 1;\n",
        "    while (cin >> S && S >= 0) {\n",
        "        for (int i = 1; i <= 12; ++i) {\n",
        "            cin >> problem_get[i];\n",
        "        }\n",
        "        for (int i = 1; i <= 12; ++i) {\n",
        "            cin >> problem_need[i];\n",
        "        }\n",
        "\n",
        "        cout << \"Case \" << cases++ << \":\\n\";\n",
        "        for (int i = 1; i <= 12; ++i) {\n",
        "            if (S >= problem_need[i]) {\n",
        "                cout << \"No problem! :D\" << endl;\n",
        "                S -= problem_need[i];\n",
        "            }\n",
        "            else {\n",
        "                cout << \"No problem. :(\" << endl;\n",
        "            }\n",
        "            S += problem_get[i];\n",
        "        }\n",
        "    }\n",
        "    return 0;\n",
        "}\n",
        "\n",
        "//11547\n",
        "#include <iostream>\n",
        "#include <cstdlib>\n",
        "using namespace std;\n",
        "\n",
        "int main() {\n",
        "    int t;\n",
        "    while (cin >> t) {\n",
        "        for (int i = 0; i < t; ++i) {\n",
        "            int n;\n",
        "            cin >> n;\n",
        "\n",
        "            cout << abs(((n * 567 / 9 + 7492) * 235 / 47 - 498) / 10 % 10) << endl;\n",
        "        }\n",
        "    }\n",
        "\n",
        "    return 0;\n",
        "}\n",
        "\n",
        "//11494\n",
        "#include<iostream>\n",
        "#include<cstdlib>\n",
        "using namespace std;\n",
        "\n",
        "int main() {\n",
        "    int start_x, start_y;\n",
        "    int finish_x, finish_y;\n",
        "    while (cin >> start_x >> start_y >> finish_x >> finish_y &&\n",
        "        !(start_x == 0 && start_y == 0 && finish_x == 0 && finish_y == 0)) {\n",
        "        if (start_x == finish_x && start_y == finish_y)\n",
        "            cout << \"0\" << endl;\n",
        "        else if (start_x == finish_x || start_y == finish_y ||\n",
        "            abs(finish_x - start_x) == abs(finish_y - start_y))\n",
        "            cout << \"1\" << endl;\n",
        "        else\n",
        "            cout << \"2\" << endl;\n",
        "    }\n",
        "    return 0;\n",
        "}\n",
        "\n",
        "//11479\n",
        "#include <iostream>\n",
        "using namespace std;\n",
        "int main() {\n",
        "    int ts;\n",
        "    cin >> ts;\n",
        "    for (int i = 1; i <= ts; i++) {\n",
        "        long long a, b, c;\n",
        "        cin >> a >> b >> c;\n",
        "        cout << \"Case \" << i << \": \";\n",
        "        if (a <= 0 || b <= 0 || c <= 0)\n",
        "            cout << \"Invalid\" << endl;\n",
        "        else if (a + b <= c || b + c <= a || c + a <= b)\n",
        "            cout << \"Invalid\" << endl;\n",
        "        else if (a == b && b == c)\n",
        "            cout << \"Equilateral\" << endl;\n",
        "        else if (a == b || b == c || c == a)\n",
        "            cout << \"Isosceles\" << endl;\n",
        "        else\n",
        "            cout << \"Scalene\" << endl;\n",
        "    }\n",
        "    return 0;\n",
        "}\n",
        "\n",
        "//11608\n",
        "#include <iostream>\n",
        "using namespace std;\n",
        "\n",
        "int problem_get[13];\n",
        "int problem_need[13];\n",
        "\n",
        "int main() {\n",
        "    int S, cases = 1;\n",
        "    while (cin >> S && S >= 0) {\n",
        "        for (int i = 1; i <= 12; ++i) {\n",
        "            cin >> problem_get[i];\n",
        "        }\n",
        "        for (int i = 1; i <= 12; ++i) {\n",
        "            cin >> problem_need[i];\n",
        "        }\n",
        "\n",
        "        cout << \"Case \" << cases++ << \":\\n\";\n",
        "        for (int i = 1; i <= 12; ++i) {\n",
        "            if (S >= problem_need[i]) {\n",
        "                cout << \"No problem! :D\" << endl;\n",
        "                S -= problem_need[i];\n",
        "            }\n",
        "            else {\n",
        "                cout << \"No problem. :(\" << endl;\n",
        "            }\n",
        "            S += problem_get[i];\n",
        "        }\n",
        "    }\n",
        "    return 0;\n",
        "}\n",
        "\n",
        "\n",
        "//11650\n",
        "#include <bits/stdc++.h>\n",
        "using namespace std;\n",
        "\n",
        "const int H = 12;\n",
        "const int M = 60;\n",
        "\n",
        "int main() {\n",
        "    int t, h, m;\n",
        "    cin >> t;\n",
        "    while (t--) {\n",
        "        char colon;\n",
        "        cin >> h >> colon >> m;\n",
        "        h = H - h - 1 + (m == 0 ? 1 : 0);\n",
        "        if (h <= 0) h += H;\n",
        "        m = (m == 0 ? 0 : M - m);\n",
        "        cout << setw(2) << setfill('0') << h << \":\" << setw(2) << setfill('0') << m << endl;\n",
        "    }\n",
        "    return 0;\n",
        "}\n",
        "\n",
        "//11661\n",
        "#include<iostream>\n",
        "using namespace std;\n",
        "\n",
        "int main() {\n",
        "    int L;\n",
        "    char road, state;\n",
        "    int position, distance;\n",
        "    while (cin >> L && L) {\n",
        "        cin.ignore();\n",
        "        state = '.';\n",
        "        position = -1;\n",
        "        distance = 2000001;\n",
        "        for (int i = 0; i < L; i++) {\n",
        "            road = cin.get();\n",
        "            if (road == 'Z') distance = 0;\n",
        "            if (road != '.') {\n",
        "                if (state != road && state != '.')\n",
        "                    if (i - position < distance) distance = i - position;\n",
        "                state = road;\n",
        "                position = i;\n",
        "            }\n",
        "        }\n",
        "        cout << distance << endl;\n",
        "    }\n",
        "    return 0;\n",
        "}\n",
        "\n",
        "\n",
        "\n",
        "//11727\n",
        "#include <iostream>\n",
        "#include <algorithm>  // for max and min\n",
        "using namespace std;\n",
        "\n",
        "int main() {\n",
        "    int T;\n",
        "    while (cin >> T) {\n",
        "        for (int i = 1; i <= T; ++i) {\n",
        "            int salary[3];\n",
        "            cin >> salary[0] >> salary[1] >> salary[2];\n",
        "            cout << \"Case \" << i << \": \"\n",
        "                << max(min(salary[0], salary[1]), min(max(salary[0], salary[1]), salary[2]))\n",
        "                << endl;\n",
        "        }\n",
        "    }\n",
        "    return 0;\n",
        "}\n",
        "\n",
        "\n",
        "//11777\n",
        "#include <iostream>\n",
        "using namespace std;\n",
        "\n",
        "int main() {\n",
        "    int t, i, a, b, c, d, e, f, g, h, n;\n",
        "    cin >> t;\n",
        "    for (i = 1; i <= t; i++) {\n",
        "        cin >> a >> b >> c >> d >> e >> f >> g;\n",
        "\n",
        "        if (f >= e && e > g) {\n",
        "            h = (e + f) / 2;\n",
        "        }\n",
        "        else if (e >= f && f > g) {\n",
        "            h = (e + f) / 2;\n",
        "        }\n",
        "        else if (f >= g && g > e) {\n",
        "            h = (f + g) / 2;\n",
        "        }\n",
        "        else if (g >= f && f > e) {\n",
        "            h = (g + f) / 2;\n",
        "        }\n",
        "        else {\n",
        "            h = (e + g) / 2;\n",
        "        }\n",
        "\n",
        "        n = a + b + c + d + h;\n",
        "        if (n >= 90)\n",
        "            cout << \"Case \" << i << \": A\" << endl;\n",
        "        else if (n < 90 && n >= 80)\n",
        "            cout << \"Case \" << i << \": B\" << endl;\n",
        "        else if (n < 80 && n >= 70)\n",
        "            cout << \"Case \" << i << \": C\" << endl;\n",
        "        else if (n < 70 && n >= 60)\n",
        "            cout << \"Case \" << i << \": D\" << endl;\n",
        "        else\n",
        "            cout << \"Case \" << i << \": F\" << endl;\n",
        "    }\n",
        "    return 0;\n",
        "}\n",
        "\n",
        "//11827\n",
        "#include <iostream>\n",
        "#include <sstream>\n",
        "using namespace std;\n",
        "\n",
        "int data[101];\n",
        "\n",
        "int gcd(int a, int b) {\n",
        "    return a % b ? gcd(b, a % b) : b;\n",
        "}\n",
        "\n",
        "int main() {\n",
        "    int n;\n",
        "    cin >> n;\n",
        "    cin.ignore(); // 忽略換行符號\n",
        "    while (n--) {\n",
        "        string line;\n",
        "        getline(cin, line);\n",
        "        stringstream ss(line);\n",
        "        int count = 0;\n",
        "        while (ss >> data[count++]);\n",
        "\n",
        "        int max = 1, temp;\n",
        "        for (int i = 0; i < count - 1; ++i) {\n",
        "            for (int j = 0; j < i; ++j) {\n",
        "                temp = gcd(data[i], data[j]);\n",
        "                if (max < temp)\n",
        "                    max = temp;\n",
        "            }\n",
        "        }\n",
        "\n",
        "        cout << max << endl;\n",
        "    }\n",
        "\n",
        "    return 0;\n",
        "}\n",
        "\n",
        "//476\n",
        "#include <iostream>\n",
        "\n",
        "#define Max 20\n",
        "\n",
        "using namespace std;\n",
        "\n",
        "int main() {\n",
        "    int flag = 1;\n",
        "    double lx[Max], ly[Max], rx[Max], ry[Max];\n",
        "    char ch;\n",
        "    double x, y;\n",
        "\n",
        "    int cnt = 0;\n",
        "    while (cin >> ch) {\n",
        "        if (ch == 'r') {\n",
        "            cin >> lx[cnt] >> ly[cnt] >> rx[cnt] >> ry[cnt];\n",
        "            cnt++;\n",
        "        }\n",
        "        else {\n",
        "            break;\n",
        "        }\n",
        "    }\n",
        "\n",
        "    int num = 1;\n",
        "    while (cin >> x >> y) {\n",
        "        if (x == 9999.9 && y == 9999.9)\n",
        "            break;\n",
        "        flag = 0;\n",
        "        for (int i = 0; i < cnt; i++) {\n",
        "            if (x > lx[i] && x < rx[i] && y < ly[i] && y > ry[i]) {\n",
        "                flag = 1;\n",
        "                cout << \"Point \" << num << \" is contained in figure \" << i + 1 << endl;\n",
        "            }\n",
        "        }\n",
        "        if (!flag)\n",
        "            cout << \"Point \" << num << \" is not contained in any figure\" << endl;\n",
        "\n",
        "        num++;\n",
        "    }\n",
        "\n",
        "    return 0;\n",
        "}\n",
        "\n",
        "//10257\n",
        "#include <iostream>\n",
        "using namespace std;\n",
        "\n",
        "int main() {\n",
        "    int s, p, y, j;\n",
        "    while (cin >> s >> p >> y >> j) {\n",
        "        int turtle = (j + 12 - y - p) / 3;\n",
        "        int cat = (j + 12 - s - turtle) / 2;\n",
        "        int dog = (j + 12 - cat - turtle);\n",
        "        cout << dog << \" \" << cat << \" \" << turtle << endl;\n",
        "    }\n",
        "    return 0;\n",
        "}\n",
        "\n",
        "//10340\n",
        "#include<iostream>\n",
        "#include<cstdio>\n",
        "using namespace std;\n",
        "\n",
        "int main() {\n",
        "    string s, t;\n",
        "    while (cin >> s >> t) {\n",
        "        int sindex = 0;\n",
        "        for (int i = 0; i < t.length(); i++) {\n",
        "            if (t[i] == s[sindex]) {\n",
        "                sindex++;\n",
        "                if (sindex == s.length()) break;\n",
        "            }\n",
        "        }\n",
        "        if (sindex == s.length())\n",
        "            printf(\"Yes\\n\");\n",
        "        else\n",
        "            printf(\"No\\n\");\n",
        "    }\n",
        "    return 0;\n",
        "}\n",
        "\n"
      ],
      "metadata": {
        "id": "yPY4Pvc3ZHb1"
      },
      "execution_count": null,
      "outputs": []
    }
  ]
}